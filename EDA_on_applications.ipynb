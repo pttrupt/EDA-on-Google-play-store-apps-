{
  "cells": [
    {
      "cell_type": "markdown",
      "metadata": {
        "id": "view-in-github",
        "colab_type": "text"
      },
      "source": [
        "<a href=\"https://colab.research.google.com/github/pttrupt/EDA-on-Google-play-store-apps-/blob/main/EDA_on_applications.ipynb\" target=\"_parent\"><img src=\"https://colab.research.google.com/assets/colab-badge.svg\" alt=\"Open In Colab\"/></a>"
      ]
    },
    {
      "cell_type": "markdown",
      "id": "da164f10-169d-446a-b786-fa9c9bcfbd22",
      "metadata": {
        "tags": [],
        "id": "da164f10-169d-446a-b786-fa9c9bcfbd22"
      },
      "source": [
        "# Google Play Store Apps Exploratory Data Analysis \n",
        "\n",
        "ToDo - talk about EDA \n",
        "\n",
        "ToDo - talk about dataset(Source, information)\n",
        "* Kaggle \n",
        "* information about applications \n"
      ]
    },
    {
      "cell_type": "markdown",
      "id": "7ecee425-250d-4f0a-b02a-dfb7e3db5561",
      "metadata": {
        "tags": [],
        "id": "7ecee425-250d-4f0a-b02a-dfb7e3db5561"
      },
      "source": [
        "## Download the Dataset\n",
        "\n",
        "- Dataset URL: https://www.kaggle.com/gauthamp10/google-playstore-apps  "
      ]
    },
    {
      "cell_type": "code",
      "execution_count": 1,
      "id": "007c4267-4f16-4b94-ba1b-adcac2f20054",
      "metadata": {
        "id": "007c4267-4f16-4b94-ba1b-adcac2f20054"
      },
      "outputs": [],
      "source": [
        "!pip install opendatasets --upgrade -q"
      ]
    },
    {
      "cell_type": "code",
      "execution_count": 3,
      "id": "4fb7d857-dafe-4b88-a74d-22a5dea21851",
      "metadata": {
        "colab": {
          "base_uri": "https://localhost:8080/"
        },
        "id": "4fb7d857-dafe-4b88-a74d-22a5dea21851",
        "outputId": "9726a32b-1507-4136-f5f0-f5d48c0bb67e"
      },
      "outputs": [
        {
          "output_type": "stream",
          "name": "stdout",
          "text": [
            "Please provide your Kaggle credentials to download this dataset. Learn more: http://bit.ly/kaggle-creds\n",
            "Your Kaggle username: pttrupt\n",
            "Your Kaggle Key: ··········\n",
            "Downloading google-playstore-apps.zip to ./google-playstore-apps\n"
          ]
        },
        {
          "output_type": "stream",
          "name": "stderr",
          "text": [
            "100%|██████████| 207M/207M [00:01<00:00, 113MB/s]\n"
          ]
        },
        {
          "output_type": "stream",
          "name": "stdout",
          "text": [
            "\n"
          ]
        }
      ],
      "source": [
        "import opendatasets as od \n",
        "\n",
        "download_url = 'https://www.kaggle.com/gauthamp10/google-playstore-apps'\n",
        "\n",
        "od.download(download_url)"
      ]
    },
    {
      "cell_type": "code",
      "execution_count": 4,
      "id": "29035a97-393c-479d-8b3c-5d813ef4dc05",
      "metadata": {
        "id": "29035a97-393c-479d-8b3c-5d813ef4dc05"
      },
      "outputs": [],
      "source": [
        "# file path \n",
        "data_file = './google-playstore-apps/Google-Playstore.csv'"
      ]
    },
    {
      "cell_type": "markdown",
      "id": "ea790ef1-80a1-4c27-9054-3e2278498537",
      "metadata": {
        "id": "ea790ef1-80a1-4c27-9054-3e2278498537"
      },
      "source": [
        "## Data Table Display \n",
        "\n",
        "- Enables the Interactive Displays to Panadas DataFrame for Sorting, Filtering and Explore Dynamically \n"
      ]
    },
    {
      "cell_type": "code",
      "execution_count": 86,
      "id": "df858143-9b2b-47c4-81e5-b61f73b9117f",
      "metadata": {
        "id": "df858143-9b2b-47c4-81e5-b61f73b9117f"
      },
      "outputs": [],
      "source": [
        "!pip install google.colab -q"
      ]
    },
    {
      "cell_type": "code",
      "execution_count": 6,
      "id": "cbd03c36-81de-4b7a-bc4f-5b4d7cb2b1a0",
      "metadata": {
        "id": "cbd03c36-81de-4b7a-bc4f-5b4d7cb2b1a0"
      },
      "outputs": [],
      "source": [
        "from google.colab import data_table"
      ]
    },
    {
      "cell_type": "code",
      "execution_count": 7,
      "id": "967188d6-8df7-4907-84a6-24231c34091a",
      "metadata": {
        "id": "967188d6-8df7-4907-84a6-24231c34091a"
      },
      "outputs": [],
      "source": [
        "data_table.enable_dataframe_formatter()"
      ]
    },
    {
      "cell_type": "markdown",
      "id": "6d2ba773-c699-4846-ada8-77e2c01fe273",
      "metadata": {
        "id": "6d2ba773-c699-4846-ada8-77e2c01fe273"
      },
      "source": [
        "## Data Preparation and cleaning \n",
        "\n",
        "* Load the file using Pandas \n",
        "* Look for information about the data \n",
        "* fix incorrect values and any missing values \n",
        "\n",
        "\n"
      ]
    },
    {
      "cell_type": "code",
      "execution_count": 107,
      "id": "c89bff10-6514-4e04-a193-16cfc6cc00cb",
      "metadata": {
        "id": "c89bff10-6514-4e04-a193-16cfc6cc00cb"
      },
      "outputs": [],
      "source": [
        "import pandas as pd \n",
        "import numpy as np\n",
        "import matplotlib.pyplot as plt\n",
        "import seaborn as sns\n",
        "plt.style.use('fivethirtyeight')\n",
        "%matplotlib inline "
      ]
    },
    {
      "cell_type": "code",
      "execution_count": 108,
      "id": "c43ef6c5-efa8-41a8-9664-a53abed410ae",
      "metadata": {
        "id": "c43ef6c5-efa8-41a8-9664-a53abed410ae"
      },
      "outputs": [],
      "source": [
        "# convert csv file into Pandas DataFrame \n",
        "df = pd.read_csv(data_file)"
      ]
    },
    {
      "cell_type": "code",
      "source": [
        "# set options to show all columns of DataFrame \n",
        "pd.options.display.max_columns = len(df.columns)"
      ],
      "metadata": {
        "id": "7d-pm7Dre-66"
      },
      "id": "7d-pm7Dre-66",
      "execution_count": 109,
      "outputs": []
    },
    {
      "cell_type": "code",
      "execution_count": 110,
      "id": "c94687e6-0702-4ebd-a25a-f710f7ec7965",
      "metadata": {
        "colab": {
          "base_uri": "https://localhost:8080/",
          "height": 0
        },
        "id": "c94687e6-0702-4ebd-a25a-f710f7ec7965",
        "outputId": "07c761cf-441c-482e-ce3a-a01d180dac06"
      },
      "outputs": [
        {
          "output_type": "stream",
          "name": "stdout",
          "text": [
            "Warning: Total number of columns (24) exceeds max_columns (20). Falling back to pandas display.\n"
          ]
        },
        {
          "output_type": "execute_result",
          "data": {
            "text/html": [
              "\n",
              "  <div id=\"df-f9b225bd-6b6f-4bd4-b8cf-055e94879285\">\n",
              "    <div class=\"colab-df-container\">\n",
              "      <div>\n",
              "<style scoped>\n",
              "    .dataframe tbody tr th:only-of-type {\n",
              "        vertical-align: middle;\n",
              "    }\n",
              "\n",
              "    .dataframe tbody tr th {\n",
              "        vertical-align: top;\n",
              "    }\n",
              "\n",
              "    .dataframe thead th {\n",
              "        text-align: right;\n",
              "    }\n",
              "</style>\n",
              "<table border=\"1\" class=\"dataframe\">\n",
              "  <thead>\n",
              "    <tr style=\"text-align: right;\">\n",
              "      <th></th>\n",
              "      <th>App Name</th>\n",
              "      <th>App Id</th>\n",
              "      <th>Category</th>\n",
              "      <th>Rating</th>\n",
              "      <th>Rating Count</th>\n",
              "      <th>Installs</th>\n",
              "      <th>Minimum Installs</th>\n",
              "      <th>Maximum Installs</th>\n",
              "      <th>Free</th>\n",
              "      <th>Price</th>\n",
              "      <th>Currency</th>\n",
              "      <th>Size</th>\n",
              "      <th>Minimum Android</th>\n",
              "      <th>Developer Id</th>\n",
              "      <th>Developer Website</th>\n",
              "      <th>Developer Email</th>\n",
              "      <th>Released</th>\n",
              "      <th>Last Updated</th>\n",
              "      <th>Content Rating</th>\n",
              "      <th>Privacy Policy</th>\n",
              "      <th>Ad Supported</th>\n",
              "      <th>In App Purchases</th>\n",
              "      <th>Editors Choice</th>\n",
              "      <th>Scraped Time</th>\n",
              "    </tr>\n",
              "  </thead>\n",
              "  <tbody>\n",
              "    <tr>\n",
              "      <th>0</th>\n",
              "      <td>Gakondo</td>\n",
              "      <td>com.ishakwe.gakondo</td>\n",
              "      <td>Adventure</td>\n",
              "      <td>0.0</td>\n",
              "      <td>0.0</td>\n",
              "      <td>10+</td>\n",
              "      <td>10.0</td>\n",
              "      <td>15</td>\n",
              "      <td>True</td>\n",
              "      <td>0.0</td>\n",
              "      <td>USD</td>\n",
              "      <td>10M</td>\n",
              "      <td>7.1 and up</td>\n",
              "      <td>Jean Confident Irénée NIYIZIBYOSE</td>\n",
              "      <td>https://beniyizibyose.tk/#/</td>\n",
              "      <td>jean21101999@gmail.com</td>\n",
              "      <td>Feb 26, 2020</td>\n",
              "      <td>Feb 26, 2020</td>\n",
              "      <td>Everyone</td>\n",
              "      <td>https://beniyizibyose.tk/projects/</td>\n",
              "      <td>False</td>\n",
              "      <td>False</td>\n",
              "      <td>False</td>\n",
              "      <td>2021-06-15 20:19:35</td>\n",
              "    </tr>\n",
              "    <tr>\n",
              "      <th>1</th>\n",
              "      <td>Ampere Battery Info</td>\n",
              "      <td>com.webserveis.batteryinfo</td>\n",
              "      <td>Tools</td>\n",
              "      <td>4.4</td>\n",
              "      <td>64.0</td>\n",
              "      <td>5,000+</td>\n",
              "      <td>5000.0</td>\n",
              "      <td>7662</td>\n",
              "      <td>True</td>\n",
              "      <td>0.0</td>\n",
              "      <td>USD</td>\n",
              "      <td>2.9M</td>\n",
              "      <td>5.0 and up</td>\n",
              "      <td>Webserveis</td>\n",
              "      <td>https://webserveis.netlify.app/</td>\n",
              "      <td>webserveis@gmail.com</td>\n",
              "      <td>May 21, 2020</td>\n",
              "      <td>May 06, 2021</td>\n",
              "      <td>Everyone</td>\n",
              "      <td>https://dev4phones.wordpress.com/licencia-de-uso/</td>\n",
              "      <td>True</td>\n",
              "      <td>False</td>\n",
              "      <td>False</td>\n",
              "      <td>2021-06-15 20:19:35</td>\n",
              "    </tr>\n",
              "    <tr>\n",
              "      <th>2</th>\n",
              "      <td>Vibook</td>\n",
              "      <td>com.doantiepvien.crm</td>\n",
              "      <td>Productivity</td>\n",
              "      <td>0.0</td>\n",
              "      <td>0.0</td>\n",
              "      <td>50+</td>\n",
              "      <td>50.0</td>\n",
              "      <td>58</td>\n",
              "      <td>True</td>\n",
              "      <td>0.0</td>\n",
              "      <td>USD</td>\n",
              "      <td>3.7M</td>\n",
              "      <td>4.0.3 and up</td>\n",
              "      <td>Cabin Crew</td>\n",
              "      <td>NaN</td>\n",
              "      <td>vnacrewit@gmail.com</td>\n",
              "      <td>Aug 9, 2019</td>\n",
              "      <td>Aug 19, 2019</td>\n",
              "      <td>Everyone</td>\n",
              "      <td>https://www.vietnamairlines.com/vn/en/terms-an...</td>\n",
              "      <td>False</td>\n",
              "      <td>False</td>\n",
              "      <td>False</td>\n",
              "      <td>2021-06-15 20:19:35</td>\n",
              "    </tr>\n",
              "    <tr>\n",
              "      <th>3</th>\n",
              "      <td>Smart City Trichy Public Service Vehicles 17UC...</td>\n",
              "      <td>cst.stJoseph.ug17ucs548</td>\n",
              "      <td>Communication</td>\n",
              "      <td>5.0</td>\n",
              "      <td>5.0</td>\n",
              "      <td>10+</td>\n",
              "      <td>10.0</td>\n",
              "      <td>19</td>\n",
              "      <td>True</td>\n",
              "      <td>0.0</td>\n",
              "      <td>USD</td>\n",
              "      <td>1.8M</td>\n",
              "      <td>4.0.3 and up</td>\n",
              "      <td>Climate Smart Tech2</td>\n",
              "      <td>http://www.climatesmarttech.com/</td>\n",
              "      <td>climatesmarttech2@gmail.com</td>\n",
              "      <td>Sep 10, 2018</td>\n",
              "      <td>Oct 13, 2018</td>\n",
              "      <td>Everyone</td>\n",
              "      <td>NaN</td>\n",
              "      <td>True</td>\n",
              "      <td>False</td>\n",
              "      <td>False</td>\n",
              "      <td>2021-06-15 20:19:35</td>\n",
              "    </tr>\n",
              "    <tr>\n",
              "      <th>4</th>\n",
              "      <td>GROW.me</td>\n",
              "      <td>com.horodyski.grower</td>\n",
              "      <td>Tools</td>\n",
              "      <td>0.0</td>\n",
              "      <td>0.0</td>\n",
              "      <td>100+</td>\n",
              "      <td>100.0</td>\n",
              "      <td>478</td>\n",
              "      <td>True</td>\n",
              "      <td>0.0</td>\n",
              "      <td>USD</td>\n",
              "      <td>6.2M</td>\n",
              "      <td>4.1 and up</td>\n",
              "      <td>Rafal Milek-Horodyski</td>\n",
              "      <td>http://www.horodyski.com.pl</td>\n",
              "      <td>rmilekhorodyski@gmail.com</td>\n",
              "      <td>Feb 21, 2020</td>\n",
              "      <td>Nov 12, 2018</td>\n",
              "      <td>Everyone</td>\n",
              "      <td>http://www.horodyski.com.pl</td>\n",
              "      <td>False</td>\n",
              "      <td>False</td>\n",
              "      <td>False</td>\n",
              "      <td>2021-06-15 20:19:35</td>\n",
              "    </tr>\n",
              "  </tbody>\n",
              "</table>\n",
              "</div>\n",
              "      <button class=\"colab-df-convert\" onclick=\"convertToInteractive('df-f9b225bd-6b6f-4bd4-b8cf-055e94879285')\"\n",
              "              title=\"Convert this dataframe to an interactive table.\"\n",
              "              style=\"display:none;\">\n",
              "        \n",
              "  <svg xmlns=\"http://www.w3.org/2000/svg\" height=\"24px\"viewBox=\"0 0 24 24\"\n",
              "       width=\"24px\">\n",
              "    <path d=\"M0 0h24v24H0V0z\" fill=\"none\"/>\n",
              "    <path d=\"M18.56 5.44l.94 2.06.94-2.06 2.06-.94-2.06-.94-.94-2.06-.94 2.06-2.06.94zm-11 1L8.5 8.5l.94-2.06 2.06-.94-2.06-.94L8.5 2.5l-.94 2.06-2.06.94zm10 10l.94 2.06.94-2.06 2.06-.94-2.06-.94-.94-2.06-.94 2.06-2.06.94z\"/><path d=\"M17.41 7.96l-1.37-1.37c-.4-.4-.92-.59-1.43-.59-.52 0-1.04.2-1.43.59L10.3 9.45l-7.72 7.72c-.78.78-.78 2.05 0 2.83L4 21.41c.39.39.9.59 1.41.59.51 0 1.02-.2 1.41-.59l7.78-7.78 2.81-2.81c.8-.78.8-2.07 0-2.86zM5.41 20L4 18.59l7.72-7.72 1.47 1.35L5.41 20z\"/>\n",
              "  </svg>\n",
              "      </button>\n",
              "      \n",
              "  <style>\n",
              "    .colab-df-container {\n",
              "      display:flex;\n",
              "      flex-wrap:wrap;\n",
              "      gap: 12px;\n",
              "    }\n",
              "\n",
              "    .colab-df-convert {\n",
              "      background-color: #E8F0FE;\n",
              "      border: none;\n",
              "      border-radius: 50%;\n",
              "      cursor: pointer;\n",
              "      display: none;\n",
              "      fill: #1967D2;\n",
              "      height: 32px;\n",
              "      padding: 0 0 0 0;\n",
              "      width: 32px;\n",
              "    }\n",
              "\n",
              "    .colab-df-convert:hover {\n",
              "      background-color: #E2EBFA;\n",
              "      box-shadow: 0px 1px 2px rgba(60, 64, 67, 0.3), 0px 1px 3px 1px rgba(60, 64, 67, 0.15);\n",
              "      fill: #174EA6;\n",
              "    }\n",
              "\n",
              "    [theme=dark] .colab-df-convert {\n",
              "      background-color: #3B4455;\n",
              "      fill: #D2E3FC;\n",
              "    }\n",
              "\n",
              "    [theme=dark] .colab-df-convert:hover {\n",
              "      background-color: #434B5C;\n",
              "      box-shadow: 0px 1px 3px 1px rgba(0, 0, 0, 0.15);\n",
              "      filter: drop-shadow(0px 1px 2px rgba(0, 0, 0, 0.3));\n",
              "      fill: #FFFFFF;\n",
              "    }\n",
              "  </style>\n",
              "\n",
              "      <script>\n",
              "        const buttonEl =\n",
              "          document.querySelector('#df-f9b225bd-6b6f-4bd4-b8cf-055e94879285 button.colab-df-convert');\n",
              "        buttonEl.style.display =\n",
              "          google.colab.kernel.accessAllowed ? 'block' : 'none';\n",
              "\n",
              "        async function convertToInteractive(key) {\n",
              "          const element = document.querySelector('#df-f9b225bd-6b6f-4bd4-b8cf-055e94879285');\n",
              "          const dataTable =\n",
              "            await google.colab.kernel.invokeFunction('convertToInteractive',\n",
              "                                                     [key], {});\n",
              "          if (!dataTable) return;\n",
              "\n",
              "          const docLinkHtml = 'Like what you see? Visit the ' +\n",
              "            '<a target=\"_blank\" href=https://colab.research.google.com/notebooks/data_table.ipynb>data table notebook</a>'\n",
              "            + ' to learn more about interactive tables.';\n",
              "          element.innerHTML = '';\n",
              "          dataTable['output_type'] = 'display_data';\n",
              "          await google.colab.output.renderOutput(dataTable, element);\n",
              "          const docLink = document.createElement('div');\n",
              "          docLink.innerHTML = docLinkHtml;\n",
              "          element.appendChild(docLink);\n",
              "        }\n",
              "      </script>\n",
              "    </div>\n",
              "  </div>\n",
              "  "
            ],
            "text/plain": [
              "                                            App Name  \\\n",
              "0                                            Gakondo   \n",
              "1                                Ampere Battery Info   \n",
              "2                                             Vibook   \n",
              "3  Smart City Trichy Public Service Vehicles 17UC...   \n",
              "4                                            GROW.me   \n",
              "\n",
              "                       App Id       Category  Rating  Rating Count Installs  \\\n",
              "0         com.ishakwe.gakondo      Adventure     0.0           0.0      10+   \n",
              "1  com.webserveis.batteryinfo          Tools     4.4          64.0   5,000+   \n",
              "2        com.doantiepvien.crm   Productivity     0.0           0.0      50+   \n",
              "3     cst.stJoseph.ug17ucs548  Communication     5.0           5.0      10+   \n",
              "4        com.horodyski.grower          Tools     0.0           0.0     100+   \n",
              "\n",
              "   Minimum Installs  Maximum Installs  Free  Price Currency  Size  \\\n",
              "0              10.0                15  True    0.0      USD   10M   \n",
              "1            5000.0              7662  True    0.0      USD  2.9M   \n",
              "2              50.0                58  True    0.0      USD  3.7M   \n",
              "3              10.0                19  True    0.0      USD  1.8M   \n",
              "4             100.0               478  True    0.0      USD  6.2M   \n",
              "\n",
              "  Minimum Android                       Developer Id  \\\n",
              "0      7.1 and up  Jean Confident Irénée NIYIZIBYOSE   \n",
              "1      5.0 and up                         Webserveis   \n",
              "2    4.0.3 and up                         Cabin Crew   \n",
              "3    4.0.3 and up                Climate Smart Tech2   \n",
              "4      4.1 and up              Rafal Milek-Horodyski   \n",
              "\n",
              "                  Developer Website              Developer Email  \\\n",
              "0       https://beniyizibyose.tk/#/       jean21101999@gmail.com   \n",
              "1   https://webserveis.netlify.app/         webserveis@gmail.com   \n",
              "2                               NaN          vnacrewit@gmail.com   \n",
              "3  http://www.climatesmarttech.com/  climatesmarttech2@gmail.com   \n",
              "4       http://www.horodyski.com.pl    rmilekhorodyski@gmail.com   \n",
              "\n",
              "       Released  Last Updated Content Rating  \\\n",
              "0  Feb 26, 2020  Feb 26, 2020       Everyone   \n",
              "1  May 21, 2020  May 06, 2021       Everyone   \n",
              "2   Aug 9, 2019  Aug 19, 2019       Everyone   \n",
              "3  Sep 10, 2018  Oct 13, 2018       Everyone   \n",
              "4  Feb 21, 2020  Nov 12, 2018       Everyone   \n",
              "\n",
              "                                      Privacy Policy  Ad Supported  \\\n",
              "0                 https://beniyizibyose.tk/projects/         False   \n",
              "1  https://dev4phones.wordpress.com/licencia-de-uso/          True   \n",
              "2  https://www.vietnamairlines.com/vn/en/terms-an...         False   \n",
              "3                                                NaN          True   \n",
              "4                        http://www.horodyski.com.pl         False   \n",
              "\n",
              "   In App Purchases  Editors Choice         Scraped Time  \n",
              "0             False           False  2021-06-15 20:19:35  \n",
              "1             False           False  2021-06-15 20:19:35  \n",
              "2             False           False  2021-06-15 20:19:35  \n",
              "3             False           False  2021-06-15 20:19:35  \n",
              "4             False           False  2021-06-15 20:19:35  "
            ]
          },
          "metadata": {},
          "execution_count": 110
        }
      ],
      "source": [
        "df.head()"
      ]
    },
    {
      "cell_type": "code",
      "execution_count": 111,
      "id": "615502a1-04e9-435e-bbb6-f7d135f6a2ae",
      "metadata": {
        "colab": {
          "base_uri": "https://localhost:8080/"
        },
        "id": "615502a1-04e9-435e-bbb6-f7d135f6a2ae",
        "outputId": "c92398ae-3f44-4108-b399-f63adf096297"
      },
      "outputs": [
        {
          "output_type": "execute_result",
          "data": {
            "text/plain": [
              "(2312944, 24)"
            ]
          },
          "metadata": {},
          "execution_count": 111
        }
      ],
      "source": [
        "df.shape"
      ]
    },
    {
      "cell_type": "code",
      "source": [
        "df.info()"
      ],
      "metadata": {
        "id": "OcooA9y_j3kn",
        "outputId": "dadfea9a-d6c2-40f9-ff85-5046255adc3c",
        "colab": {
          "base_uri": "https://localhost:8080/"
        }
      },
      "id": "OcooA9y_j3kn",
      "execution_count": 112,
      "outputs": [
        {
          "output_type": "stream",
          "name": "stdout",
          "text": [
            "<class 'pandas.core.frame.DataFrame'>\n",
            "RangeIndex: 2312944 entries, 0 to 2312943\n",
            "Data columns (total 24 columns):\n",
            " #   Column             Dtype  \n",
            "---  ------             -----  \n",
            " 0   App Name           object \n",
            " 1   App Id             object \n",
            " 2   Category           object \n",
            " 3   Rating             float64\n",
            " 4   Rating Count       float64\n",
            " 5   Installs           object \n",
            " 6   Minimum Installs   float64\n",
            " 7   Maximum Installs   int64  \n",
            " 8   Free               bool   \n",
            " 9   Price              float64\n",
            " 10  Currency           object \n",
            " 11  Size               object \n",
            " 12  Minimum Android    object \n",
            " 13  Developer Id       object \n",
            " 14  Developer Website  object \n",
            " 15  Developer Email    object \n",
            " 16  Released           object \n",
            " 17  Last Updated       object \n",
            " 18  Content Rating     object \n",
            " 19  Privacy Policy     object \n",
            " 20  Ad Supported       bool   \n",
            " 21  In App Purchases   bool   \n",
            " 22  Editors Choice     bool   \n",
            " 23  Scraped Time       object \n",
            "dtypes: bool(4), float64(4), int64(1), object(15)\n",
            "memory usage: 361.8+ MB\n"
          ]
        }
      ]
    },
    {
      "cell_type": "markdown",
      "source": [
        "\n",
        "* Columns like \n",
        "   - App Id\n",
        "   - Developer Email\n",
        "   -  Developer Website\n",
        "   - Privacy policy \n",
        "   -  Scraped Time \n",
        "\n",
        "  which are not that much useful for our Exploratory Analysis so we'll drop those columns. "
      ],
      "metadata": {
        "id": "LCC-a56vhmXs"
      },
      "id": "LCC-a56vhmXs"
    },
    {
      "cell_type": "code",
      "source": [
        "# drop the unnecessary columns\n",
        "df.drop(columns = ['App Id', 'Developer Email', 'Privacy Policy', 'Developer Website', 'Scraped Time'], inplace=True)"
      ],
      "metadata": {
        "id": "4krkKjUTkDXP"
      },
      "id": "4krkKjUTkDXP",
      "execution_count": 113,
      "outputs": []
    },
    {
      "cell_type": "code",
      "source": [
        "len(df.columns)"
      ],
      "metadata": {
        "colab": {
          "base_uri": "https://localhost:8080/"
        },
        "id": "4-obpoSak1_M",
        "outputId": "fef56dbe-02d7-42de-8161-e26f4a580db3"
      },
      "id": "4-obpoSak1_M",
      "execution_count": 114,
      "outputs": [
        {
          "output_type": "execute_result",
          "data": {
            "text/plain": [
              "19"
            ]
          },
          "metadata": {},
          "execution_count": 114
        }
      ]
    },
    {
      "cell_type": "markdown",
      "source": [
        "#### Missing Data"
      ],
      "metadata": {
        "id": "PcZ4d0MA-8ZN"
      },
      "id": "PcZ4d0MA-8ZN"
    },
    {
      "cell_type": "code",
      "execution_count": 115,
      "id": "4aa6b4a0-7b30-4266-93b0-0205d774cbed",
      "metadata": {
        "colab": {
          "base_uri": "https://localhost:8080/"
        },
        "id": "4aa6b4a0-7b30-4266-93b0-0205d774cbed",
        "outputId": "ea62eeb3-768c-4c3a-a0cf-cc96c1051075"
      },
      "outputs": [
        {
          "output_type": "execute_result",
          "data": {
            "text/plain": [
              "App Name            0.000086\n",
              "Category            0.000000\n",
              "Rating              0.989345\n",
              "Rating Count        0.989345\n",
              "Installs            0.004626\n",
              "Minimum Installs    0.004626\n",
              "Maximum Installs    0.000000\n",
              "Free                0.000000\n",
              "Price               0.000000\n",
              "Currency            0.005837\n",
              "Size                0.008474\n",
              "Minimum Android     0.282324\n",
              "Developer Id        0.001427\n",
              "Released            3.071972\n",
              "Last Updated        0.000000\n",
              "Content Rating      0.000000\n",
              "Ad Supported        0.000000\n",
              "In App Purchases    0.000000\n",
              "Editors Choice      0.000000\n",
              "dtype: float64"
            ]
          },
          "metadata": {},
          "execution_count": 115
        }
      ],
      "source": [
        "# Calculating percentage of missing data for each column\n",
        "df.isnull().sum()* 100 / df.shape[0] "
      ]
    },
    {
      "cell_type": "markdown",
      "source": [
        "- It is fair to say that not much of data is missing, also if it does then it is around 1% at most other than 'Released' column.\n",
        "- Since 'Released' column contains date of the released app so we don't have way to fill those value. \n",
        "  \n"
      ],
      "metadata": {
        "id": "Xkcd3y_BNjSH"
      },
      "id": "Xkcd3y_BNjSH"
    },
    {
      "cell_type": "markdown",
      "source": [
        "##### Missing Data per Category"
      ],
      "metadata": {
        "id": "MytgWKZN-zl5"
      },
      "id": "MytgWKZN-zl5"
    },
    {
      "cell_type": "code",
      "source": [
        "# Group the data via Category\n",
        "cat_grp = df.groupby(\"Category\")"
      ],
      "metadata": {
        "id": "XfCHJkqEflvf"
      },
      "id": "XfCHJkqEflvf",
      "execution_count": 116,
      "outputs": []
    },
    {
      "cell_type": "code",
      "source": [
        "nan_by_cat = {}\n",
        "for each_cat in df[\"Category\"].unique():\n",
        "  nan_by_cat[each_cat] = cat_grp.get_group(\"Music\").isnull().sum().sum()\n",
        "  "
      ],
      "metadata": {
        "id": "AwOMe-GXflsp"
      },
      "id": "AwOMe-GXflsp",
      "execution_count": 117,
      "outputs": []
    },
    {
      "cell_type": "code",
      "source": [
        "plt.figure(figsize=(16,9))\n",
        "plt.barh(y = list(nan_by_cat.keys()), width=list(nan_by_cat.values()))\n",
        "plt.title(\"Total number of Missing Values per Category\")\n",
        "plt.xlabel(\"No. of Missing Values\")\n",
        "plt.tight_layout()"
      ],
      "metadata": {
        "colab": {
          "base_uri": "https://localhost:8080/",
          "height": 0
        },
        "id": "4mCZbpkDflpW",
        "outputId": "7ff5f336-5efe-451b-d9e2-e6cd535710d9"
      },
      "id": "4mCZbpkDflpW",
      "execution_count": 118,
      "outputs": [
        {
          "output_type": "display_data",
          "data": {
            "image/png": "[encoded data removed]",
            "text/plain": [
              "<Figure size 1152x648 with 1 Axes>"
            ]
          },
          "metadata": {
            "needs_background": "light"
          }
        }
      ]
    },
    {
      "cell_type": "markdown",
      "source": [
        "- Above bar graph tells us that each category has equal number of missing values init which is interesting.\n",
        "\n",
        "So here we are going to drop those rows which contains missing values in any columns. Although there are many ways to fill missing values but we are not going to do that here because we don't have that much missing values in our data as compair to original size of dataset. "
      ],
      "metadata": {
        "id": "g74_UjtNjphj"
      },
      "id": "g74_UjtNjphj"
    },
    {
      "cell_type": "code",
      "source": [
        "# Drop the missing values\n",
        "df = df.dropna(axis=0)"
      ],
      "metadata": {
        "id": "6AdunCdVJ6QG"
      },
      "id": "6AdunCdVJ6QG",
      "execution_count": 119,
      "outputs": []
    },
    {
      "cell_type": "markdown",
      "source": [
        "#### Covert Data type"
      ],
      "metadata": {
        "id": "sFD3r2Q9_C-B"
      },
      "id": "sFD3r2Q9_C-B"
    },
    {
      "cell_type": "code",
      "source": [
        "# convert columns to best dtypes (data-types)\n",
        "df = df.convert_dtypes() "
      ],
      "metadata": {
        "id": "z6pqNqE33qLv"
      },
      "id": "z6pqNqE33qLv",
      "execution_count": 120,
      "outputs": []
    },
    {
      "cell_type": "code",
      "source": [
        "df.info()"
      ],
      "metadata": {
        "id": "E-SBqcRS_lSt",
        "outputId": "01471d3c-7ec0-4a3e-8bc1-73b59c49e00f",
        "colab": {
          "base_uri": "https://localhost:8080/"
        }
      },
      "id": "E-SBqcRS_lSt",
      "execution_count": 121,
      "outputs": [
        {
          "output_type": "stream",
          "name": "stdout",
          "text": [
            "<class 'pandas.core.frame.DataFrame'>\n",
            "Int64Index: 2235278 entries, 0 to 2312943\n",
            "Data columns (total 19 columns):\n",
            " #   Column            Dtype  \n",
            "---  ------            -----  \n",
            " 0   App Name          string \n",
            " 1   Category          string \n",
            " 2   Rating            float64\n",
            " 3   Rating Count      Int64  \n",
            " 4   Installs          string \n",
            " 5   Minimum Installs  Int64  \n",
            " 6   Maximum Installs  Int64  \n",
            " 7   Free              boolean\n",
            " 8   Price             float64\n",
            " 9   Currency          string \n",
            " 10  Size              string \n",
            " 11  Minimum Android   string \n",
            " 12  Developer Id      string \n",
            " 13  Released          string \n",
            " 14  Last Updated      string \n",
            " 15  Content Rating    string \n",
            " 16  Ad Supported      boolean\n",
            " 17  In App Purchases  boolean\n",
            " 18  Editors Choice    boolean\n",
            "dtypes: Int64(3), boolean(4), float64(2), string(10)\n",
            "memory usage: 296.3 MB\n"
          ]
        }
      ]
    },
    {
      "cell_type": "markdown",
      "source": [
        "- Columns like 'Released' and 'Last Updated' have dates init but it is of the form of string."
      ],
      "metadata": {
        "id": "dfQA7ZFkQZCK"
      },
      "id": "dfQA7ZFkQZCK"
    },
    {
      "cell_type": "code",
      "source": [
        "# convert columns like \"Released\" and \"Last Updated\" into datetime data type\n",
        "df[\"Released\"] = pd.to_datetime(df[\"Released\"], format='%b %d, %Y')\n",
        "df[\"Last Updated\"] = pd.to_datetime(df[\"Last Updated\"], format='%b %d, %Y')"
      ],
      "metadata": {
        "id": "5F44B8jReeD6"
      },
      "id": "5F44B8jReeD6",
      "execution_count": 122,
      "outputs": []
    },
    {
      "cell_type": "markdown",
      "source": [
        "#### Combine similar Category into One Category"
      ],
      "metadata": {
        "id": "-4bfq6pg_Qa4"
      },
      "id": "-4bfq6pg_Qa4"
    },
    {
      "cell_type": "code",
      "source": [
        "# Explore Diffrenet categories into Categories column\n",
        "df[\"Category\"].unique()\n"
      ],
      "metadata": {
        "colab": {
          "base_uri": "https://localhost:8080/"
        },
        "id": "qDnUQ-dabwiP",
        "outputId": "711c5f4c-7184-406c-b331-1866511631ea"
      },
      "id": "qDnUQ-dabwiP",
      "execution_count": 123,
      "outputs": [
        {
          "output_type": "execute_result",
          "data": {
            "text/plain": [
              "<StringArray>\n",
              "[              'Adventure',                   'Tools',\n",
              "            'Productivity',           'Communication',\n",
              "                  'Social',        'Libraries & Demo',\n",
              "               'Lifestyle',         'Personalization',\n",
              "                  'Racing',       'Maps & Navigation',\n",
              "          'Travel & Local',            'Food & Drink',\n",
              "       'Books & Reference',                 'Medical',\n",
              "                  'Puzzle',           'Entertainment',\n",
              "                  'Arcade',         'Auto & Vehicles',\n",
              "             'Photography',        'Health & Fitness',\n",
              "               'Education',                'Shopping',\n",
              "                   'Board',           'Music & Audio',\n",
              "                  'Sports',                  'Beauty',\n",
              "                'Business',             'Educational',\n",
              "                 'Finance',        'News & Magazines',\n",
              "                  'Casual',            'Art & Design',\n",
              "            'House & Home',                    'Card',\n",
              "                  'Events',                  'Trivia',\n",
              "                 'Weather',                'Strategy',\n",
              "                    'Word', 'Video Players & Editors',\n",
              "                  'Action',              'Simulation',\n",
              "                   'Music',                  'Dating',\n",
              "            'Role Playing',                  'Casino',\n",
              "                  'Comics',               'Parenting']\n",
              "Length: 48, dtype: string"
            ]
          },
          "metadata": {},
          "execution_count": 123
        }
      ]
    },
    {
      "cell_type": "markdown",
      "source": [
        "- By looking closly to each category name, we can find few category name kind of similar such as \"Music\" as same as \"Music & Audio\" and \"Education\" with \"Educational\". We can combine those individual categories into single category."
      ],
      "metadata": {
        "id": "mMfP4Ts0clgW"
      },
      "id": "mMfP4Ts0clgW"
    },
    {
      "cell_type": "code",
      "source": [
        "# convert the similar Categories into one Category using indices \n",
        "music_idx = df[df.Category == \"Music\"].index\n",
        "df.loc[music_idx, \"Category\"] = \"Music & Audio\"\n",
        "df.loc[df[df.Category == \"Educational\"].index, \"Category\"] = \"Education\" "
      ],
      "metadata": {
        "id": "HENOey_IbwfF"
      },
      "id": "HENOey_IbwfF",
      "execution_count": 124,
      "outputs": []
    },
    {
      "cell_type": "code",
      "execution_count": 125,
      "id": "db118224-bbe5-45bd-95de-956d3ff31a43",
      "metadata": {
        "colab": {
          "base_uri": "https://localhost:8080/",
          "height": 0
        },
        "id": "db118224-bbe5-45bd-95de-956d3ff31a43",
        "outputId": "7aada857-a3d1-4693-f56e-f8b196463b91"
      },
      "outputs": [
        {
          "output_type": "execute_result",
          "data": {
            "application/vnd.google.colaboratory.module+javascript": "\n      import \"https://ssl.gstatic.com/colaboratory/data_table/a6224c040fa35dcf/data_table.js\";\n\n      window.createDataTable({\n        data: [[\"count\",\n{\n            'v': 2235278.0,\n            'f': \"2235278.0\",\n        },\n{\n            'v': 2235278.0,\n            'f': \"2235278.0\",\n        },\n{\n            'v': 2235278.0,\n            'f': \"2235278.0\",\n        },\n{\n            'v': 2235278.0,\n            'f': \"2235278.0\",\n        },\n{\n            'v': 2235278.0,\n            'f': \"2235278.0\",\n        }],\n [\"mean\",\n{\n            'v': 2.206450025454964,\n            'f': \"2.206450025454964\",\n        },\n{\n            'v': 2759.912363473358,\n            'f': \"2759.912363473358\",\n        },\n{\n            'v': 176030.1887000185,\n            'f': \"176030.1887000185\",\n        },\n{\n            'v': 308119.67233784794,\n            'f': \"308119.67233784794\",\n        },\n{\n            'v': 0.10476948618198215,\n            'f': \"0.10476948618198215\",\n        }],\n [\"std\",\n{\n            'v': 2.108360333920429,\n            'f': \"2.108360333920429\",\n        },\n{\n            'v': 198759.56532151563,\n            'f': \"198759.56532151563\",\n        },\n{\n            'v': 14204029.703370236,\n            'f': \"14204029.703370236\",\n        },\n{\n            'v': 22088801.33451338,\n            'f': \"22088801.33451338\",\n        },\n{\n            'v': 2.660922998648412,\n            'f': \"2.660922998648412\",\n        }],\n [\"min\",\n{\n            'v': 0.0,\n            'f': \"0.0\",\n        },\n{\n            'v': 0.0,\n            'f': \"0.0\",\n        },\n{\n            'v': 0.0,\n            'f': \"0.0\",\n        },\n{\n            'v': 0.0,\n            'f': \"0.0\",\n        },\n{\n            'v': 0.0,\n            'f': \"0.0\",\n        }],\n [\"25%\",\n{\n            'v': 0.0,\n            'f': \"0.0\",\n        },\n{\n            'v': 0.0,\n            'f': \"0.0\",\n        },\n{\n            'v': 50.0,\n            'f': \"50.0\",\n        },\n{\n            'v': 86.0,\n            'f': \"86.0\",\n        },\n{\n            'v': 0.0,\n            'f': \"0.0\",\n        }],\n [\"50%\",\n{\n            'v': 3.0,\n            'f': \"3.0\",\n        },\n{\n            'v': 6.0,\n            'f': \"6.0\",\n        },\n{\n            'v': 500.0,\n            'f': \"500.0\",\n        },\n{\n            'v': 706.0,\n            'f': \"706.0\",\n        },\n{\n            'v': 0.0,\n            'f': \"0.0\",\n        }],\n [\"75%\",\n{\n            'v': 4.3,\n            'f': \"4.3\",\n        },\n{\n            'v': 42.0,\n            'f': \"42.0\",\n        },\n{\n            'v': 5000.0,\n            'f': \"5000.0\",\n        },\n{\n            'v': 7427.0,\n            'f': \"7427.0\",\n        },\n{\n            'v': 0.0,\n            'f': \"0.0\",\n        }],\n [\"max\",\n{\n            'v': 5.0,\n            'f': \"5.0\",\n        },\n{\n            'v': 138557570.0,\n            'f': \"138557570.0\",\n        },\n{\n            'v': 10000000000.0,\n            'f': \"10000000000.0\",\n        },\n{\n            'v': 12057627016.0,\n            'f': \"12057627016.0\",\n        },\n{\n            'v': 400.0,\n            'f': \"400.0\",\n        }]],\n        columns: [[\"string\", \"index\"], [\"number\", \"Rating\"], [\"number\", \"Rating Count\"], [\"number\", \"Minimum Installs\"], [\"number\", \"Maximum Installs\"], [\"number\", \"Price\"]],\n        columnOptions: [{\"width\": \"1px\", \"className\": \"index_column\"}],\n        rowsPerPage: 25,\n        helpUrl: \"https://colab.research.google.com/notebooks/data_table.ipynb\",\n        suppressOutputScrolling: true,\n        minimumWidth: undefined,\n      });\n    ",
            "text/html": [
              "\n",
              "  <div id=\"df-b2430139-7d94-4804-8468-0b65cd7fa182\">\n",
              "    <div class=\"colab-df-container\">\n",
              "      <div>\n",
              "<style scoped>\n",
              "    .dataframe tbody tr th:only-of-type {\n",
              "        vertical-align: middle;\n",
              "    }\n",
              "\n",
              "    .dataframe tbody tr th {\n",
              "        vertical-align: top;\n",
              "    }\n",
              "\n",
              "    .dataframe thead th {\n",
              "        text-align: right;\n",
              "    }\n",
              "</style>\n",
              "<table border=\"1\" class=\"dataframe\">\n",
              "  <thead>\n",
              "    <tr style=\"text-align: right;\">\n",
              "      <th></th>\n",
              "      <th>Rating</th>\n",
              "      <th>Rating Count</th>\n",
              "      <th>Minimum Installs</th>\n",
              "      <th>Maximum Installs</th>\n",
              "      <th>Price</th>\n",
              "    </tr>\n",
              "  </thead>\n",
              "  <tbody>\n",
              "    <tr>\n",
              "      <th>count</th>\n",
              "      <td>2.235278e+06</td>\n",
              "      <td>2.235278e+06</td>\n",
              "      <td>2.235278e+06</td>\n",
              "      <td>2.235278e+06</td>\n",
              "      <td>2.235278e+06</td>\n",
              "    </tr>\n",
              "    <tr>\n",
              "      <th>mean</th>\n",
              "      <td>2.206450e+00</td>\n",
              "      <td>2.759912e+03</td>\n",
              "      <td>1.760302e+05</td>\n",
              "      <td>3.081197e+05</td>\n",
              "      <td>1.047695e-01</td>\n",
              "    </tr>\n",
              "    <tr>\n",
              "      <th>std</th>\n",
              "      <td>2.108360e+00</td>\n",
              "      <td>1.987596e+05</td>\n",
              "      <td>1.420403e+07</td>\n",
              "      <td>2.208880e+07</td>\n",
              "      <td>2.660923e+00</td>\n",
              "    </tr>\n",
              "    <tr>\n",
              "      <th>min</th>\n",
              "      <td>0.000000e+00</td>\n",
              "      <td>0.000000e+00</td>\n",
              "      <td>0.000000e+00</td>\n",
              "      <td>0.000000e+00</td>\n",
              "      <td>0.000000e+00</td>\n",
              "    </tr>\n",
              "    <tr>\n",
              "      <th>25%</th>\n",
              "      <td>0.000000e+00</td>\n",
              "      <td>0.000000e+00</td>\n",
              "      <td>5.000000e+01</td>\n",
              "      <td>8.600000e+01</td>\n",
              "      <td>0.000000e+00</td>\n",
              "    </tr>\n",
              "    <tr>\n",
              "      <th>50%</th>\n",
              "      <td>3.000000e+00</td>\n",
              "      <td>6.000000e+00</td>\n",
              "      <td>5.000000e+02</td>\n",
              "      <td>7.060000e+02</td>\n",
              "      <td>0.000000e+00</td>\n",
              "    </tr>\n",
              "    <tr>\n",
              "      <th>75%</th>\n",
              "      <td>4.300000e+00</td>\n",
              "      <td>4.200000e+01</td>\n",
              "      <td>5.000000e+03</td>\n",
              "      <td>7.427000e+03</td>\n",
              "      <td>0.000000e+00</td>\n",
              "    </tr>\n",
              "    <tr>\n",
              "      <th>max</th>\n",
              "      <td>5.000000e+00</td>\n",
              "      <td>1.385576e+08</td>\n",
              "      <td>1.000000e+10</td>\n",
              "      <td>1.205763e+10</td>\n",
              "      <td>4.000000e+02</td>\n",
              "    </tr>\n",
              "  </tbody>\n",
              "</table>\n",
              "</div>\n",
              "      <button class=\"colab-df-convert\" onclick=\"convertToInteractive('df-b2430139-7d94-4804-8468-0b65cd7fa182')\"\n",
              "              title=\"Convert this dataframe to an interactive table.\"\n",
              "              style=\"display:none;\">\n",
              "        \n",
              "  <svg xmlns=\"http://www.w3.org/2000/svg\" height=\"24px\"viewBox=\"0 0 24 24\"\n",
              "       width=\"24px\">\n",
              "    <path d=\"M0 0h24v24H0V0z\" fill=\"none\"/>\n",
              "    <path d=\"M18.56 5.44l.94 2.06.94-2.06 2.06-.94-2.06-.94-.94-2.06-.94 2.06-2.06.94zm-11 1L8.5 8.5l.94-2.06 2.06-.94-2.06-.94L8.5 2.5l-.94 2.06-2.06.94zm10 10l.94 2.06.94-2.06 2.06-.94-2.06-.94-.94-2.06-.94 2.06-2.06.94z\"/><path d=\"M17.41 7.96l-1.37-1.37c-.4-.4-.92-.59-1.43-.59-.52 0-1.04.2-1.43.59L10.3 9.45l-7.72 7.72c-.78.78-.78 2.05 0 2.83L4 21.41c.39.39.9.59 1.41.59.51 0 1.02-.2 1.41-.59l7.78-7.78 2.81-2.81c.8-.78.8-2.07 0-2.86zM5.41 20L4 18.59l7.72-7.72 1.47 1.35L5.41 20z\"/>\n",
              "  </svg>\n",
              "      </button>\n",
              "      \n",
              "  <style>\n",
              "    .colab-df-container {\n",
              "      display:flex;\n",
              "      flex-wrap:wrap;\n",
              "      gap: 12px;\n",
              "    }\n",
              "\n",
              "    .colab-df-convert {\n",
              "      background-color: #E8F0FE;\n",
              "      border: none;\n",
              "      border-radius: 50%;\n",
              "      cursor: pointer;\n",
              "      display: none;\n",
              "      fill: #1967D2;\n",
              "      height: 32px;\n",
              "      padding: 0 0 0 0;\n",
              "      width: 32px;\n",
              "    }\n",
              "\n",
              "    .colab-df-convert:hover {\n",
              "      background-color: #E2EBFA;\n",
              "      box-shadow: 0px 1px 2px rgba(60, 64, 67, 0.3), 0px 1px 3px 1px rgba(60, 64, 67, 0.15);\n",
              "      fill: #174EA6;\n",
              "    }\n",
              "\n",
              "    [theme=dark] .colab-df-convert {\n",
              "      background-color: #3B4455;\n",
              "      fill: #D2E3FC;\n",
              "    }\n",
              "\n",
              "    [theme=dark] .colab-df-convert:hover {\n",
              "      background-color: #434B5C;\n",
              "      box-shadow: 0px 1px 3px 1px rgba(0, 0, 0, 0.15);\n",
              "      filter: drop-shadow(0px 1px 2px rgba(0, 0, 0, 0.3));\n",
              "      fill: #FFFFFF;\n",
              "    }\n",
              "  </style>\n",
              "\n",
              "      <script>\n",
              "        const buttonEl =\n",
              "          document.querySelector('#df-b2430139-7d94-4804-8468-0b65cd7fa182 button.colab-df-convert');\n",
              "        buttonEl.style.display =\n",
              "          google.colab.kernel.accessAllowed ? 'block' : 'none';\n",
              "\n",
              "        async function convertToInteractive(key) {\n",
              "          const element = document.querySelector('#df-b2430139-7d94-4804-8468-0b65cd7fa182');\n",
              "          const dataTable =\n",
              "            await google.colab.kernel.invokeFunction('convertToInteractive',\n",
              "                                                     [key], {});\n",
              "          if (!dataTable) return;\n",
              "\n",
              "          const docLinkHtml = 'Like what you see? Visit the ' +\n",
              "            '<a target=\"_blank\" href=https://colab.research.google.com/notebooks/data_table.ipynb>data table notebook</a>'\n",
              "            + ' to learn more about interactive tables.';\n",
              "          element.innerHTML = '';\n",
              "          dataTable['output_type'] = 'display_data';\n",
              "          await google.colab.output.renderOutput(dataTable, element);\n",
              "          const docLink = document.createElement('div');\n",
              "          docLink.innerHTML = docLinkHtml;\n",
              "          element.appendChild(docLink);\n",
              "        }\n",
              "      </script>\n",
              "    </div>\n",
              "  </div>\n",
              "  "
            ],
            "text/plain": [
              "             Rating  Rating Count  Minimum Installs  Maximum Installs  \\\n",
              "count  2.235278e+06  2.235278e+06      2.235278e+06      2.235278e+06   \n",
              "mean   2.206450e+00  2.759912e+03      1.760302e+05      3.081197e+05   \n",
              "std    2.108360e+00  1.987596e+05      1.420403e+07      2.208880e+07   \n",
              "min    0.000000e+00  0.000000e+00      0.000000e+00      0.000000e+00   \n",
              "25%    0.000000e+00  0.000000e+00      5.000000e+01      8.600000e+01   \n",
              "50%    3.000000e+00  6.000000e+00      5.000000e+02      7.060000e+02   \n",
              "75%    4.300000e+00  4.200000e+01      5.000000e+03      7.427000e+03   \n",
              "max    5.000000e+00  1.385576e+08      1.000000e+10      1.205763e+10   \n",
              "\n",
              "              Price  \n",
              "count  2.235278e+06  \n",
              "mean   1.047695e-01  \n",
              "std    2.660923e+00  \n",
              "min    0.000000e+00  \n",
              "25%    0.000000e+00  \n",
              "50%    0.000000e+00  \n",
              "75%    0.000000e+00  \n",
              "max    4.000000e+02  "
            ]
          },
          "metadata": {},
          "execution_count": 125
        }
      ],
      "source": [
        "df.describe() # returns stastical table containing 5 number summary statstics of numerical columns"
      ]
    },
    {
      "cell_type": "markdown",
      "source": [
        "- Here, we can see some of interesting things like 75% of data has `Rating Count` less than 42 and maximum Rating Count is in $10^8$. Similar situation occur in `Minimum Installs` and `Maximum Installs`."
      ],
      "metadata": {
        "id": "98T80_qD_6Bh"
      },
      "id": "98T80_qD_6Bh"
    },
    {
      "cell_type": "code",
      "execution_count": 125,
      "id": "92cb9250-dcb7-48fb-99aa-576a896131a1",
      "metadata": {
        "id": "92cb9250-dcb7-48fb-99aa-576a896131a1"
      },
      "outputs": [],
      "source": [
        ""
      ]
    },
    {
      "cell_type": "markdown",
      "id": "68bc7ad8-9854-4a28-95be-b0bdbcb08d88",
      "metadata": {
        "id": "68bc7ad8-9854-4a28-95be-b0bdbcb08d88"
      },
      "source": [
        "## Exploratory Analysis and Visualization "
      ]
    },
    {
      "cell_type": "markdown",
      "source": [
        "### Top 10 Categories \n",
        "\n",
        "> Q. Which top 10 categories have most number apps in dataset?"
      ],
      "metadata": {
        "id": "lweFUB-95JGF"
      },
      "id": "lweFUB-95JGF"
    },
    {
      "cell_type": "code",
      "execution_count": 126,
      "id": "be5801fb-53cc-4603-aa9f-2f8ebb5cdd1a",
      "metadata": {
        "id": "be5801fb-53cc-4603-aa9f-2f8ebb5cdd1a"
      },
      "outputs": [],
      "source": [
        "cat = df['Category'].value_counts(sort=True)*100 / len(df)"
      ]
    },
    {
      "cell_type": "code",
      "source": [
        "plt.figure(figsize=(10,6))\n",
        "plt.barh(y = cat.index[:10], width=cat[:10], height=0.7)\n",
        "plt.title(\"Top 10 Category in terms of total number of apps\")\n",
        "plt.xlabel(\"Percentage of Apps\")\n",
        "plt.tight_layout()\n",
        "# plt.xticks(rotation=25)\n",
        "plt.show()"
      ],
      "metadata": {
        "colab": {
          "base_uri": "https://localhost:8080/",
          "height": 0
        },
        "id": "m_dTrd4IqMG5",
        "outputId": "52d5dfb6-8e53-499a-dffb-b862dfc7b7da"
      },
      "id": "m_dTrd4IqMG5",
      "execution_count": 127,
      "outputs": [
        {
          "output_type": "display_data",
          "data": {
            "image/png": "[encoded data removed]",
            "text/plain": [
              "<Figure size 720x432 with 1 Axes>"
            ]
          },
          "metadata": {
            "needs_background": "light"
          }
        }
      ]
    },
    {
      "cell_type": "markdown",
      "source": [
        "### No. Editors Choice Apps per Category \n",
        "\n",
        "> Q. Top 10 categories for Editor Choice Apps"
      ],
      "metadata": {
        "id": "QKTapzf55jDc"
      },
      "id": "QKTapzf55jDc"
    },
    {
      "cell_type": "code",
      "source": [
        "editor_choice = df.groupby(by='Category')['Editors Choice'].agg(np.sum)\n",
        "editor_choice.sort_values(ascending=False, inplace=True)"
      ],
      "metadata": {
        "id": "P72ZsIRJ5ioQ"
      },
      "id": "P72ZsIRJ5ioQ",
      "execution_count": 128,
      "outputs": []
    },
    {
      "cell_type": "code",
      "execution_count": 129,
      "id": "11ad1ba8-d3fd-4a07-8fee-054fe9844d67",
      "metadata": {
        "colab": {
          "base_uri": "https://localhost:8080/",
          "height": 441
        },
        "id": "11ad1ba8-d3fd-4a07-8fee-054fe9844d67",
        "outputId": "72f776b6-f623-4129-bcac-86b8e6667fd7"
      },
      "outputs": [
        {
          "output_type": "display_data",
          "data": {
            "image/png": "[encoded data removed]",
            "text/plain": [
              "<Figure size 720x432 with 1 Axes>"
            ]
          },
          "metadata": {
            "needs_background": "light"
          }
        }
      ],
      "source": [
        "plt.figure(figsize=(10,6))\n",
        "plt.barh(y=editor_choice.index[:10], width=editor_choice[:10])\n",
        "plt.title(\"Top 10 Category for Editor Choice apps\")\n",
        "plt.xlabel(\"Number of Editors Choice Apps\")\n",
        "plt.tight_layout()\n",
        "plt.show()"
      ]
    },
    {
      "cell_type": "markdown",
      "source": [
        "### Installs \n",
        "\n",
        "By lookings closly to dataset, we assume that following three columns are highly co-related.\n",
        "- installls \n",
        "- Minimum Installs \n",
        "- Maximum Installs \n",
        "\n",
        "Checking the corelations between three install columns "
      ],
      "metadata": {
        "id": "_ETjypRe4qpi"
      },
      "id": "_ETjypRe4qpi"
    },
    {
      "cell_type": "code",
      "source": [
        "df['Installs'] = df['Installs'].str.rstrip('+')\n",
        "df['Installs'] = df['Installs'].apply(lambda x:x.replace(',', '')).astype('int')"
      ],
      "metadata": {
        "id": "Tml3PL_c-l5p"
      },
      "id": "Tml3PL_c-l5p",
      "execution_count": 132,
      "outputs": []
    },
    {
      "cell_type": "code",
      "execution_count": 135,
      "id": "7c65fd7d-c430-4bfa-bc48-9e8681086939",
      "metadata": {
        "id": "7c65fd7d-c430-4bfa-bc48-9e8681086939",
        "outputId": "65ef1226-0ef9-4611-9959-89a32d7bab39",
        "colab": {
          "base_uri": "https://localhost:8080/",
          "height": 441
        }
      },
      "outputs": [
        {
          "output_type": "display_data",
          "data": {
            "image/png": "[encoded data removed]",
            "text/plain": [
              "<Figure size 720x432 with 1 Axes>"
            ]
          },
          "metadata": {
            "needs_background": "light"
          }
        }
      ],
      "source": [
        "plt.figure(figsize=(10,6))\n",
        "plt.scatter(x=df['Installs'], y=df['Minimum Installs'], alpha=0.3, edgecolors='k')\n",
        "plt.title(\"Installs vs Minimum Installs\")\n",
        "plt.xlabel(\"Installs\")\n",
        "plt.ylabel(\"Minimum Installs\")\n",
        "plt.tight_layout()\n",
        "plt.show()"
      ]
    },
    {
      "cell_type": "markdown",
      "source": [
        "- We can see the strong positive corelation but it is still not that much clear, we can take look at all those values which are less than 2e5."
      ],
      "metadata": {
        "id": "Br760npHHtjl"
      },
      "id": "Br760npHHtjl"
    },
    {
      "cell_type": "code",
      "source": [
        "less_install = df[df['Installs']<2e5]['Installs']\n",
        "less_mininum = df[df['Minimum Installs']<2e5]['Minimum Installs']"
      ],
      "metadata": {
        "id": "-HL4kHftHs8a"
      },
      "id": "-HL4kHftHs8a",
      "execution_count": 34,
      "outputs": []
    },
    {
      "cell_type": "code",
      "source": [
        "plt.figure(figsize=(10,6))\n",
        "plt.scatter(x=less_install, y=less_mininum, alpha=0.2, edgecolors='k')\n",
        "plt.title(\"Installs vs Minimum Installs\")\n",
        "plt.xlabel(\"Installs\")\n",
        "plt.ylabel(\"Minimum Installs\")\n",
        "plt.tight_layout()\n",
        "plt.show()"
      ],
      "metadata": {
        "colab": {
          "base_uri": "https://localhost:8080/",
          "height": 441
        },
        "id": "1ath2vgbJGgd",
        "outputId": "bd99d4ba-b457-45ee-a45d-d7654683c65a"
      },
      "id": "1ath2vgbJGgd",
      "execution_count": 136,
      "outputs": [
        {
          "output_type": "display_data",
          "data": {
            "image/png": "[encoded data removed]",
            "text/plain": [
              "<Figure size 720x432 with 1 Axes>"
            ]
          },
          "metadata": {
            "needs_background": "light"
          }
        }
      ]
    },
    {
      "cell_type": "code",
      "execution_count": 137,
      "id": "18592bc6-e0d5-426f-870d-063d4076f855",
      "metadata": {
        "id": "18592bc6-e0d5-426f-870d-063d4076f855",
        "colab": {
          "base_uri": "https://localhost:8080/",
          "height": 441
        },
        "outputId": "5bae4ce5-7f7f-49c9-f29c-f918c7365338"
      },
      "outputs": [
        {
          "output_type": "display_data",
          "data": {
            "image/png": "[encoded data removed]",
            "text/plain": [
              "<Figure size 720x432 with 1 Axes>"
            ]
          },
          "metadata": {
            "needs_background": "light"
          }
        }
      ],
      "source": [
        "plt.figure(figsize=(10,6))\n",
        "plt.scatter(x=df['Maximum Installs'], y=df['Minimum Installs'], alpha=0.3, edgecolors='k')\n",
        "plt.title(\"Maximum Installs vs Minimum Installs\")\n",
        "plt.xlabel(\"Maximum Installs\")\n",
        "plt.ylabel(\"Minimum Installs\")\n",
        "plt.tight_layout()\n",
        "plt.show()"
      ]
    },
    {
      "cell_type": "markdown",
      "source": [
        "- From these corelation, we can replace install columns with integer mean value of each row of \"Minimum Installs\" and \"Maximum Installs\", call it that new column as \"Install No.\""
      ],
      "metadata": {
        "id": "LCnarpuqUZA5"
      },
      "id": "LCnarpuqUZA5"
    },
    {
      "cell_type": "code",
      "source": [
        "df['Install No.'] = (df['Minimum Installs'] + df['Maximum Installs'])//2"
      ],
      "metadata": {
        "id": "NQkTHJV3J6eV"
      },
      "id": "NQkTHJV3J6eV",
      "execution_count": 138,
      "outputs": []
    },
    {
      "cell_type": "code",
      "source": [
        "# drop the \"Installs\", \"Maximum Installs\" and \"Maximum Installs\"\n",
        "df = df.drop(columns=['Installs', 'Maximum Installs', 'Minimum Installs'])"
      ],
      "metadata": {
        "id": "BJBMAfRhJ6aw"
      },
      "id": "BJBMAfRhJ6aw",
      "execution_count": 139,
      "outputs": []
    },
    {
      "cell_type": "code",
      "source": [
        "df.head()"
      ],
      "metadata": {
        "colab": {
          "base_uri": "https://localhost:8080/",
          "height": 446
        },
        "id": "k1jrpj3kJ6Vs",
        "outputId": "47ebd87c-a637-4790-a7d7-b70db7fcc6ee"
      },
      "id": "k1jrpj3kJ6Vs",
      "execution_count": 140,
      "outputs": [
        {
          "output_type": "execute_result",
          "data": {
            "application/vnd.google.colaboratory.module+javascript": "\n      import \"https://ssl.gstatic.com/colaboratory/data_table/a6224c040fa35dcf/data_table.js\";\n\n      window.createDataTable({\n        data: [[{\n            'v': 0,\n            'f': \"0\",\n        },\n\"Gakondo\",\n\"Adventure\",\n{\n            'v': 0.0,\n            'f': \"0.0\",\n        },\n{\n            'v': 0,\n            'f': \"0\",\n        },\ntrue,\n{\n            'v': 0.0,\n            'f': \"0.0\",\n        },\n\"USD\",\n\"10M\",\n\"7.1 and up\",\n\"Jean Confident Ir\\u00e9n\\u00e9e NIYIZIBYOSE\",\n\"2020-02-26 00:00:00\",\n\"2020-02-26 00:00:00\",\n\"Everyone\",\nfalse,\nfalse,\nfalse,\n{\n            'v': 12,\n            'f': \"12\",\n        }],\n [{\n            'v': 1,\n            'f': \"1\",\n        },\n\"Ampere Battery Info\",\n\"Tools\",\n{\n            'v': 4.4,\n            'f': \"4.4\",\n        },\n{\n            'v': 64,\n            'f': \"64\",\n        },\ntrue,\n{\n            'v': 0.0,\n            'f': \"0.0\",\n        },\n\"USD\",\n\"2.9M\",\n\"5.0 and up\",\n\"Webserveis\",\n\"2020-05-21 00:00:00\",\n\"2021-05-06 00:00:00\",\n\"Everyone\",\ntrue,\nfalse,\nfalse,\n{\n            'v': 6331,\n            'f': \"6331\",\n        }],\n [{\n            'v': 2,\n            'f': \"2\",\n        },\n\"Vibook\",\n\"Productivity\",\n{\n            'v': 0.0,\n            'f': \"0.0\",\n        },\n{\n            'v': 0,\n            'f': \"0\",\n        },\ntrue,\n{\n            'v': 0.0,\n            'f': \"0.0\",\n        },\n\"USD\",\n\"3.7M\",\n\"4.0.3 and up\",\n\"Cabin Crew\",\n\"2019-08-09 00:00:00\",\n\"2019-08-19 00:00:00\",\n\"Everyone\",\nfalse,\nfalse,\nfalse,\n{\n            'v': 54,\n            'f': \"54\",\n        }],\n [{\n            'v': 3,\n            'f': \"3\",\n        },\n\"Smart City Trichy Public Service Vehicles 17UCS548\",\n\"Communication\",\n{\n            'v': 5.0,\n            'f': \"5.0\",\n        },\n{\n            'v': 5,\n            'f': \"5\",\n        },\ntrue,\n{\n            'v': 0.0,\n            'f': \"0.0\",\n        },\n\"USD\",\n\"1.8M\",\n\"4.0.3 and up\",\n\"Climate Smart Tech2\",\n\"2018-09-10 00:00:00\",\n\"2018-10-13 00:00:00\",\n\"Everyone\",\ntrue,\nfalse,\nfalse,\n{\n            'v': 14,\n            'f': \"14\",\n        }],\n [{\n            'v': 4,\n            'f': \"4\",\n        },\n\"GROW.me\",\n\"Tools\",\n{\n            'v': 0.0,\n            'f': \"0.0\",\n        },\n{\n            'v': 0,\n            'f': \"0\",\n        },\ntrue,\n{\n            'v': 0.0,\n            'f': \"0.0\",\n        },\n\"USD\",\n\"6.2M\",\n\"4.1 and up\",\n\"Rafal Milek-Horodyski\",\n\"2020-02-21 00:00:00\",\n\"2018-11-12 00:00:00\",\n\"Everyone\",\nfalse,\nfalse,\nfalse,\n{\n            'v': 289,\n            'f': \"289\",\n        }]],\n        columns: [[\"number\", \"index\"], [\"string\", \"App Name\"], [\"string\", \"Category\"], [\"number\", \"Rating\"], [\"number\", \"Rating Count\"], [\"string\", \"Free\"], [\"number\", \"Price\"], [\"string\", \"Currency\"], [\"string\", \"Size\"], [\"string\", \"Minimum Android\"], [\"string\", \"Developer Id\"], [\"string\", \"Released\"], [\"string\", \"Last Updated\"], [\"string\", \"Content Rating\"], [\"string\", \"Ad Supported\"], [\"string\", \"In App Purchases\"], [\"string\", \"Editors Choice\"], [\"number\", \"Install No.\"]],\n        columnOptions: [{\"width\": \"1px\", \"className\": \"index_column\"}],\n        rowsPerPage: 25,\n        helpUrl: \"https://colab.research.google.com/notebooks/data_table.ipynb\",\n        suppressOutputScrolling: true,\n        minimumWidth: undefined,\n      });\n    ",
            "text/html": [
              "\n",
              "  <div id=\"df-88cbc81f-aa89-405c-9823-70aeda8ebb1e\">\n",
              "    <div class=\"colab-df-container\">\n",
              "      <div>\n",
              "<style scoped>\n",
              "    .dataframe tbody tr th:only-of-type {\n",
              "        vertical-align: middle;\n",
              "    }\n",
              "\n",
              "    .dataframe tbody tr th {\n",
              "        vertical-align: top;\n",
              "    }\n",
              "\n",
              "    .dataframe thead th {\n",
              "        text-align: right;\n",
              "    }\n",
              "</style>\n",
              "<table border=\"1\" class=\"dataframe\">\n",
              "  <thead>\n",
              "    <tr style=\"text-align: right;\">\n",
              "      <th></th>\n",
              "      <th>App Name</th>\n",
              "      <th>Category</th>\n",
              "      <th>Rating</th>\n",
              "      <th>Rating Count</th>\n",
              "      <th>Free</th>\n",
              "      <th>Price</th>\n",
              "      <th>Currency</th>\n",
              "      <th>Size</th>\n",
              "      <th>Minimum Android</th>\n",
              "      <th>Developer Id</th>\n",
              "      <th>Released</th>\n",
              "      <th>Last Updated</th>\n",
              "      <th>Content Rating</th>\n",
              "      <th>Ad Supported</th>\n",
              "      <th>In App Purchases</th>\n",
              "      <th>Editors Choice</th>\n",
              "      <th>Install No.</th>\n",
              "    </tr>\n",
              "  </thead>\n",
              "  <tbody>\n",
              "    <tr>\n",
              "      <th>0</th>\n",
              "      <td>Gakondo</td>\n",
              "      <td>Adventure</td>\n",
              "      <td>0.0</td>\n",
              "      <td>0</td>\n",
              "      <td>True</td>\n",
              "      <td>0.0</td>\n",
              "      <td>USD</td>\n",
              "      <td>10M</td>\n",
              "      <td>7.1 and up</td>\n",
              "      <td>Jean Confident Irénée NIYIZIBYOSE</td>\n",
              "      <td>2020-02-26</td>\n",
              "      <td>2020-02-26</td>\n",
              "      <td>Everyone</td>\n",
              "      <td>False</td>\n",
              "      <td>False</td>\n",
              "      <td>False</td>\n",
              "      <td>12</td>\n",
              "    </tr>\n",
              "    <tr>\n",
              "      <th>1</th>\n",
              "      <td>Ampere Battery Info</td>\n",
              "      <td>Tools</td>\n",
              "      <td>4.4</td>\n",
              "      <td>64</td>\n",
              "      <td>True</td>\n",
              "      <td>0.0</td>\n",
              "      <td>USD</td>\n",
              "      <td>2.9M</td>\n",
              "      <td>5.0 and up</td>\n",
              "      <td>Webserveis</td>\n",
              "      <td>2020-05-21</td>\n",
              "      <td>2021-05-06</td>\n",
              "      <td>Everyone</td>\n",
              "      <td>True</td>\n",
              "      <td>False</td>\n",
              "      <td>False</td>\n",
              "      <td>6331</td>\n",
              "    </tr>\n",
              "    <tr>\n",
              "      <th>2</th>\n",
              "      <td>Vibook</td>\n",
              "      <td>Productivity</td>\n",
              "      <td>0.0</td>\n",
              "      <td>0</td>\n",
              "      <td>True</td>\n",
              "      <td>0.0</td>\n",
              "      <td>USD</td>\n",
              "      <td>3.7M</td>\n",
              "      <td>4.0.3 and up</td>\n",
              "      <td>Cabin Crew</td>\n",
              "      <td>2019-08-09</td>\n",
              "      <td>2019-08-19</td>\n",
              "      <td>Everyone</td>\n",
              "      <td>False</td>\n",
              "      <td>False</td>\n",
              "      <td>False</td>\n",
              "      <td>54</td>\n",
              "    </tr>\n",
              "    <tr>\n",
              "      <th>3</th>\n",
              "      <td>Smart City Trichy Public Service Vehicles 17UC...</td>\n",
              "      <td>Communication</td>\n",
              "      <td>5.0</td>\n",
              "      <td>5</td>\n",
              "      <td>True</td>\n",
              "      <td>0.0</td>\n",
              "      <td>USD</td>\n",
              "      <td>1.8M</td>\n",
              "      <td>4.0.3 and up</td>\n",
              "      <td>Climate Smart Tech2</td>\n",
              "      <td>2018-09-10</td>\n",
              "      <td>2018-10-13</td>\n",
              "      <td>Everyone</td>\n",
              "      <td>True</td>\n",
              "      <td>False</td>\n",
              "      <td>False</td>\n",
              "      <td>14</td>\n",
              "    </tr>\n",
              "    <tr>\n",
              "      <th>4</th>\n",
              "      <td>GROW.me</td>\n",
              "      <td>Tools</td>\n",
              "      <td>0.0</td>\n",
              "      <td>0</td>\n",
              "      <td>True</td>\n",
              "      <td>0.0</td>\n",
              "      <td>USD</td>\n",
              "      <td>6.2M</td>\n",
              "      <td>4.1 and up</td>\n",
              "      <td>Rafal Milek-Horodyski</td>\n",
              "      <td>2020-02-21</td>\n",
              "      <td>2018-11-12</td>\n",
              "      <td>Everyone</td>\n",
              "      <td>False</td>\n",
              "      <td>False</td>\n",
              "      <td>False</td>\n",
              "      <td>289</td>\n",
              "    </tr>\n",
              "  </tbody>\n",
              "</table>\n",
              "</div>\n",
              "      <button class=\"colab-df-convert\" onclick=\"convertToInteractive('df-88cbc81f-aa89-405c-9823-70aeda8ebb1e')\"\n",
              "              title=\"Convert this dataframe to an interactive table.\"\n",
              "              style=\"display:none;\">\n",
              "        \n",
              "  <svg xmlns=\"http://www.w3.org/2000/svg\" height=\"24px\"viewBox=\"0 0 24 24\"\n",
              "       width=\"24px\">\n",
              "    <path d=\"M0 0h24v24H0V0z\" fill=\"none\"/>\n",
              "    <path d=\"M18.56 5.44l.94 2.06.94-2.06 2.06-.94-2.06-.94-.94-2.06-.94 2.06-2.06.94zm-11 1L8.5 8.5l.94-2.06 2.06-.94-2.06-.94L8.5 2.5l-.94 2.06-2.06.94zm10 10l.94 2.06.94-2.06 2.06-.94-2.06-.94-.94-2.06-.94 2.06-2.06.94z\"/><path d=\"M17.41 7.96l-1.37-1.37c-.4-.4-.92-.59-1.43-.59-.52 0-1.04.2-1.43.59L10.3 9.45l-7.72 7.72c-.78.78-.78 2.05 0 2.83L4 21.41c.39.39.9.59 1.41.59.51 0 1.02-.2 1.41-.59l7.78-7.78 2.81-2.81c.8-.78.8-2.07 0-2.86zM5.41 20L4 18.59l7.72-7.72 1.47 1.35L5.41 20z\"/>\n",
              "  </svg>\n",
              "      </button>\n",
              "      \n",
              "  <style>\n",
              "    .colab-df-container {\n",
              "      display:flex;\n",
              "      flex-wrap:wrap;\n",
              "      gap: 12px;\n",
              "    }\n",
              "\n",
              "    .colab-df-convert {\n",
              "      background-color: #E8F0FE;\n",
              "      border: none;\n",
              "      border-radius: 50%;\n",
              "      cursor: pointer;\n",
              "      display: none;\n",
              "      fill: #1967D2;\n",
              "      height: 32px;\n",
              "      padding: 0 0 0 0;\n",
              "      width: 32px;\n",
              "    }\n",
              "\n",
              "    .colab-df-convert:hover {\n",
              "      background-color: #E2EBFA;\n",
              "      box-shadow: 0px 1px 2px rgba(60, 64, 67, 0.3), 0px 1px 3px 1px rgba(60, 64, 67, 0.15);\n",
              "      fill: #174EA6;\n",
              "    }\n",
              "\n",
              "    [theme=dark] .colab-df-convert {\n",
              "      background-color: #3B4455;\n",
              "      fill: #D2E3FC;\n",
              "    }\n",
              "\n",
              "    [theme=dark] .colab-df-convert:hover {\n",
              "      background-color: #434B5C;\n",
              "      box-shadow: 0px 1px 3px 1px rgba(0, 0, 0, 0.15);\n",
              "      filter: drop-shadow(0px 1px 2px rgba(0, 0, 0, 0.3));\n",
              "      fill: #FFFFFF;\n",
              "    }\n",
              "  </style>\n",
              "\n",
              "      <script>\n",
              "        const buttonEl =\n",
              "          document.querySelector('#df-88cbc81f-aa89-405c-9823-70aeda8ebb1e button.colab-df-convert');\n",
              "        buttonEl.style.display =\n",
              "          google.colab.kernel.accessAllowed ? 'block' : 'none';\n",
              "\n",
              "        async function convertToInteractive(key) {\n",
              "          const element = document.querySelector('#df-88cbc81f-aa89-405c-9823-70aeda8ebb1e');\n",
              "          const dataTable =\n",
              "            await google.colab.kernel.invokeFunction('convertToInteractive',\n",
              "                                                     [key], {});\n",
              "          if (!dataTable) return;\n",
              "\n",
              "          const docLinkHtml = 'Like what you see? Visit the ' +\n",
              "            '<a target=\"_blank\" href=https://colab.research.google.com/notebooks/data_table.ipynb>data table notebook</a>'\n",
              "            + ' to learn more about interactive tables.';\n",
              "          element.innerHTML = '';\n",
              "          dataTable['output_type'] = 'display_data';\n",
              "          await google.colab.output.renderOutput(dataTable, element);\n",
              "          const docLink = document.createElement('div');\n",
              "          docLink.innerHTML = docLinkHtml;\n",
              "          element.appendChild(docLink);\n",
              "        }\n",
              "      </script>\n",
              "    </div>\n",
              "  </div>\n",
              "  "
            ],
            "text/plain": [
              "                                            App Name       Category  Rating  \\\n",
              "0                                            Gakondo      Adventure     0.0   \n",
              "1                                Ampere Battery Info          Tools     4.4   \n",
              "2                                             Vibook   Productivity     0.0   \n",
              "3  Smart City Trichy Public Service Vehicles 17UC...  Communication     5.0   \n",
              "4                                            GROW.me          Tools     0.0   \n",
              "\n",
              "   Rating Count  Free  Price Currency  Size Minimum Android  \\\n",
              "0             0  True    0.0      USD   10M      7.1 and up   \n",
              "1            64  True    0.0      USD  2.9M      5.0 and up   \n",
              "2             0  True    0.0      USD  3.7M    4.0.3 and up   \n",
              "3             5  True    0.0      USD  1.8M    4.0.3 and up   \n",
              "4             0  True    0.0      USD  6.2M      4.1 and up   \n",
              "\n",
              "                        Developer Id   Released Last Updated Content Rating  \\\n",
              "0  Jean Confident Irénée NIYIZIBYOSE 2020-02-26   2020-02-26       Everyone   \n",
              "1                         Webserveis 2020-05-21   2021-05-06       Everyone   \n",
              "2                         Cabin Crew 2019-08-09   2019-08-19       Everyone   \n",
              "3                Climate Smart Tech2 2018-09-10   2018-10-13       Everyone   \n",
              "4              Rafal Milek-Horodyski 2020-02-21   2018-11-12       Everyone   \n",
              "\n",
              "   Ad Supported  In App Purchases  Editors Choice  Install No.  \n",
              "0         False             False           False           12  \n",
              "1          True             False           False         6331  \n",
              "2         False             False           False           54  \n",
              "3          True             False           False           14  \n",
              "4         False             False           False          289  "
            ]
          },
          "metadata": {},
          "execution_count": 140
        }
      ]
    },
    {
      "cell_type": "markdown",
      "source": [
        "### Paid & Free Apps \n",
        "\n",
        "> Q. How many free/paid apps are there in dataset?"
      ],
      "metadata": {
        "id": "lZS1cdVGOXwZ"
      },
      "id": "lZS1cdVGOXwZ"
    },
    {
      "cell_type": "code",
      "execution_count": 40,
      "id": "004c2794-1a71-4cbf-a367-da6cddd75a8f",
      "metadata": {
        "id": "004c2794-1a71-4cbf-a367-da6cddd75a8f",
        "colab": {
          "base_uri": "https://localhost:8080/"
        },
        "outputId": "e45eabf4-7144-4cec-d2dd-2138342df47f"
      },
      "outputs": [
        {
          "output_type": "execute_result",
          "data": {
            "text/plain": [
              "True     2191361\n",
              "False      43917\n",
              "Name: Free, dtype: Int64"
            ]
          },
          "metadata": {},
          "execution_count": 40
        }
      ],
      "source": [
        "Free_apps= df['Free'].value_counts()\n",
        "Free_apps"
      ]
    },
    {
      "cell_type": "code",
      "source": [
        "free_percent = Free_apps * 100 / len(df)\n",
        "free_percent"
      ],
      "metadata": {
        "colab": {
          "base_uri": "https://localhost:8080/"
        },
        "id": "HVKNSKJ2OPhA",
        "outputId": "99323444-8492-49b6-8a2a-9f8d73390f44"
      },
      "id": "HVKNSKJ2OPhA",
      "execution_count": 41,
      "outputs": [
        {
          "output_type": "execute_result",
          "data": {
            "text/plain": [
              "True     98.035278\n",
              "False     1.964722\n",
              "Name: Free, dtype: float64"
            ]
          },
          "metadata": {},
          "execution_count": 41
        }
      ]
    },
    {
      "cell_type": "code",
      "source": [
        "plt.figure(figsize=(10,6))\n",
        "plt.bar(x=free_percent.index, height=free_percent)\n",
        "plt.title(\"Prepostion of Free and Paid Apps\")\n",
        "plt.xticks(ticks=[0,1], labels=[\"Paid Apps\", \"Free Apps\"])\n",
        "plt.ylabel('Percentage of data')\n",
        "plt.yscale('log')\n",
        "plt.tight_layout()\n",
        "plt.show()"
      ],
      "metadata": {
        "colab": {
          "base_uri": "https://localhost:8080/",
          "height": 441
        },
        "id": "UmkuxOEbOPfH",
        "outputId": "c1610fa4-3393-446a-c00b-ecdf441ce09a"
      },
      "id": "UmkuxOEbOPfH",
      "execution_count": 42,
      "outputs": [
        {
          "output_type": "display_data",
          "data": {
            "image/png": "[encoded data removed]",
            "text/plain": [
              "<Figure size 720x432 with 1 Axes>"
            ]
          },
          "metadata": {
            "needs_background": "light"
          }
        }
      ]
    },
    {
      "cell_type": "markdown",
      "source": [
        "### Rating"
      ],
      "metadata": {
        "id": "jKOyhD8tVNrK"
      },
      "id": "jKOyhD8tVNrK"
    },
    {
      "cell_type": "code",
      "source": [
        "plt.figure(figsize=(10,6))\n",
        "plt.hist(df['Rating'], bins=25, edgecolor='k')\n",
        "plt.axvline(np.median(df['Rating']), linestyle='--', color='r', label='Median', alpha=0.5)\n",
        "plt.axvline(np.mean(df['Rating']), linestyle='--',color='g', label='mean', alpha=0.5)\n",
        "plt.title(\"Histogram of Rating Apps\")\n",
        "plt.yscale('log')\n",
        "plt.xlabel('Rating of Apps')\n",
        "plt.ylabel('No. of Apps')\n",
        "plt.tight_layout()\n",
        "plt.legend()"
      ],
      "metadata": {
        "colab": {
          "base_uri": "https://localhost:8080/",
          "height": 458
        },
        "id": "qfNEZJIZOPXS",
        "outputId": "47cc9ef7-8cfe-4509-acf7-ffec30b7cfda"
      },
      "id": "qfNEZJIZOPXS",
      "execution_count": 44,
      "outputs": [
        {
          "output_type": "execute_result",
          "data": {
            "text/plain": [
              "<matplotlib.legend.Legend at 0x7ff0e184ab10>"
            ]
          },
          "metadata": {},
          "execution_count": 44
        },
        {
          "output_type": "display_data",
          "data": {
            "image/png": "[encoded data removed]",
            "text/plain": [
              "<Figure size 720x432 with 1 Axes>"
            ]
          },
          "metadata": {
            "needs_background": "light"
          }
        }
      ]
    },
    {
      "cell_type": "markdown",
      "source": [
        "- Around $10^6$ number of apps in dataset contains 0 rating, otherthan that distribution of rating over the apps is left skewed."
      ],
      "metadata": {
        "id": "DvPSaY6IYSQM"
      },
      "id": "DvPSaY6IYSQM"
    },
    {
      "cell_type": "markdown",
      "source": [
        "### Mean Ratings and Rating Counts"
      ],
      "metadata": {
        "id": "N0RytchtXrY2"
      },
      "id": "N0RytchtXrY2"
    },
    {
      "cell_type": "code",
      "source": [
        "df_mean = df.groupby(\"Category\")[[\"Rating\", \"Rating Count\"]].agg(np.mean)"
      ],
      "metadata": {
        "id": "vyI3eH_MXqbU"
      },
      "id": "vyI3eH_MXqbU",
      "execution_count": 142,
      "outputs": []
    },
    {
      "cell_type": "code",
      "source": [
        "plt.figure(figsize=(10,6))\n",
        "plt.hist(df_mean['Rating'])\n",
        "plt.title(\"Histogram of Mean Rating per Category\")\n",
        "plt.xlabel(\"Rating of Apps\")\n",
        "plt.axvline(np.median(df_mean['Rating']), linestyle='--', color='r', label='Median', alpha=0.5)\n",
        "plt.axvline(np.mean(df_mean['Rating']), linestyle='--',color='g', label='mean', alpha=0.5)\n",
        "plt.tight_layout()\n",
        "plt.show()"
      ],
      "metadata": {
        "colab": {
          "base_uri": "https://localhost:8080/",
          "height": 441
        },
        "id": "MckhyTXsOPUe",
        "outputId": "babedf09-06e2-4ee0-e5a3-dee711fda3a4"
      },
      "id": "MckhyTXsOPUe",
      "execution_count": 143,
      "outputs": [
        {
          "output_type": "display_data",
          "data": {
            "image/png": "[encoded data removed]",
            "text/plain": [
              "<Figure size 720x432 with 1 Axes>"
            ]
          },
          "metadata": {
            "needs_background": "light"
          }
        }
      ]
    },
    {
      "cell_type": "markdown",
      "source": [
        "- Mean distribution of rating per category is very close to be a normal. (as Central limit theorem)"
      ],
      "metadata": {
        "id": "LMdyKxzPZF5g"
      },
      "id": "LMdyKxzPZF5g"
    },
    {
      "cell_type": "code",
      "source": [
        "rating_by_cat = df_mean['Rating'].sort_values(ascending=False)"
      ],
      "metadata": {
        "id": "AiIWHJBqtatp"
      },
      "id": "AiIWHJBqtatp",
      "execution_count": 144,
      "outputs": []
    },
    {
      "cell_type": "code",
      "source": [
        "plt.figure(figsize=(10,6))\n",
        "plt.barh(y=rating_by_cat[:15].index, width=rating_by_cat[:15])\n",
        "plt.title(\"Top 15 Categories for mean rating\")\n",
        "plt.xlabel(\"Average ratings per category\")\n",
        "plt.tight_layout()\n",
        "plt.show()"
      ],
      "metadata": {
        "colab": {
          "base_uri": "https://localhost:8080/",
          "height": 441
        },
        "id": "4kcWCt5atarF",
        "outputId": "255d9d6b-9c55-4ad5-85d3-61b6661bef55"
      },
      "id": "4kcWCt5atarF",
      "execution_count": 145,
      "outputs": [
        {
          "output_type": "display_data",
          "data": {
            "image/png": "[encoded data removed]",
            "text/plain": [
              "<Figure size 720x432 with 1 Axes>"
            ]
          },
          "metadata": {
            "needs_background": "light"
          }
        }
      ]
    },
    {
      "cell_type": "markdown",
      "source": [
        "### Rating Count"
      ],
      "metadata": {
        "id": "6-x5mP3EEDDE"
      },
      "id": "6-x5mP3EEDDE"
    },
    {
      "cell_type": "code",
      "source": [
        "plt.figure(figsize=(10,6))\n",
        "plt.hist(df[\"Rating Count\"], bins=100, edgecolor='k')\n",
        "plt.title('Distribution of Rating Count')\n",
        "plt.yscale('log')\n",
        "plt.xlabel('Rating Count')\n",
        "plt.tight_layout()\n",
        "plt.show()"
      ],
      "metadata": {
        "colab": {
          "base_uri": "https://localhost:8080/",
          "height": 441
        },
        "id": "iUipK8R4taob",
        "outputId": "27acd17a-eb8c-4c7f-afea-cdbee20115f5"
      },
      "id": "iUipK8R4taob",
      "execution_count": 146,
      "outputs": [
        {
          "output_type": "display_data",
          "data": {
            "image/png": "[encoded data removed]",
            "text/plain": [
              "<Figure size 720x432 with 1 Axes>"
            ]
          },
          "metadata": {
            "needs_background": "light"
          }
        }
      ]
    },
    {
      "cell_type": "markdown",
      "source": [
        "- Distribution of Rating count is right skewed, it can be seen that the most of the apps rating count are below the 40 rating count. \n",
        "- We can also conform that by looking the 5 number summary of \"Rating Count\" column."
      ],
      "metadata": {
        "id": "xPFaPFraak5j"
      },
      "id": "xPFaPFraak5j"
    },
    {
      "cell_type": "code",
      "source": [
        "df['Rating Count'].describe()"
      ],
      "metadata": {
        "colab": {
          "base_uri": "https://localhost:8080/"
        },
        "id": "Jyxx9LBVGt5e",
        "outputId": "681ea8b4-61e2-413f-c82d-000154b7c6f9"
      },
      "id": "Jyxx9LBVGt5e",
      "execution_count": 147,
      "outputs": [
        {
          "output_type": "execute_result",
          "data": {
            "text/plain": [
              "count    2.235278e+06\n",
              "mean     2.759912e+03\n",
              "std      1.987596e+05\n",
              "min      0.000000e+00\n",
              "25%      0.000000e+00\n",
              "50%      6.000000e+00\n",
              "75%      4.200000e+01\n",
              "max      1.385576e+08\n",
              "Name: Rating Count, dtype: float64"
            ]
          },
          "metadata": {},
          "execution_count": 147
        }
      ]
    },
    {
      "cell_type": "code",
      "source": [
        "# calculate the percentage of apps which rating count < 60\n",
        "less_rating_count = df[df[\"Rating Count\"] < 60][\"Rating Count\"]\n",
        "len(less_rating_count)* 100/ len(df)"
      ],
      "metadata": {
        "colab": {
          "base_uri": "https://localhost:8080/"
        },
        "id": "miIPVGt4tajK",
        "outputId": "32ab6124-21b3-406b-e13b-8b9805d54642"
      },
      "id": "miIPVGt4tajK",
      "execution_count": 148,
      "outputs": [
        {
          "output_type": "execute_result",
          "data": {
            "text/plain": [
              "78.34224646777716"
            ]
          },
          "metadata": {},
          "execution_count": 148
        }
      ]
    },
    {
      "cell_type": "code",
      "source": [
        "plt.figure(figsize=(10,6))\n",
        "plt.hist(less_rating_count, bins=15, edgecolor='k')\n",
        "# plt.axvline(np.median(df['Rating Count']), linestyle='--', color='r', label='Median', alpha=0.5)\n",
        "# plt.axvline(np.mean(df['Rating Count']), linestyle='--',color='g', label='mean', alpha=0.5)\n",
        "plt.title('Distribution of Rating Count < 60')\n",
        "# plt.xscale('log')\n",
        "# plt.yscale('log')\n",
        "plt.xlabel('Rating Count')\n",
        "plt.tight_layout()\n",
        "plt.show()"
      ],
      "metadata": {
        "colab": {
          "base_uri": "https://localhost:8080/",
          "height": 441
        },
        "id": "ig_8tErOtagk",
        "outputId": "1c7d2b04-6f46-4a04-a03b-60578fb47886"
      },
      "id": "ig_8tErOtagk",
      "execution_count": 149,
      "outputs": [
        {
          "output_type": "display_data",
          "data": {
            "image/png": "[encoded data removed]",
            "text/plain": [
              "<Figure size 720x432 with 1 Axes>"
            ]
          },
          "metadata": {
            "needs_background": "light"
          }
        }
      ]
    },
    {
      "cell_type": "code",
      "source": [
        "# Percentage of apps which rating count > 1 million\n",
        "more_than_million = df[df[\"Rating Count\"] > 1e6 ]\n",
        "len(more_than_million) * 100 / len(df)"
      ],
      "metadata": {
        "colab": {
          "base_uri": "https://localhost:8080/"
        },
        "id": "wL7YWt_nKyo_",
        "outputId": "5f5b1bfe-6e7d-4174-a473-3d7caa3d425a"
      },
      "id": "wL7YWt_nKyo_",
      "execution_count": 150,
      "outputs": [
        {
          "output_type": "execute_result",
          "data": {
            "text/plain": [
              "0.0351634114414404"
            ]
          },
          "metadata": {},
          "execution_count": 150
        }
      ]
    },
    {
      "cell_type": "code",
      "source": [
        "rating_count_by_cat_mm = more_than_million.groupby(\"Category\")[\"Rating Count\"].agg('count')"
      ],
      "metadata": {
        "id": "-bhLeL2etaeh"
      },
      "id": "-bhLeL2etaeh",
      "execution_count": 151,
      "outputs": []
    },
    {
      "cell_type": "code",
      "source": [
        "sort_rating_count_mm = rating_count_by_cat_mm.sort_values(ascending=False)"
      ],
      "metadata": {
        "id": "TRZMEfu8KMPN"
      },
      "id": "TRZMEfu8KMPN",
      "execution_count": 152,
      "outputs": []
    },
    {
      "cell_type": "code",
      "source": [
        "plt.figure(figsize=(10,6))\n",
        "plt.barh(y=sort_rating_count_mm[:15].index, width=sort_rating_count_mm[:15])\n",
        "plt.title(\"Top 15 Categories which Rating Count > 1 million\")\n",
        "plt.xlabel(\"No. of Apps\")\n",
        "plt.tight_layout()\n",
        "plt.show()"
      ],
      "metadata": {
        "colab": {
          "base_uri": "https://localhost:8080/",
          "height": 441
        },
        "id": "2VnUlW7htabD",
        "outputId": "b3b6809a-2924-4c28-d4a4-dec9a610a26f"
      },
      "id": "2VnUlW7htabD",
      "execution_count": 153,
      "outputs": [
        {
          "output_type": "display_data",
          "data": {
            "image/png": "[encoded data removed]",
            "text/plain": [
              "<Figure size 720x432 with 1 Axes>"
            ]
          },
          "metadata": {
            "needs_background": "light"
          }
        }
      ]
    },
    {
      "cell_type": "markdown",
      "source": [
        "- `Action` category contains highest number of apps (>70) in dataset which has more than million Rating Count. "
      ],
      "metadata": {
        "id": "HmZL4FAtdYGY"
      },
      "id": "HmZL4FAtdYGY"
    },
    {
      "cell_type": "code",
      "source": [
        "plt.figure(figsize=(10,6))\n",
        "sns.scatterplot(y =df[\"Rating\"], x =df[\"Rating Count\"], alpha=0.7)\n",
        "plt.title(\"Rating vs Rating Count\")\n",
        "plt.tight_layout()"
      ],
      "metadata": {
        "colab": {
          "base_uri": "https://localhost:8080/",
          "height": 441
        },
        "id": "Lz24KV3rtaYQ",
        "outputId": "1e52aba6-6541-4fee-bbce-c4382762e9a8"
      },
      "id": "Lz24KV3rtaYQ",
      "execution_count": 154,
      "outputs": [
        {
          "output_type": "display_data",
          "data": {
            "image/png": "[encoded data removed]",
            "text/plain": [
              "<Figure size 720x432 with 1 Axes>"
            ]
          },
          "metadata": {
            "needs_background": "light"
          }
        }
      ]
    },
    {
      "cell_type": "markdown",
      "source": [
        "### Year\n"
      ],
      "metadata": {
        "id": "etLM-Tu6UD1_"
      },
      "id": "etLM-Tu6UD1_"
    },
    {
      "cell_type": "code",
      "source": [
        "yearly_released = df[\"Released\"].dt.year.value_counts() "
      ],
      "metadata": {
        "id": "WHZGD9ADeeBD"
      },
      "execution_count": 156,
      "outputs": [],
      "id": "WHZGD9ADeeBD"
    },
    {
      "cell_type": "code",
      "source": [
        "yearly_updates = df[\"Last Updated\"].dt.year.value_counts() "
      ],
      "metadata": {
        "id": "z5WeZx4ZkfpB"
      },
      "id": "z5WeZx4ZkfpB",
      "execution_count": 157,
      "outputs": []
    },
    {
      "cell_type": "code",
      "source": [
        "plt.figure(figsize=(10,6))\n",
        "# width = 0.25\n",
        "plt.bar(yearly_released.index, yearly_released, Label=\"Released Apps\")\n",
        "# plt.bar(yearly_updates.index + width, yearly_updates, width= 0.5,  Label=\"Last Updated Apps\")\n",
        "plt.title(\"Number of Apps per Year\")\n",
        "plt.xlabel(\"Year\")\n",
        "plt.ylabel(\"Number of Apps\")\n",
        "# plt.tight_layout()\n",
        "plt.show()\n"
      ],
      "metadata": {
        "id": "JyYgbGtKtaU8",
        "colab": {
          "base_uri": "https://localhost:8080/",
          "height": 405
        },
        "outputId": "218cc8dd-aa33-4f42-f456-99b8e3f2e5bd"
      },
      "id": "JyYgbGtKtaU8",
      "execution_count": 158,
      "outputs": [
        {
          "output_type": "display_data",
          "data": {
            "image/png": "[encoded data removed]",
            "text/plain": [
              "<Figure size 720x432 with 1 Axes>"
            ]
          },
          "metadata": {
            "needs_background": "light"
          }
        }
      ]
    },
    {
      "cell_type": "markdown",
      "source": [
        "- As we can see in the above plot that over the years, number apps has increased more rapidly.\n",
        "- It is also notable from the plot that dataset does not contains full information of year 2021."
      ],
      "metadata": {
        "id": "s4btv_t7f-hv"
      },
      "id": "s4btv_t7f-hv"
    },
    {
      "cell_type": "markdown",
      "source": [
        "#### Year - 2020 and 2019"
      ],
      "metadata": {
        "id": "D7UUvIcAhcnN"
      },
      "id": "D7UUvIcAhcnN"
    },
    {
      "cell_type": "code",
      "source": [
        "# Group data by year \n",
        "yearly_data =  df.groupby(df[\"Released\"].dt.year)\n",
        "year_2020 = yearly_data.get_group(2020)\n",
        "year_2019 = yearly_data.get_group(2019)"
      ],
      "metadata": {
        "id": "6Pyk6-aWOPR2"
      },
      "id": "6Pyk6-aWOPR2",
      "execution_count": 159,
      "outputs": []
    },
    {
      "cell_type": "code",
      "source": [
        "# Percentage of 2020's data and it's total number\n",
        "print(year_2020.shape[0]*100 / len(df))\n",
        "print(year_2020.shape[0])"
      ],
      "metadata": {
        "id": "uJWe2ZWQqh6r",
        "outputId": "eed414bf-6a5e-4a3f-e091-84606ba2e8c2",
        "colab": {
          "base_uri": "https://localhost:8080/"
        }
      },
      "id": "uJWe2ZWQqh6r",
      "execution_count": 160,
      "outputs": [
        {
          "output_type": "stream",
          "name": "stdout",
          "text": [
            "24.261590728312093\n",
            "542314\n"
          ]
        }
      ]
    },
    {
      "cell_type": "code",
      "source": [
        "cat_2020 = year_2020.Category.value_counts()\n",
        "cat_2019 = year_2019.Category.value_counts()"
      ],
      "metadata": {
        "id": "8_Ei1Gf0qhzd"
      },
      "id": "8_Ei1Gf0qhzd",
      "execution_count": 161,
      "outputs": []
    },
    {
      "cell_type": "code",
      "source": [
        "fig, axes = plt.subplots(1,2, figsize=(10,6))\n",
        "plt.figure(figsize=(10,6))\n",
        "axes[0].barh(y=cat_2019.index[:10], width=cat_2019[:10])\n",
        "axes[0].set_title(\"2019\")\n",
        "axes[1].barh(y=cat_2020.index[:10], width=cat_2020[:10])\n",
        "axes[1].set_title(\"2020\")\n",
        "axes[1].yaxis.set_label_position(\"right\")\n",
        "axes[1].yaxis.tick_right()\n",
        "axes[1].set_xlim(max(cat_2020[:10]), 0)\n"
      ],
      "metadata": {
        "colab": {
          "base_uri": "https://localhost:8080/",
          "height": 422
        },
        "id": "0NID_FHXivzC",
        "outputId": "d6eb0459-3f2a-4728-a7a7-11b64f1a4328"
      },
      "id": "0NID_FHXivzC",
      "execution_count": 162,
      "outputs": [
        {
          "output_type": "execute_result",
          "data": {
            "text/plain": [
              "(63320.0, 0.0)"
            ]
          },
          "metadata": {},
          "execution_count": 162
        },
        {
          "output_type": "display_data",
          "data": {
            "image/png": "[encoded data removed]",
            "text/plain": [
              "<Figure size 720x432 with 2 Axes>"
            ]
          },
          "metadata": {
            "needs_background": "light"
          }
        },
        {
          "output_type": "display_data",
          "data": {
            "text/plain": [
              "<Figure size 720x432 with 0 Axes>"
            ]
          },
          "metadata": {}
        }
      ]
    },
    {
      "cell_type": "markdown",
      "source": [
        "- We can see that `Education` and `Music & Audio` categories are leading in both year.\n",
        "- However year 2020 has more `Entertainment` apps than `Business`where in 2019, `Business` apps were more compair to `Entertainment`.\n"
      ],
      "metadata": {
        "id": "J8mZzDpUoMHC"
      },
      "id": "J8mZzDpUoMHC"
    },
    {
      "cell_type": "code",
      "source": [
        "cat2020_installs = year_2020.groupby('Category')['Install No.'].agg(np.sum).sort_values(ascending=False)\n",
        "cat2019_installs = year_2019.groupby('Category')['Install No.'].agg(np.sum).sort_values(ascending=False)"
      ],
      "metadata": {
        "id": "P5CG1yPhs6WI"
      },
      "id": "P5CG1yPhs6WI",
      "execution_count": 178,
      "outputs": []
    },
    {
      "cell_type": "code",
      "source": [
        "fig, axes = plt.subplots(1,2,figsize=(16,6))\n",
        "axes[0].barh(cat2019_installs.index[:15],  cat2019_installs[:15])\n",
        "axes[0].set_title(\"2019\")\n",
        "axes[1].barh(cat2020_installs.index[:15],  cat2020_installs[:15])\n",
        "axes[1].set_title(\"2020\")\n",
        "axes[1].yaxis.set_label_position(\"right\")\n",
        "axes[1].yaxis.tick_right()\n",
        "axes[1].set_xlim(max(cat2020_installs)+1e8, 0)\n",
        "# plt.xscale('log')"
      ],
      "metadata": {
        "id": "6tS3lrNPs6TC",
        "outputId": "4746b9c2-2589-47be-bcf4-eab3e71c2e87",
        "colab": {
          "base_uri": "https://localhost:8080/",
          "height": 418
        }
      },
      "id": "6tS3lrNPs6TC",
      "execution_count": 195,
      "outputs": [
        {
          "output_type": "execute_result",
          "data": {
            "text/plain": [
              "(2966193448.0, 0.0)"
            ]
          },
          "metadata": {},
          "execution_count": 195
        },
        {
          "output_type": "display_data",
          "data": {
            "image/png": "[encoded data removed]",
            "text/plain": [
              "<Figure size 1152x432 with 2 Axes>"
            ]
          },
          "metadata": {
            "needs_background": "light"
          }
        }
      ]
    },
    {
      "cell_type": "markdown",
      "id": "379b4a97-54ce-4d28-9974-8bf74839330d",
      "metadata": {
        "id": "379b4a97-54ce-4d28-9974-8bf74839330d"
      },
      "source": [
        "## Summary and Conclusion"
      ]
    },
    {
      "cell_type": "code",
      "source": [
        ""
      ],
      "metadata": {
        "id": "Crh8bVaQIIm3"
      },
      "id": "Crh8bVaQIIm3",
      "execution_count": null,
      "outputs": []
    }
  ],
  "metadata": {
    "kernelspec": {
      "display_name": "Python 3",
      "language": "python",
      "name": "python3"
    },
    "language_info": {
      "codemirror_mode": {
        "name": "ipython",
        "version": 3
      },
      "file_extension": ".py",
      "mimetype": "text/x-python",
      "name": "python",
      "nbconvert_exporter": "python",
      "pygments_lexer": "ipython3",
      "version": "3.9.8"
    },
    "colab": {
      "name": "Copy of Copy of EDA_on_applications.ipynb",
      "provenance": [],
      "collapsed_sections": [
        "7ecee425-250d-4f0a-b02a-dfb7e3db5561",
        "ea790ef1-80a1-4c27-9054-3e2278498537",
        "6d2ba773-c699-4846-ada8-77e2c01fe273",
        "QKTapzf55jDc",
        "_ETjypRe4qpi",
        "lZS1cdVGOXwZ",
        "jKOyhD8tVNrK"
      ],
      "include_colab_link": true
    }
  },
  "nbformat": 4,
  "nbformat_minor": 5
}