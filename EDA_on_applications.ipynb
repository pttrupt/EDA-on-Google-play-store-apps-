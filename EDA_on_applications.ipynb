{
  "cells": [
    {
      "cell_type": "markdown",
      "metadata": {
        "id": "view-in-github",
        "colab_type": "text"
      },
      "source": [
        "<a href=\"https://colab.research.google.com/github/pttrupt/EDA-on-Google-play-store-apps-/blob/main/EDA_on_applications.ipynb\" target=\"_parent\"><img src=\"https://colab.research.google.com/assets/colab-badge.svg\" alt=\"Open In Colab\"/></a>"
      ]
    },
    {
      "cell_type": "markdown",
      "id": "da164f10-169d-446a-b786-fa9c9bcfbd22",
      "metadata": {
        "tags": [],
        "id": "da164f10-169d-446a-b786-fa9c9bcfbd22"
      },
      "source": [
        "# Google Play Store Apps Exploratory Data Analysis \n",
        "\n",
        "ToDo - talk about EDA \n",
        "\n",
        "ToDo - talk about dataset(Source, information)\n",
        "* Kaggle \n",
        "* information about applications \n"
      ]
    },
    {
      "cell_type": "markdown",
      "id": "7ecee425-250d-4f0a-b02a-dfb7e3db5561",
      "metadata": {
        "tags": [],
        "id": "7ecee425-250d-4f0a-b02a-dfb7e3db5561"
      },
      "source": [
        "## Download the Dataset\n",
        "\n",
        "- Dataset URL: https://www.kaggle.com/gauthamp10/google-playstore-apps  "
      ]
    },
    {
      "cell_type": "code",
      "execution_count": 1,
      "id": "007c4267-4f16-4b94-ba1b-adcac2f20054",
      "metadata": {
        "id": "007c4267-4f16-4b94-ba1b-adcac2f20054"
      },
      "outputs": [],
      "source": [
        "!pip install opendatasets --upgrade -q"
      ]
    },
    {
      "cell_type": "code",
      "execution_count": 2,
      "id": "4fb7d857-dafe-4b88-a74d-22a5dea21851",
      "metadata": {
        "colab": {
          "base_uri": "https://localhost:8080/"
        },
        "id": "4fb7d857-dafe-4b88-a74d-22a5dea21851",
        "outputId": "dbb179ec-5dce-415c-b1b2-5eec7753e1c1"
      },
      "outputs": [
        {
          "output_type": "stream",
          "name": "stdout",
          "text": [
            "Please provide your Kaggle credentials to download this dataset. Learn more: http://bit.ly/kaggle-creds\n",
            "Your Kaggle username: pttrupt\n",
            "Your Kaggle Key: ··········\n",
            "Downloading google-playstore-apps.zip to ./google-playstore-apps\n"
          ]
        },
        {
          "output_type": "stream",
          "name": "stderr",
          "text": [
            "100%|██████████| 207M/207M [00:06<00:00, 32.3MB/s]\n"
          ]
        },
        {
          "output_type": "stream",
          "name": "stdout",
          "text": [
            "\n"
          ]
        }
      ],
      "source": [
        "import opendatasets as od \n",
        "\n",
        "download_url = 'https://www.kaggle.com/gauthamp10/google-playstore-apps'\n",
        "\n",
        "od.download(download_url)"
      ]
    },
    {
      "cell_type": "code",
      "execution_count": 3,
      "id": "29035a97-393c-479d-8b3c-5d813ef4dc05",
      "metadata": {
        "id": "29035a97-393c-479d-8b3c-5d813ef4dc05"
      },
      "outputs": [],
      "source": [
        "data_file = './google-playstore-apps/Google-Playstore.csv'"
      ]
    },
    {
      "cell_type": "markdown",
      "id": "ea790ef1-80a1-4c27-9054-3e2278498537",
      "metadata": {
        "id": "ea790ef1-80a1-4c27-9054-3e2278498537"
      },
      "source": [
        "## Data Table Display \n",
        "\n",
        "- Enables the Interactive Displays to Panadas DataFrame for Sorting, Filtering and Explore Dynamically \n"
      ]
    },
    {
      "cell_type": "code",
      "execution_count": 4,
      "id": "df858143-9b2b-47c4-81e5-b61f73b9117f",
      "metadata": {
        "id": "df858143-9b2b-47c4-81e5-b61f73b9117f"
      },
      "outputs": [],
      "source": [
        "pip install google.colab -q"
      ]
    },
    {
      "cell_type": "code",
      "execution_count": 5,
      "id": "cbd03c36-81de-4b7a-bc4f-5b4d7cb2b1a0",
      "metadata": {
        "id": "cbd03c36-81de-4b7a-bc4f-5b4d7cb2b1a0"
      },
      "outputs": [],
      "source": [
        "from google.colab import data_table"
      ]
    },
    {
      "cell_type": "code",
      "execution_count": null,
      "id": "967188d6-8df7-4907-84a6-24231c34091a",
      "metadata": {
        "id": "967188d6-8df7-4907-84a6-24231c34091a"
      },
      "outputs": [],
      "source": [
        "data_table.enable_dataframe_formatter()"
      ]
    },
    {
      "cell_type": "markdown",
      "id": "6d2ba773-c699-4846-ada8-77e2c01fe273",
      "metadata": {
        "id": "6d2ba773-c699-4846-ada8-77e2c01fe273"
      },
      "source": [
        "## Data Preparation and cleaning \n",
        "\n",
        "* Load the file using Pandas \n",
        "* Look for information about the data \n",
        "* fix incorrect values and any missing values \n",
        "\n",
        "\n"
      ]
    },
    {
      "cell_type": "code",
      "execution_count": 7,
      "id": "c89bff10-6514-4e04-a193-16cfc6cc00cb",
      "metadata": {
        "id": "c89bff10-6514-4e04-a193-16cfc6cc00cb"
      },
      "outputs": [],
      "source": [
        "import pandas as pd \n",
        "import numpy as np"
      ]
    },
    {
      "cell_type": "code",
      "execution_count": 6,
      "id": "c43ef6c5-efa8-41a8-9664-a53abed410ae",
      "metadata": {
        "id": "c43ef6c5-efa8-41a8-9664-a53abed410ae",
        "outputId": "ad2fbd72-2c3d-4502-a2bd-07dd51743c54",
        "colab": {
          "base_uri": "https://localhost:8080/",
          "height": 182
        }
      },
      "outputs": [
        {
          "output_type": "error",
          "ename": "NameError",
          "evalue": "ignored",
          "traceback": [
            "\u001b[0;31m---------------------------------------------------------------------------\u001b[0m",
            "\u001b[0;31mNameError\u001b[0m                                 Traceback (most recent call last)",
            "\u001b[0;32m<ipython-input-6-30715e69d62b>\u001b[0m in \u001b[0;36m<module>\u001b[0;34m()\u001b[0m\n\u001b[1;32m      1\u001b[0m \u001b[0;31m# convert csv into Pandas DataFrame\u001b[0m\u001b[0;34m\u001b[0m\u001b[0;34m\u001b[0m\u001b[0;34m\u001b[0m\u001b[0m\n\u001b[0;32m----> 2\u001b[0;31m \u001b[0mdf\u001b[0m \u001b[0;34m=\u001b[0m \u001b[0mpd\u001b[0m\u001b[0;34m.\u001b[0m\u001b[0mread_csv\u001b[0m\u001b[0;34m(\u001b[0m\u001b[0mdata_file\u001b[0m\u001b[0;34m)\u001b[0m\u001b[0;34m\u001b[0m\u001b[0;34m\u001b[0m\u001b[0m\n\u001b[0m",
            "\u001b[0;31mNameError\u001b[0m: name 'pd' is not defined"
          ]
        }
      ],
      "source": [
        "# convert csv file into Pandas DataFrame \n",
        "df = pd.read_csv(data_file)"
      ]
    },
    {
      "cell_type": "code",
      "source": [
        "# set options to show the all columns of DataFrame \n",
        "pd.options.display.max_columns = len(df.columns)"
      ],
      "metadata": {
        "id": "7d-pm7Dre-66"
      },
      "id": "7d-pm7Dre-66",
      "execution_count": null,
      "outputs": []
    },
    {
      "cell_type": "code",
      "execution_count": null,
      "id": "c94687e6-0702-4ebd-a25a-f710f7ec7965",
      "metadata": {
        "colab": {
          "base_uri": "https://localhost:8080/",
          "height": 548
        },
        "id": "c94687e6-0702-4ebd-a25a-f710f7ec7965",
        "outputId": "511a7903-8671-4ce1-c3fe-e8c5970ab68c"
      },
      "outputs": [
        {
          "output_type": "stream",
          "name": "stdout",
          "text": [
            "Warning: Total number of columns (24) exceeds max_columns (20). Falling back to pandas display.\n"
          ]
        },
        {
          "output_type": "execute_result",
          "data": {
            "text/html": [
              "\n",
              "  <div id=\"df-120b605d-1718-4af5-8499-1fb84db546b6\">\n",
              "    <div class=\"colab-df-container\">\n",
              "      <div>\n",
              "<style scoped>\n",
              "    .dataframe tbody tr th:only-of-type {\n",
              "        vertical-align: middle;\n",
              "    }\n",
              "\n",
              "    .dataframe tbody tr th {\n",
              "        vertical-align: top;\n",
              "    }\n",
              "\n",
              "    .dataframe thead th {\n",
              "        text-align: right;\n",
              "    }\n",
              "</style>\n",
              "<table border=\"1\" class=\"dataframe\">\n",
              "  <thead>\n",
              "    <tr style=\"text-align: right;\">\n",
              "      <th></th>\n",
              "      <th>App Name</th>\n",
              "      <th>App Id</th>\n",
              "      <th>Category</th>\n",
              "      <th>Rating</th>\n",
              "      <th>Rating Count</th>\n",
              "      <th>Installs</th>\n",
              "      <th>Minimum Installs</th>\n",
              "      <th>Maximum Installs</th>\n",
              "      <th>Free</th>\n",
              "      <th>Price</th>\n",
              "      <th>Currency</th>\n",
              "      <th>Size</th>\n",
              "      <th>Minimum Android</th>\n",
              "      <th>Developer Id</th>\n",
              "      <th>Developer Website</th>\n",
              "      <th>Developer Email</th>\n",
              "      <th>Released</th>\n",
              "      <th>Last Updated</th>\n",
              "      <th>Content Rating</th>\n",
              "      <th>Privacy Policy</th>\n",
              "      <th>Ad Supported</th>\n",
              "      <th>In App Purchases</th>\n",
              "      <th>Editors Choice</th>\n",
              "      <th>Scraped Time</th>\n",
              "    </tr>\n",
              "  </thead>\n",
              "  <tbody>\n",
              "    <tr>\n",
              "      <th>0</th>\n",
              "      <td>Gakondo</td>\n",
              "      <td>com.ishakwe.gakondo</td>\n",
              "      <td>Adventure</td>\n",
              "      <td>0.0</td>\n",
              "      <td>0.0</td>\n",
              "      <td>10+</td>\n",
              "      <td>10.0</td>\n",
              "      <td>15</td>\n",
              "      <td>True</td>\n",
              "      <td>0.0</td>\n",
              "      <td>USD</td>\n",
              "      <td>10M</td>\n",
              "      <td>7.1 and up</td>\n",
              "      <td>Jean Confident Irénée NIYIZIBYOSE</td>\n",
              "      <td>https://beniyizibyose.tk/#/</td>\n",
              "      <td>jean21101999@gmail.com</td>\n",
              "      <td>Feb 26, 2020</td>\n",
              "      <td>Feb 26, 2020</td>\n",
              "      <td>Everyone</td>\n",
              "      <td>https://beniyizibyose.tk/projects/</td>\n",
              "      <td>False</td>\n",
              "      <td>False</td>\n",
              "      <td>False</td>\n",
              "      <td>2021-06-15 20:19:35</td>\n",
              "    </tr>\n",
              "    <tr>\n",
              "      <th>1</th>\n",
              "      <td>Ampere Battery Info</td>\n",
              "      <td>com.webserveis.batteryinfo</td>\n",
              "      <td>Tools</td>\n",
              "      <td>4.4</td>\n",
              "      <td>64.0</td>\n",
              "      <td>5,000+</td>\n",
              "      <td>5000.0</td>\n",
              "      <td>7662</td>\n",
              "      <td>True</td>\n",
              "      <td>0.0</td>\n",
              "      <td>USD</td>\n",
              "      <td>2.9M</td>\n",
              "      <td>5.0 and up</td>\n",
              "      <td>Webserveis</td>\n",
              "      <td>https://webserveis.netlify.app/</td>\n",
              "      <td>webserveis@gmail.com</td>\n",
              "      <td>May 21, 2020</td>\n",
              "      <td>May 06, 2021</td>\n",
              "      <td>Everyone</td>\n",
              "      <td>https://dev4phones.wordpress.com/licencia-de-uso/</td>\n",
              "      <td>True</td>\n",
              "      <td>False</td>\n",
              "      <td>False</td>\n",
              "      <td>2021-06-15 20:19:35</td>\n",
              "    </tr>\n",
              "    <tr>\n",
              "      <th>2</th>\n",
              "      <td>Vibook</td>\n",
              "      <td>com.doantiepvien.crm</td>\n",
              "      <td>Productivity</td>\n",
              "      <td>0.0</td>\n",
              "      <td>0.0</td>\n",
              "      <td>50+</td>\n",
              "      <td>50.0</td>\n",
              "      <td>58</td>\n",
              "      <td>True</td>\n",
              "      <td>0.0</td>\n",
              "      <td>USD</td>\n",
              "      <td>3.7M</td>\n",
              "      <td>4.0.3 and up</td>\n",
              "      <td>Cabin Crew</td>\n",
              "      <td>NaN</td>\n",
              "      <td>vnacrewit@gmail.com</td>\n",
              "      <td>Aug 9, 2019</td>\n",
              "      <td>Aug 19, 2019</td>\n",
              "      <td>Everyone</td>\n",
              "      <td>https://www.vietnamairlines.com/vn/en/terms-an...</td>\n",
              "      <td>False</td>\n",
              "      <td>False</td>\n",
              "      <td>False</td>\n",
              "      <td>2021-06-15 20:19:35</td>\n",
              "    </tr>\n",
              "    <tr>\n",
              "      <th>3</th>\n",
              "      <td>Smart City Trichy Public Service Vehicles 17UC...</td>\n",
              "      <td>cst.stJoseph.ug17ucs548</td>\n",
              "      <td>Communication</td>\n",
              "      <td>5.0</td>\n",
              "      <td>5.0</td>\n",
              "      <td>10+</td>\n",
              "      <td>10.0</td>\n",
              "      <td>19</td>\n",
              "      <td>True</td>\n",
              "      <td>0.0</td>\n",
              "      <td>USD</td>\n",
              "      <td>1.8M</td>\n",
              "      <td>4.0.3 and up</td>\n",
              "      <td>Climate Smart Tech2</td>\n",
              "      <td>http://www.climatesmarttech.com/</td>\n",
              "      <td>climatesmarttech2@gmail.com</td>\n",
              "      <td>Sep 10, 2018</td>\n",
              "      <td>Oct 13, 2018</td>\n",
              "      <td>Everyone</td>\n",
              "      <td>NaN</td>\n",
              "      <td>True</td>\n",
              "      <td>False</td>\n",
              "      <td>False</td>\n",
              "      <td>2021-06-15 20:19:35</td>\n",
              "    </tr>\n",
              "    <tr>\n",
              "      <th>4</th>\n",
              "      <td>GROW.me</td>\n",
              "      <td>com.horodyski.grower</td>\n",
              "      <td>Tools</td>\n",
              "      <td>0.0</td>\n",
              "      <td>0.0</td>\n",
              "      <td>100+</td>\n",
              "      <td>100.0</td>\n",
              "      <td>478</td>\n",
              "      <td>True</td>\n",
              "      <td>0.0</td>\n",
              "      <td>USD</td>\n",
              "      <td>6.2M</td>\n",
              "      <td>4.1 and up</td>\n",
              "      <td>Rafal Milek-Horodyski</td>\n",
              "      <td>http://www.horodyski.com.pl</td>\n",
              "      <td>rmilekhorodyski@gmail.com</td>\n",
              "      <td>Feb 21, 2020</td>\n",
              "      <td>Nov 12, 2018</td>\n",
              "      <td>Everyone</td>\n",
              "      <td>http://www.horodyski.com.pl</td>\n",
              "      <td>False</td>\n",
              "      <td>False</td>\n",
              "      <td>False</td>\n",
              "      <td>2021-06-15 20:19:35</td>\n",
              "    </tr>\n",
              "  </tbody>\n",
              "</table>\n",
              "</div>\n",
              "      <button class=\"colab-df-convert\" onclick=\"convertToInteractive('df-120b605d-1718-4af5-8499-1fb84db546b6')\"\n",
              "              title=\"Convert this dataframe to an interactive table.\"\n",
              "              style=\"display:none;\">\n",
              "        \n",
              "  <svg xmlns=\"http://www.w3.org/2000/svg\" height=\"24px\"viewBox=\"0 0 24 24\"\n",
              "       width=\"24px\">\n",
              "    <path d=\"M0 0h24v24H0V0z\" fill=\"none\"/>\n",
              "    <path d=\"M18.56 5.44l.94 2.06.94-2.06 2.06-.94-2.06-.94-.94-2.06-.94 2.06-2.06.94zm-11 1L8.5 8.5l.94-2.06 2.06-.94-2.06-.94L8.5 2.5l-.94 2.06-2.06.94zm10 10l.94 2.06.94-2.06 2.06-.94-2.06-.94-.94-2.06-.94 2.06-2.06.94z\"/><path d=\"M17.41 7.96l-1.37-1.37c-.4-.4-.92-.59-1.43-.59-.52 0-1.04.2-1.43.59L10.3 9.45l-7.72 7.72c-.78.78-.78 2.05 0 2.83L4 21.41c.39.39.9.59 1.41.59.51 0 1.02-.2 1.41-.59l7.78-7.78 2.81-2.81c.8-.78.8-2.07 0-2.86zM5.41 20L4 18.59l7.72-7.72 1.47 1.35L5.41 20z\"/>\n",
              "  </svg>\n",
              "      </button>\n",
              "      \n",
              "  <style>\n",
              "    .colab-df-container {\n",
              "      display:flex;\n",
              "      flex-wrap:wrap;\n",
              "      gap: 12px;\n",
              "    }\n",
              "\n",
              "    .colab-df-convert {\n",
              "      background-color: #E8F0FE;\n",
              "      border: none;\n",
              "      border-radius: 50%;\n",
              "      cursor: pointer;\n",
              "      display: none;\n",
              "      fill: #1967D2;\n",
              "      height: 32px;\n",
              "      padding: 0 0 0 0;\n",
              "      width: 32px;\n",
              "    }\n",
              "\n",
              "    .colab-df-convert:hover {\n",
              "      background-color: #E2EBFA;\n",
              "      box-shadow: 0px 1px 2px rgba(60, 64, 67, 0.3), 0px 1px 3px 1px rgba(60, 64, 67, 0.15);\n",
              "      fill: #174EA6;\n",
              "    }\n",
              "\n",
              "    [theme=dark] .colab-df-convert {\n",
              "      background-color: #3B4455;\n",
              "      fill: #D2E3FC;\n",
              "    }\n",
              "\n",
              "    [theme=dark] .colab-df-convert:hover {\n",
              "      background-color: #434B5C;\n",
              "      box-shadow: 0px 1px 3px 1px rgba(0, 0, 0, 0.15);\n",
              "      filter: drop-shadow(0px 1px 2px rgba(0, 0, 0, 0.3));\n",
              "      fill: #FFFFFF;\n",
              "    }\n",
              "  </style>\n",
              "\n",
              "      <script>\n",
              "        const buttonEl =\n",
              "          document.querySelector('#df-120b605d-1718-4af5-8499-1fb84db546b6 button.colab-df-convert');\n",
              "        buttonEl.style.display =\n",
              "          google.colab.kernel.accessAllowed ? 'block' : 'none';\n",
              "\n",
              "        async function convertToInteractive(key) {\n",
              "          const element = document.querySelector('#df-120b605d-1718-4af5-8499-1fb84db546b6');\n",
              "          const dataTable =\n",
              "            await google.colab.kernel.invokeFunction('convertToInteractive',\n",
              "                                                     [key], {});\n",
              "          if (!dataTable) return;\n",
              "\n",
              "          const docLinkHtml = 'Like what you see? Visit the ' +\n",
              "            '<a target=\"_blank\" href=https://colab.research.google.com/notebooks/data_table.ipynb>data table notebook</a>'\n",
              "            + ' to learn more about interactive tables.';\n",
              "          element.innerHTML = '';\n",
              "          dataTable['output_type'] = 'display_data';\n",
              "          await google.colab.output.renderOutput(dataTable, element);\n",
              "          const docLink = document.createElement('div');\n",
              "          docLink.innerHTML = docLinkHtml;\n",
              "          element.appendChild(docLink);\n",
              "        }\n",
              "      </script>\n",
              "    </div>\n",
              "  </div>\n",
              "  "
            ],
            "text/plain": [
              "                                            App Name  \\\n",
              "0                                            Gakondo   \n",
              "1                                Ampere Battery Info   \n",
              "2                                             Vibook   \n",
              "3  Smart City Trichy Public Service Vehicles 17UC...   \n",
              "4                                            GROW.me   \n",
              "\n",
              "                       App Id       Category  Rating  Rating Count Installs  \\\n",
              "0         com.ishakwe.gakondo      Adventure     0.0           0.0      10+   \n",
              "1  com.webserveis.batteryinfo          Tools     4.4          64.0   5,000+   \n",
              "2        com.doantiepvien.crm   Productivity     0.0           0.0      50+   \n",
              "3     cst.stJoseph.ug17ucs548  Communication     5.0           5.0      10+   \n",
              "4        com.horodyski.grower          Tools     0.0           0.0     100+   \n",
              "\n",
              "   Minimum Installs  Maximum Installs  Free  Price Currency  Size  \\\n",
              "0              10.0                15  True    0.0      USD   10M   \n",
              "1            5000.0              7662  True    0.0      USD  2.9M   \n",
              "2              50.0                58  True    0.0      USD  3.7M   \n",
              "3              10.0                19  True    0.0      USD  1.8M   \n",
              "4             100.0               478  True    0.0      USD  6.2M   \n",
              "\n",
              "  Minimum Android                       Developer Id  \\\n",
              "0      7.1 and up  Jean Confident Irénée NIYIZIBYOSE   \n",
              "1      5.0 and up                         Webserveis   \n",
              "2    4.0.3 and up                         Cabin Crew   \n",
              "3    4.0.3 and up                Climate Smart Tech2   \n",
              "4      4.1 and up              Rafal Milek-Horodyski   \n",
              "\n",
              "                  Developer Website              Developer Email  \\\n",
              "0       https://beniyizibyose.tk/#/       jean21101999@gmail.com   \n",
              "1   https://webserveis.netlify.app/         webserveis@gmail.com   \n",
              "2                               NaN          vnacrewit@gmail.com   \n",
              "3  http://www.climatesmarttech.com/  climatesmarttech2@gmail.com   \n",
              "4       http://www.horodyski.com.pl    rmilekhorodyski@gmail.com   \n",
              "\n",
              "       Released  Last Updated Content Rating  \\\n",
              "0  Feb 26, 2020  Feb 26, 2020       Everyone   \n",
              "1  May 21, 2020  May 06, 2021       Everyone   \n",
              "2   Aug 9, 2019  Aug 19, 2019       Everyone   \n",
              "3  Sep 10, 2018  Oct 13, 2018       Everyone   \n",
              "4  Feb 21, 2020  Nov 12, 2018       Everyone   \n",
              "\n",
              "                                      Privacy Policy  Ad Supported  \\\n",
              "0                 https://beniyizibyose.tk/projects/         False   \n",
              "1  https://dev4phones.wordpress.com/licencia-de-uso/          True   \n",
              "2  https://www.vietnamairlines.com/vn/en/terms-an...         False   \n",
              "3                                                NaN          True   \n",
              "4                        http://www.horodyski.com.pl         False   \n",
              "\n",
              "   In App Purchases  Editors Choice         Scraped Time  \n",
              "0             False           False  2021-06-15 20:19:35  \n",
              "1             False           False  2021-06-15 20:19:35  \n",
              "2             False           False  2021-06-15 20:19:35  \n",
              "3             False           False  2021-06-15 20:19:35  \n",
              "4             False           False  2021-06-15 20:19:35  "
            ]
          },
          "metadata": {},
          "execution_count": 13
        }
      ],
      "source": [
        "df.head()"
      ]
    },
    {
      "cell_type": "code",
      "execution_count": null,
      "id": "615502a1-04e9-435e-bbb6-f7d135f6a2ae",
      "metadata": {
        "colab": {
          "base_uri": "https://localhost:8080/"
        },
        "id": "615502a1-04e9-435e-bbb6-f7d135f6a2ae",
        "outputId": "5ddca380-0a8b-4f6d-f72e-f461d8ebdb5a"
      },
      "outputs": [
        {
          "output_type": "execute_result",
          "data": {
            "text/plain": [
              "(2312944, 24)"
            ]
          },
          "metadata": {},
          "execution_count": 14
        }
      ],
      "source": [
        "df.shape"
      ]
    },
    {
      "cell_type": "code",
      "source": [
        "# convert columns to best dtypes (data-types)\n",
        "df = df.convert_dtypes() "
      ],
      "metadata": {
        "id": "z6pqNqE33qLv"
      },
      "id": "z6pqNqE33qLv",
      "execution_count": null,
      "outputs": []
    },
    {
      "cell_type": "code",
      "execution_count": null,
      "id": "0f8af60c-fe5a-43fc-a05b-341ca5344875",
      "metadata": {
        "colab": {
          "base_uri": "https://localhost:8080/"
        },
        "id": "0f8af60c-fe5a-43fc-a05b-341ca5344875",
        "outputId": "c2f99611-8622-4132-a8d1-0fdef859cd50"
      },
      "outputs": [
        {
          "output_type": "stream",
          "name": "stdout",
          "text": [
            "<class 'pandas.core.frame.DataFrame'>\n",
            "RangeIndex: 2312944 entries, 0 to 2312943\n",
            "Data columns (total 24 columns):\n",
            " #   Column             Dtype  \n",
            "---  ------             -----  \n",
            " 0   App Name           string \n",
            " 1   App Id             string \n",
            " 2   Category           string \n",
            " 3   Rating             float64\n",
            " 4   Rating Count       Int64  \n",
            " 5   Installs           string \n",
            " 6   Minimum Installs   Int64  \n",
            " 7   Maximum Installs   Int64  \n",
            " 8   Free               boolean\n",
            " 9   Price              float64\n",
            " 10  Currency           string \n",
            " 11  Size               string \n",
            " 12  Minimum Android    string \n",
            " 13  Developer Id       string \n",
            " 14  Developer Website  string \n",
            " 15  Developer Email    string \n",
            " 16  Released           string \n",
            " 17  Last Updated       string \n",
            " 18  Content Rating     string \n",
            " 19  Privacy Policy     string \n",
            " 20  Ad Supported       boolean\n",
            " 21  In App Purchases   boolean\n",
            " 22  Editors Choice     boolean\n",
            " 23  Scraped Time       string \n",
            "dtypes: Int64(3), boolean(4), float64(2), string(15)\n",
            "memory usage: 377.2 MB\n"
          ]
        }
      ],
      "source": [
        "df.info()"
      ]
    },
    {
      "cell_type": "markdown",
      "source": [
        "\n",
        "* Columns like \n",
        "   - App Id\n",
        "   - Developer Email\n",
        "   -  Developer Website\n",
        "   - Privacy policy \n",
        "   -  Scraped Time \n",
        "\n",
        "  which are not that much useful for our Exploratory Analysis so we'll drop those columns. "
      ],
      "metadata": {
        "id": "LCC-a56vhmXs"
      },
      "id": "LCC-a56vhmXs"
    },
    {
      "cell_type": "code",
      "source": [
        "df.drop(columns = ['App Id', 'Developer Email', 'Privacy Policy', 'Developer Website', 'Scraped Time'], inplace=True)"
      ],
      "metadata": {
        "id": "4krkKjUTkDXP"
      },
      "id": "4krkKjUTkDXP",
      "execution_count": null,
      "outputs": []
    },
    {
      "cell_type": "code",
      "source": [
        "df.columns"
      ],
      "metadata": {
        "colab": {
          "base_uri": "https://localhost:8080/"
        },
        "id": "4-obpoSak1_M",
        "outputId": "145bb948-4628-4c7e-98e6-8b2062e8d1e4"
      },
      "id": "4-obpoSak1_M",
      "execution_count": null,
      "outputs": [
        {
          "output_type": "execute_result",
          "data": {
            "text/plain": [
              "Index(['App Name', 'Category', 'Rating', 'Rating Count', 'Installs',\n",
              "       'Minimum Installs', 'Maximum Installs', 'Free', 'Price', 'Currency',\n",
              "       'Size', 'Minimum Android', 'Developer Id', 'Released', 'Last Updated',\n",
              "       'Content Rating', 'Ad Supported', 'In App Purchases', 'Editors Choice'],\n",
              "      dtype='object')"
            ]
          },
          "metadata": {},
          "execution_count": 18
        }
      ]
    },
    {
      "cell_type": "code",
      "execution_count": null,
      "id": "4aa6b4a0-7b30-4266-93b0-0205d774cbed",
      "metadata": {
        "colab": {
          "base_uri": "https://localhost:8080/"
        },
        "id": "4aa6b4a0-7b30-4266-93b0-0205d774cbed",
        "outputId": "0da5f61c-12fe-4ad8-b122-c975886dff15"
      },
      "outputs": [
        {
          "output_type": "execute_result",
          "data": {
            "text/plain": [
              "App Name            0.000086\n",
              "Category            0.000000\n",
              "Rating              0.989345\n",
              "Rating Count        0.989345\n",
              "Installs            0.004626\n",
              "Minimum Installs    0.004626\n",
              "Maximum Installs    0.000000\n",
              "Free                0.000000\n",
              "Price               0.000000\n",
              "Currency            0.005837\n",
              "Size                0.008474\n",
              "Minimum Android     0.282324\n",
              "Developer Id        0.001427\n",
              "Released            3.071972\n",
              "Last Updated        0.000000\n",
              "Content Rating      0.000000\n",
              "Ad Supported        0.000000\n",
              "In App Purchases    0.000000\n",
              "Editors Choice      0.000000\n",
              "dtype: float64"
            ]
          },
          "metadata": {},
          "execution_count": 20
        }
      ],
      "source": [
        "# Calculating percentage of missing data for each column\n",
        "df.isnull().sum()* 100 / df.shape[0] "
      ]
    },
    {
      "cell_type": "markdown",
      "source": [
        "- It is fair to say that not much of data is missing, also if it does then it is around 1% at most other than 'Released' column.\n",
        "- Since 'Released' column contains date of the released app so we don't have way to fill those value. \n",
        "  \n",
        "So here we are going to drop those rows which contains missing values in any columns. Although there are many ways to fill missing values but we are going to do here because we don't have that much missing values. "
      ],
      "metadata": {
        "id": "Xkcd3y_BNjSH"
      },
      "id": "Xkcd3y_BNjSH"
    },
    {
      "cell_type": "code",
      "source": [
        "# Drop the missing values\n",
        "df = df.dropna(axis=0)"
      ],
      "metadata": {
        "id": "6AdunCdVJ6QG"
      },
      "id": "6AdunCdVJ6QG",
      "execution_count": null,
      "outputs": []
    },
    {
      "cell_type": "markdown",
      "source": [
        "- Columns like 'Released' and 'Last Updated' have dates init but it is of the string type."
      ],
      "metadata": {
        "id": "dfQA7ZFkQZCK"
      },
      "id": "dfQA7ZFkQZCK"
    },
    {
      "cell_type": "code",
      "source": [
        "### converting columns \"Released\" and \"last updated\" into datetime data type\n",
        "\n",
        "df[\"Released\"] = pd.to_datetime(df[\"Released\"], format='%b %d, %Y')\n",
        "df[\"Last Updated\"] = pd.to_datetime(df[\"Last Updated\"], format='%b %d, %Y')"
      ],
      "metadata": {
        "id": "5F44B8jReeD6"
      },
      "id": "5F44B8jReeD6",
      "execution_count": null,
      "outputs": []
    },
    {
      "cell_type": "code",
      "execution_count": null,
      "id": "db118224-bbe5-45bd-95de-956d3ff31a43",
      "metadata": {
        "colab": {
          "base_uri": "https://localhost:8080/",
          "height": 262
        },
        "id": "db118224-bbe5-45bd-95de-956d3ff31a43",
        "outputId": "8379b9bc-3522-4607-d2c6-88fb279b571e"
      },
      "outputs": [
        {
          "output_type": "execute_result",
          "data": {
            "application/vnd.google.colaboratory.module+javascript": "\n      import \"https://ssl.gstatic.com/colaboratory/data_table/a6224c040fa35dcf/data_table.js\";\n\n      window.createDataTable({\n        data: [[\"count\",\n{\n            'v': 2290061.0,\n            'f': \"2290061.0\",\n        },\n{\n            'v': 2290061.0,\n            'f': \"2290061.0\",\n        },\n{\n            'v': 2312837.0,\n            'f': \"2312837.0\",\n        },\n{\n            'v': 2312944.0,\n            'f': \"2312944.0\",\n        },\n{\n            'v': 2312944.0,\n            'f': \"2312944.0\",\n        }],\n [\"mean\",\n{\n            'v': 2.2031515317710064,\n            'f': \"2.2031515317710064\",\n        },\n{\n            'v': 2864.8388767810115,\n            'f': \"2864.8388767810115\",\n        },\n{\n            'v': 183445.21395800915,\n            'f': \"183445.21395800915\",\n        },\n{\n            'v': 320201.713137456,\n            'f': \"320201.713137456\",\n        },\n{\n            'v': 0.10349915833365692,\n            'f': \"0.10349915833365692\",\n        }],\n [\"std\",\n{\n            'v': 2.1062225157261487,\n            'f': \"2.1062225157261487\",\n        },\n{\n            'v': 212162.57103744018,\n            'f': \"212162.57103744018\",\n        },\n{\n            'v': 15131439.059693843,\n            'f': \"15131439.059693843\",\n        },\n{\n            'v': 23554954.886547957,\n            'f': \"23554954.886547957\",\n        },\n{\n            'v': 2.63312655760054,\n            'f': \"2.63312655760054\",\n        }],\n [\"min\",\n{\n            'v': 0.0,\n            'f': \"0.0\",\n        },\n{\n            'v': 0.0,\n            'f': \"0.0\",\n        },\n{\n            'v': 0.0,\n            'f': \"0.0\",\n        },\n{\n            'v': 0.0,\n            'f': \"0.0\",\n        },\n{\n            'v': 0.0,\n            'f': \"0.0\",\n        }],\n [\"25%\",\n{\n            'v': 0.0,\n            'f': \"0.0\",\n        },\n{\n            'v': 0.0,\n            'f': \"0.0\",\n        },\n{\n            'v': 50.0,\n            'f': \"50.0\",\n        },\n{\n            'v': 84.0,\n            'f': \"84.0\",\n        },\n{\n            'v': 0.0,\n            'f': \"0.0\",\n        }],\n [\"50%\",\n{\n            'v': 2.9,\n            'f': \"2.9\",\n        },\n{\n            'v': 6.0,\n            'f': \"6.0\",\n        },\n{\n            'v': 500.0,\n            'f': \"500.0\",\n        },\n{\n            'v': 695.0,\n            'f': \"695.0\",\n        },\n{\n            'v': 0.0,\n            'f': \"0.0\",\n        }],\n [\"75%\",\n{\n            'v': 4.3,\n            'f': \"4.3\",\n        },\n{\n            'v': 42.0,\n            'f': \"42.0\",\n        },\n{\n            'v': 5000.0,\n            'f': \"5000.0\",\n        },\n{\n            'v': 7354.0,\n            'f': \"7354.0\",\n        },\n{\n            'v': 0.0,\n            'f': \"0.0\",\n        }],\n [\"max\",\n{\n            'v': 5.0,\n            'f': \"5.0\",\n        },\n{\n            'v': 138557570.0,\n            'f': \"138557570.0\",\n        },\n{\n            'v': 10000000000.0,\n            'f': \"10000000000.0\",\n        },\n{\n            'v': 12057627016.0,\n            'f': \"12057627016.0\",\n        },\n{\n            'v': 400.0,\n            'f': \"400.0\",\n        }]],\n        columns: [[\"string\", \"index\"], [\"number\", \"Rating\"], [\"number\", \"Rating Count\"], [\"number\", \"Minimum Installs\"], [\"number\", \"Maximum Installs\"], [\"number\", \"Price\"]],\n        columnOptions: [{\"width\": \"1px\", \"className\": \"index_column\"}],\n        rowsPerPage: 25,\n        helpUrl: \"https://colab.research.google.com/notebooks/data_table.ipynb\",\n        suppressOutputScrolling: true,\n        minimumWidth: undefined,\n      });\n    ",
            "text/html": [
              "\n",
              "  <div id=\"df-910c9cf4-4fdb-489b-af1a-1f02c098dfa5\">\n",
              "    <div class=\"colab-df-container\">\n",
              "      <div>\n",
              "<style scoped>\n",
              "    .dataframe tbody tr th:only-of-type {\n",
              "        vertical-align: middle;\n",
              "    }\n",
              "\n",
              "    .dataframe tbody tr th {\n",
              "        vertical-align: top;\n",
              "    }\n",
              "\n",
              "    .dataframe thead th {\n",
              "        text-align: right;\n",
              "    }\n",
              "</style>\n",
              "<table border=\"1\" class=\"dataframe\">\n",
              "  <thead>\n",
              "    <tr style=\"text-align: right;\">\n",
              "      <th></th>\n",
              "      <th>Rating</th>\n",
              "      <th>Rating Count</th>\n",
              "      <th>Minimum Installs</th>\n",
              "      <th>Maximum Installs</th>\n",
              "      <th>Price</th>\n",
              "    </tr>\n",
              "  </thead>\n",
              "  <tbody>\n",
              "    <tr>\n",
              "      <th>count</th>\n",
              "      <td>2.290061e+06</td>\n",
              "      <td>2.290061e+06</td>\n",
              "      <td>2.312837e+06</td>\n",
              "      <td>2.312944e+06</td>\n",
              "      <td>2.312944e+06</td>\n",
              "    </tr>\n",
              "    <tr>\n",
              "      <th>mean</th>\n",
              "      <td>2.203152e+00</td>\n",
              "      <td>2.864839e+03</td>\n",
              "      <td>1.834452e+05</td>\n",
              "      <td>3.202017e+05</td>\n",
              "      <td>1.034992e-01</td>\n",
              "    </tr>\n",
              "    <tr>\n",
              "      <th>std</th>\n",
              "      <td>2.106223e+00</td>\n",
              "      <td>2.121626e+05</td>\n",
              "      <td>1.513144e+07</td>\n",
              "      <td>2.355495e+07</td>\n",
              "      <td>2.633127e+00</td>\n",
              "    </tr>\n",
              "    <tr>\n",
              "      <th>min</th>\n",
              "      <td>0.000000e+00</td>\n",
              "      <td>0.000000e+00</td>\n",
              "      <td>0.000000e+00</td>\n",
              "      <td>0.000000e+00</td>\n",
              "      <td>0.000000e+00</td>\n",
              "    </tr>\n",
              "    <tr>\n",
              "      <th>25%</th>\n",
              "      <td>0.000000e+00</td>\n",
              "      <td>0.000000e+00</td>\n",
              "      <td>5.000000e+01</td>\n",
              "      <td>8.400000e+01</td>\n",
              "      <td>0.000000e+00</td>\n",
              "    </tr>\n",
              "    <tr>\n",
              "      <th>50%</th>\n",
              "      <td>2.900000e+00</td>\n",
              "      <td>6.000000e+00</td>\n",
              "      <td>5.000000e+02</td>\n",
              "      <td>6.950000e+02</td>\n",
              "      <td>0.000000e+00</td>\n",
              "    </tr>\n",
              "    <tr>\n",
              "      <th>75%</th>\n",
              "      <td>4.300000e+00</td>\n",
              "      <td>4.200000e+01</td>\n",
              "      <td>5.000000e+03</td>\n",
              "      <td>7.354000e+03</td>\n",
              "      <td>0.000000e+00</td>\n",
              "    </tr>\n",
              "    <tr>\n",
              "      <th>max</th>\n",
              "      <td>5.000000e+00</td>\n",
              "      <td>1.385576e+08</td>\n",
              "      <td>1.000000e+10</td>\n",
              "      <td>1.205763e+10</td>\n",
              "      <td>4.000000e+02</td>\n",
              "    </tr>\n",
              "  </tbody>\n",
              "</table>\n",
              "</div>\n",
              "      <button class=\"colab-df-convert\" onclick=\"convertToInteractive('df-910c9cf4-4fdb-489b-af1a-1f02c098dfa5')\"\n",
              "              title=\"Convert this dataframe to an interactive table.\"\n",
              "              style=\"display:none;\">\n",
              "        \n",
              "  <svg xmlns=\"http://www.w3.org/2000/svg\" height=\"24px\"viewBox=\"0 0 24 24\"\n",
              "       width=\"24px\">\n",
              "    <path d=\"M0 0h24v24H0V0z\" fill=\"none\"/>\n",
              "    <path d=\"M18.56 5.44l.94 2.06.94-2.06 2.06-.94-2.06-.94-.94-2.06-.94 2.06-2.06.94zm-11 1L8.5 8.5l.94-2.06 2.06-.94-2.06-.94L8.5 2.5l-.94 2.06-2.06.94zm10 10l.94 2.06.94-2.06 2.06-.94-2.06-.94-.94-2.06-.94 2.06-2.06.94z\"/><path d=\"M17.41 7.96l-1.37-1.37c-.4-.4-.92-.59-1.43-.59-.52 0-1.04.2-1.43.59L10.3 9.45l-7.72 7.72c-.78.78-.78 2.05 0 2.83L4 21.41c.39.39.9.59 1.41.59.51 0 1.02-.2 1.41-.59l7.78-7.78 2.81-2.81c.8-.78.8-2.07 0-2.86zM5.41 20L4 18.59l7.72-7.72 1.47 1.35L5.41 20z\"/>\n",
              "  </svg>\n",
              "      </button>\n",
              "      \n",
              "  <style>\n",
              "    .colab-df-container {\n",
              "      display:flex;\n",
              "      flex-wrap:wrap;\n",
              "      gap: 12px;\n",
              "    }\n",
              "\n",
              "    .colab-df-convert {\n",
              "      background-color: #E8F0FE;\n",
              "      border: none;\n",
              "      border-radius: 50%;\n",
              "      cursor: pointer;\n",
              "      display: none;\n",
              "      fill: #1967D2;\n",
              "      height: 32px;\n",
              "      padding: 0 0 0 0;\n",
              "      width: 32px;\n",
              "    }\n",
              "\n",
              "    .colab-df-convert:hover {\n",
              "      background-color: #E2EBFA;\n",
              "      box-shadow: 0px 1px 2px rgba(60, 64, 67, 0.3), 0px 1px 3px 1px rgba(60, 64, 67, 0.15);\n",
              "      fill: #174EA6;\n",
              "    }\n",
              "\n",
              "    [theme=dark] .colab-df-convert {\n",
              "      background-color: #3B4455;\n",
              "      fill: #D2E3FC;\n",
              "    }\n",
              "\n",
              "    [theme=dark] .colab-df-convert:hover {\n",
              "      background-color: #434B5C;\n",
              "      box-shadow: 0px 1px 3px 1px rgba(0, 0, 0, 0.15);\n",
              "      filter: drop-shadow(0px 1px 2px rgba(0, 0, 0, 0.3));\n",
              "      fill: #FFFFFF;\n",
              "    }\n",
              "  </style>\n",
              "\n",
              "      <script>\n",
              "        const buttonEl =\n",
              "          document.querySelector('#df-910c9cf4-4fdb-489b-af1a-1f02c098dfa5 button.colab-df-convert');\n",
              "        buttonEl.style.display =\n",
              "          google.colab.kernel.accessAllowed ? 'block' : 'none';\n",
              "\n",
              "        async function convertToInteractive(key) {\n",
              "          const element = document.querySelector('#df-910c9cf4-4fdb-489b-af1a-1f02c098dfa5');\n",
              "          const dataTable =\n",
              "            await google.colab.kernel.invokeFunction('convertToInteractive',\n",
              "                                                     [key], {});\n",
              "          if (!dataTable) return;\n",
              "\n",
              "          const docLinkHtml = 'Like what you see? Visit the ' +\n",
              "            '<a target=\"_blank\" href=https://colab.research.google.com/notebooks/data_table.ipynb>data table notebook</a>'\n",
              "            + ' to learn more about interactive tables.';\n",
              "          element.innerHTML = '';\n",
              "          dataTable['output_type'] = 'display_data';\n",
              "          await google.colab.output.renderOutput(dataTable, element);\n",
              "          const docLink = document.createElement('div');\n",
              "          docLink.innerHTML = docLinkHtml;\n",
              "          element.appendChild(docLink);\n",
              "        }\n",
              "      </script>\n",
              "    </div>\n",
              "  </div>\n",
              "  "
            ],
            "text/plain": [
              "             Rating  Rating Count  Minimum Installs  Maximum Installs  \\\n",
              "count  2.290061e+06  2.290061e+06      2.312837e+06      2.312944e+06   \n",
              "mean   2.203152e+00  2.864839e+03      1.834452e+05      3.202017e+05   \n",
              "std    2.106223e+00  2.121626e+05      1.513144e+07      2.355495e+07   \n",
              "min    0.000000e+00  0.000000e+00      0.000000e+00      0.000000e+00   \n",
              "25%    0.000000e+00  0.000000e+00      5.000000e+01      8.400000e+01   \n",
              "50%    2.900000e+00  6.000000e+00      5.000000e+02      6.950000e+02   \n",
              "75%    4.300000e+00  4.200000e+01      5.000000e+03      7.354000e+03   \n",
              "max    5.000000e+00  1.385576e+08      1.000000e+10      1.205763e+10   \n",
              "\n",
              "              Price  \n",
              "count  2.312944e+06  \n",
              "mean   1.034992e-01  \n",
              "std    2.633127e+00  \n",
              "min    0.000000e+00  \n",
              "25%    0.000000e+00  \n",
              "50%    0.000000e+00  \n",
              "75%    0.000000e+00  \n",
              "max    4.000000e+02  "
            ]
          },
          "metadata": {},
          "execution_count": 19
        }
      ],
      "source": [
        "df.describe() # returns stastical table containing 5 number summary statstics of numerical columns"
      ]
    },
    {
      "cell_type": "code",
      "source": [
        "df['Developer Id'].value_counts()"
      ],
      "metadata": {
        "colab": {
          "base_uri": "https://localhost:8080/"
        },
        "id": "Ii_V1nIyoQCg",
        "outputId": "3f890c73-6795-4370-eeb0-1534dfd6aab1"
      },
      "id": "Ii_V1nIyoQCg",
      "execution_count": null,
      "outputs": [
        {
          "output_type": "execute_result",
          "data": {
            "text/plain": [
              "Subsplash Inc      5422\n",
              "TRAINERIZE         5153\n",
              "ChowNow            4865\n",
              "OrderYOYO          2884\n",
              "Phorest            2821\n",
              "                   ... \n",
              "Thirsty's             1\n",
              "CBSEDELHI             1\n",
              "Vivas Medica BV       1\n",
              "FlowChief GmbH        1\n",
              "Zo Games              1\n",
              "Name: Developer Id, Length: 758371, dtype: Int64"
            ]
          },
          "metadata": {},
          "execution_count": 21
        }
      ]
    },
    {
      "cell_type": "code",
      "source": [
        "df_mean = df.groupby(by='Category').agg(np.mean)"
      ],
      "metadata": {
        "id": "veYRr2bY3ZPA"
      },
      "id": "veYRr2bY3ZPA",
      "execution_count": null,
      "outputs": []
    },
    {
      "cell_type": "code",
      "execution_count": null,
      "id": "b6352ac7-bcf9-4e5c-8a76-d6cae2e6f1f0",
      "metadata": {
        "id": "b6352ac7-bcf9-4e5c-8a76-d6cae2e6f1f0"
      },
      "outputs": [],
      "source": [
        ""
      ]
    },
    {
      "cell_type": "code",
      "execution_count": null,
      "id": "8a3658bd-6bcb-4957-92af-0113b36c4bd8",
      "metadata": {
        "id": "8a3658bd-6bcb-4957-92af-0113b36c4bd8"
      },
      "outputs": [],
      "source": [
        ""
      ]
    },
    {
      "cell_type": "code",
      "execution_count": null,
      "id": "d24623ac-1fee-48b5-a77d-70e398dc980b",
      "metadata": {
        "id": "d24623ac-1fee-48b5-a77d-70e398dc980b"
      },
      "outputs": [],
      "source": [
        ""
      ]
    },
    {
      "cell_type": "code",
      "execution_count": null,
      "id": "92cb9250-dcb7-48fb-99aa-576a896131a1",
      "metadata": {
        "id": "92cb9250-dcb7-48fb-99aa-576a896131a1"
      },
      "outputs": [],
      "source": [
        ""
      ]
    },
    {
      "cell_type": "markdown",
      "id": "68bc7ad8-9854-4a28-95be-b0bdbcb08d88",
      "metadata": {
        "id": "68bc7ad8-9854-4a28-95be-b0bdbcb08d88"
      },
      "source": [
        "## Exploratory Analysis and Visualization "
      ]
    },
    {
      "cell_type": "code",
      "execution_count": null,
      "id": "d1c9c469-d165-40bc-8cbb-2c8470eb214d",
      "metadata": {
        "id": "d1c9c469-d165-40bc-8cbb-2c8470eb214d"
      },
      "outputs": [],
      "source": [
        "import matplotlib.pyplot as plt\n",
        "plt.style.use('fivethirtyeight')\n",
        "%matplotlib inline "
      ]
    },
    {
      "cell_type": "markdown",
      "source": [
        "### Top 10 Category in terms of total number of apps"
      ],
      "metadata": {
        "id": "lweFUB-95JGF"
      },
      "id": "lweFUB-95JGF"
    },
    {
      "cell_type": "code",
      "execution_count": null,
      "id": "be5801fb-53cc-4603-aa9f-2f8ebb5cdd1a",
      "metadata": {
        "id": "be5801fb-53cc-4603-aa9f-2f8ebb5cdd1a"
      },
      "outputs": [],
      "source": [
        "cat = df['Category'].value_counts(sort=True)"
      ]
    },
    {
      "cell_type": "code",
      "source": [
        "plt.figure(figsize=(10,6))\n",
        "plt.barh(y = cat.index[:10], width=cat[:10], height=0.7)\n",
        "plt.title(\"Top 10 Category in terms of total number of apps\")\n",
        "plt.xlabel(\"No. of Apps\")\n",
        "plt.tight_layout()\n",
        "# plt.xticks(rotation=25)\n",
        "plt.show()\n"
      ],
      "metadata": {
        "colab": {
          "base_uri": "https://localhost:8080/",
          "height": 441
        },
        "id": "m_dTrd4IqMG5",
        "outputId": "e2de0cdb-32b7-4e8d-b25d-16c440c4a6b9"
      },
      "id": "m_dTrd4IqMG5",
      "execution_count": null,
      "outputs": [
        {
          "output_type": "display_data",
          "data": {
            "image/png": "[encoded data removed]",
            "text/plain": [
              "<Figure size 720x432 with 1 Axes>"
            ]
          },
          "metadata": {
            "needs_background": "light"
          }
        }
      ]
    },
    {
      "cell_type": "markdown",
      "source": [
        "### No. Editors choice apps per category "
      ],
      "metadata": {
        "id": "QKTapzf55jDc"
      },
      "id": "QKTapzf55jDc"
    },
    {
      "cell_type": "code",
      "source": [
        "editor_choice = df.groupby(by='Category')['Editors Choice'].agg(np.sum)\n",
        "editor_choice.sort_values(ascending=False, inplace=True)"
      ],
      "metadata": {
        "id": "P72ZsIRJ5ioQ"
      },
      "id": "P72ZsIRJ5ioQ",
      "execution_count": null,
      "outputs": []
    },
    {
      "cell_type": "code",
      "execution_count": null,
      "id": "11ad1ba8-d3fd-4a07-8fee-054fe9844d67",
      "metadata": {
        "colab": {
          "base_uri": "https://localhost:8080/"
        },
        "id": "11ad1ba8-d3fd-4a07-8fee-054fe9844d67",
        "outputId": "5e9d6b6d-14a1-40b7-e4be-bf60f466f11f"
      },
      "outputs": [
        {
          "output_type": "display_data",
          "data": {
            "image/png": "[encoded data removed]",
            "text/plain": [
              "<Figure size 720x432 with 1 Axes>"
            ]
          },
          "metadata": {
            "needs_background": "light"
          }
        }
      ],
      "source": [
        "plt.figure(figsize=(10,6))\n",
        "plt.barh(y=editor_choice.index[:10], width=editor_choice[:10])\n",
        "plt.title(\"Top 10 Category for Editor Choice apps\")\n",
        "plt.xlabel(\"Number of Editors Choice Apps\")\n",
        "plt.tight_layout()\n",
        "plt.show()"
      ]
    },
    {
      "cell_type": "code",
      "execution_count": null,
      "id": "b53c6c4c-f9de-454b-9008-1b2a4edf8e0f",
      "metadata": {
        "id": "b53c6c4c-f9de-454b-9008-1b2a4edf8e0f"
      },
      "outputs": [],
      "source": [
        ""
      ]
    },
    {
      "cell_type": "markdown",
      "source": [
        "### Installs \n",
        "\n",
        "By lookings closly to dataset, we assume that following three columns are highly co-related.\n",
        "- installls \n",
        "- Minimum Installs \n",
        "- Maximum Installs \n",
        "\n",
        "Checking the corelations between three install columns "
      ],
      "metadata": {
        "id": "_ETjypRe4qpi"
      },
      "id": "_ETjypRe4qpi"
    },
    {
      "cell_type": "code",
      "source": [
        "df['Installs'] = df['Installs'].str.rstrip('+')\n",
        "# indexes where Install column has Null value\n",
        "inst_null_idx = df[df['Installs'].isnull()].index\n",
        "df.loc[inst_null_idx, 'Installs'] = df.loc[inst_null_idx, 'Maximum Installs'].astype('str')\n",
        "df['Installs'] = df['Installs'].apply(lambda x:x.replace(',', '')).astype('int')"
      ],
      "metadata": {
        "id": "Tml3PL_c-l5p"
      },
      "id": "Tml3PL_c-l5p",
      "execution_count": null,
      "outputs": []
    },
    {
      "cell_type": "code",
      "source": [
        "mini_null_idx = df[df['Minimum Installs'].isnull()].index \n",
        "# indexes where Minimun Install column has Null value \n",
        "df.loc[mini_null_idx, 'Minimum Installs'] = df.loc[mini_null_idx, 'Maximum Installs']"
      ],
      "metadata": {
        "id": "t5LWMA9p-kSy"
      },
      "id": "t5LWMA9p-kSy",
      "execution_count": null,
      "outputs": []
    },
    {
      "cell_type": "code",
      "execution_count": null,
      "id": "7c65fd7d-c430-4bfa-bc48-9e8681086939",
      "metadata": {
        "id": "7c65fd7d-c430-4bfa-bc48-9e8681086939",
        "outputId": "9989b8f2-80cf-4faf-fa13-726bdaa098db",
        "colab": {
          "base_uri": "https://localhost:8080/"
        }
      },
      "outputs": [
        {
          "output_type": "display_data",
          "data": {
            "image/png": "[encoded data removed]",
            "text/plain": [
              "<Figure size 720x432 with 1 Axes>"
            ]
          },
          "metadata": {
            "needs_background": "light"
          }
        }
      ],
      "source": [
        "plt.figure(figsize=(10,6))\n",
        "plt.scatter(x=df['Installs'], y=df['Minimum Installs'])\n",
        "plt.tight_layout()\n",
        "plt.show()"
      ]
    },
    {
      "cell_type": "markdown",
      "source": [
        "- Though we replaced on about 0.004626%  missing values with the maximum installs, we can see the storng positive corelation but it is still not that much clear, we take look at all those values which less than 2e5."
      ],
      "metadata": {
        "id": "Br760npHHtjl"
      },
      "id": "Br760npHHtjl"
    },
    {
      "cell_type": "code",
      "source": [
        "less_install = df[df['Installs']<2e5]['Installs']\n",
        "less_mininum = df[df['Minimum Installs']<2e5]['Minimum Installs']"
      ],
      "metadata": {
        "id": "-HL4kHftHs8a"
      },
      "id": "-HL4kHftHs8a",
      "execution_count": null,
      "outputs": []
    },
    {
      "cell_type": "code",
      "source": [
        "plt.figure(figsize=(10,6))\n",
        "plt.scatter(x=less_install, y=less_mininum)\n",
        "plt.tight_layout()\n",
        "plt.show()"
      ],
      "metadata": {
        "colab": {
          "base_uri": "https://localhost:8080/"
        },
        "id": "1ath2vgbJGgd",
        "outputId": "2e9296b6-0d88-476d-fd7f-ee797de94872"
      },
      "id": "1ath2vgbJGgd",
      "execution_count": null,
      "outputs": [
        {
          "output_type": "display_data",
          "data": {
            "image/png": "[encoded data removed]",
            "text/plain": [
              "<Figure size 720x432 with 1 Axes>"
            ]
          },
          "metadata": {
            "needs_background": "light"
          }
        }
      ]
    },
    {
      "cell_type": "code",
      "execution_count": null,
      "id": "18592bc6-e0d5-426f-870d-063d4076f855",
      "metadata": {
        "id": "18592bc6-e0d5-426f-870d-063d4076f855",
        "colab": {
          "base_uri": "https://localhost:8080/"
        },
        "outputId": "fc7a2817-3da7-427f-c8bc-0d03d933711c"
      },
      "outputs": [
        {
          "output_type": "display_data",
          "data": {
            "image/png": "[encoded data removed]",
            "text/plain": [
              "<Figure size 720x432 with 1 Axes>"
            ]
          },
          "metadata": {
            "needs_background": "light"
          }
        }
      ],
      "source": [
        "plt.figure(figsize=(10,6))\n",
        "plt.scatter(x=df['Maximum Installs'], y=df['Minimum Installs'])\n",
        "plt.tight_layout()\n",
        "plt.show()"
      ]
    },
    {
      "cell_type": "code",
      "source": [
        "df['Install No.'] = (df['Minimum Installs'] + df['Maximum Installs'])/2"
      ],
      "metadata": {
        "id": "NQkTHJV3J6eV"
      },
      "id": "NQkTHJV3J6eV",
      "execution_count": null,
      "outputs": []
    },
    {
      "cell_type": "code",
      "source": [
        "df = df.drop(columns=['Installs', 'Maximum Installs', 'Minimum Installs'])"
      ],
      "metadata": {
        "id": "BJBMAfRhJ6aw"
      },
      "id": "BJBMAfRhJ6aw",
      "execution_count": null,
      "outputs": []
    },
    {
      "cell_type": "code",
      "source": [
        "df.head()"
      ],
      "metadata": {
        "colab": {
          "base_uri": "https://localhost:8080/"
        },
        "id": "k1jrpj3kJ6Vs",
        "outputId": "22cee5ad-a7ae-4e37-ad7c-1e2ca31860d2"
      },
      "id": "k1jrpj3kJ6Vs",
      "execution_count": null,
      "outputs": [
        {
          "output_type": "execute_result",
          "data": {
            "application/vnd.google.colaboratory.module+javascript": "\n      import \"https://ssl.gstatic.com/colaboratory/data_table/a6224c040fa35dcf/data_table.js\";\n\n      window.createDataTable({\n        data: [[{\n            'v': 0,\n            'f': \"0\",\n        },\n\"Gakondo\",\n\"Adventure\",\n{\n            'v': 0.0,\n            'f': \"0.0\",\n        },\n{\n            'v': 0,\n            'f': \"0\",\n        },\ntrue,\n{\n            'v': 0.0,\n            'f': \"0.0\",\n        },\n\"USD\",\n\"10M\",\n\"7.1 and up\",\n\"Jean Confident Ir\\u00e9n\\u00e9e NIYIZIBYOSE\",\n\"Feb 26, 2020\",\n\"Feb 26, 2020\",\n\"Everyone\",\nfalse,\nfalse,\nfalse,\n{\n            'v': 12.5,\n            'f': \"12.5\",\n        }],\n [{\n            'v': 1,\n            'f': \"1\",\n        },\n\"Ampere Battery Info\",\n\"Tools\",\n{\n            'v': 4.4,\n            'f': \"4.4\",\n        },\n{\n            'v': 64,\n            'f': \"64\",\n        },\ntrue,\n{\n            'v': 0.0,\n            'f': \"0.0\",\n        },\n\"USD\",\n\"2.9M\",\n\"5.0 and up\",\n\"Webserveis\",\n\"May 21, 2020\",\n\"May 06, 2021\",\n\"Everyone\",\ntrue,\nfalse,\nfalse,\n{\n            'v': 6331.0,\n            'f': \"6331.0\",\n        }],\n [{\n            'v': 2,\n            'f': \"2\",\n        },\n\"Vibook\",\n\"Productivity\",\n{\n            'v': 0.0,\n            'f': \"0.0\",\n        },\n{\n            'v': 0,\n            'f': \"0\",\n        },\ntrue,\n{\n            'v': 0.0,\n            'f': \"0.0\",\n        },\n\"USD\",\n\"3.7M\",\n\"4.0.3 and up\",\n\"Cabin Crew\",\n\"Aug 9, 2019\",\n\"Aug 19, 2019\",\n\"Everyone\",\nfalse,\nfalse,\nfalse,\n{\n            'v': 54.0,\n            'f': \"54.0\",\n        }],\n [{\n            'v': 3,\n            'f': \"3\",\n        },\n\"Smart City Trichy Public Service Vehicles 17UCS548\",\n\"Communication\",\n{\n            'v': 5.0,\n            'f': \"5.0\",\n        },\n{\n            'v': 5,\n            'f': \"5\",\n        },\ntrue,\n{\n            'v': 0.0,\n            'f': \"0.0\",\n        },\n\"USD\",\n\"1.8M\",\n\"4.0.3 and up\",\n\"Climate Smart Tech2\",\n\"Sep 10, 2018\",\n\"Oct 13, 2018\",\n\"Everyone\",\ntrue,\nfalse,\nfalse,\n{\n            'v': 14.5,\n            'f': \"14.5\",\n        }],\n [{\n            'v': 4,\n            'f': \"4\",\n        },\n\"GROW.me\",\n\"Tools\",\n{\n            'v': 0.0,\n            'f': \"0.0\",\n        },\n{\n            'v': 0,\n            'f': \"0\",\n        },\ntrue,\n{\n            'v': 0.0,\n            'f': \"0.0\",\n        },\n\"USD\",\n\"6.2M\",\n\"4.1 and up\",\n\"Rafal Milek-Horodyski\",\n\"Feb 21, 2020\",\n\"Nov 12, 2018\",\n\"Everyone\",\nfalse,\nfalse,\nfalse,\n{\n            'v': 289.0,\n            'f': \"289.0\",\n        }]],\n        columns: [[\"number\", \"index\"], [\"string\", \"App Name\"], [\"string\", \"Category\"], [\"number\", \"Rating\"], [\"number\", \"Rating Count\"], [\"string\", \"Free\"], [\"number\", \"Price\"], [\"string\", \"Currency\"], [\"string\", \"Size\"], [\"string\", \"Minimum Android\"], [\"string\", \"Developer Id\"], [\"string\", \"Released\"], [\"string\", \"Last Updated\"], [\"string\", \"Content Rating\"], [\"string\", \"Ad Supported\"], [\"string\", \"In App Purchases\"], [\"string\", \"Editors Choice\"], [\"number\", \"Install No.\"]],\n        columnOptions: [{\"width\": \"1px\", \"className\": \"index_column\"}],\n        rowsPerPage: 25,\n        helpUrl: \"https://colab.research.google.com/notebooks/data_table.ipynb\",\n        suppressOutputScrolling: true,\n        minimumWidth: undefined,\n      });\n    ",
            "text/html": [
              "\n",
              "  <div id=\"df-c5158f5d-87bd-4d5d-ac93-6c2bbb9f22b6\">\n",
              "    <div class=\"colab-df-container\">\n",
              "      <div>\n",
              "<style scoped>\n",
              "    .dataframe tbody tr th:only-of-type {\n",
              "        vertical-align: middle;\n",
              "    }\n",
              "\n",
              "    .dataframe tbody tr th {\n",
              "        vertical-align: top;\n",
              "    }\n",
              "\n",
              "    .dataframe thead th {\n",
              "        text-align: right;\n",
              "    }\n",
              "</style>\n",
              "<table border=\"1\" class=\"dataframe\">\n",
              "  <thead>\n",
              "    <tr style=\"text-align: right;\">\n",
              "      <th></th>\n",
              "      <th>App Name</th>\n",
              "      <th>Category</th>\n",
              "      <th>Rating</th>\n",
              "      <th>Rating Count</th>\n",
              "      <th>Free</th>\n",
              "      <th>Price</th>\n",
              "      <th>Currency</th>\n",
              "      <th>Size</th>\n",
              "      <th>Minimum Android</th>\n",
              "      <th>Developer Id</th>\n",
              "      <th>Released</th>\n",
              "      <th>Last Updated</th>\n",
              "      <th>Content Rating</th>\n",
              "      <th>Ad Supported</th>\n",
              "      <th>In App Purchases</th>\n",
              "      <th>Editors Choice</th>\n",
              "      <th>Install No.</th>\n",
              "    </tr>\n",
              "  </thead>\n",
              "  <tbody>\n",
              "    <tr>\n",
              "      <th>0</th>\n",
              "      <td>Gakondo</td>\n",
              "      <td>Adventure</td>\n",
              "      <td>0.0</td>\n",
              "      <td>0</td>\n",
              "      <td>True</td>\n",
              "      <td>0.0</td>\n",
              "      <td>USD</td>\n",
              "      <td>10M</td>\n",
              "      <td>7.1 and up</td>\n",
              "      <td>Jean Confident Irénée NIYIZIBYOSE</td>\n",
              "      <td>Feb 26, 2020</td>\n",
              "      <td>Feb 26, 2020</td>\n",
              "      <td>Everyone</td>\n",
              "      <td>False</td>\n",
              "      <td>False</td>\n",
              "      <td>False</td>\n",
              "      <td>12.5</td>\n",
              "    </tr>\n",
              "    <tr>\n",
              "      <th>1</th>\n",
              "      <td>Ampere Battery Info</td>\n",
              "      <td>Tools</td>\n",
              "      <td>4.4</td>\n",
              "      <td>64</td>\n",
              "      <td>True</td>\n",
              "      <td>0.0</td>\n",
              "      <td>USD</td>\n",
              "      <td>2.9M</td>\n",
              "      <td>5.0 and up</td>\n",
              "      <td>Webserveis</td>\n",
              "      <td>May 21, 2020</td>\n",
              "      <td>May 06, 2021</td>\n",
              "      <td>Everyone</td>\n",
              "      <td>True</td>\n",
              "      <td>False</td>\n",
              "      <td>False</td>\n",
              "      <td>6331.0</td>\n",
              "    </tr>\n",
              "    <tr>\n",
              "      <th>2</th>\n",
              "      <td>Vibook</td>\n",
              "      <td>Productivity</td>\n",
              "      <td>0.0</td>\n",
              "      <td>0</td>\n",
              "      <td>True</td>\n",
              "      <td>0.0</td>\n",
              "      <td>USD</td>\n",
              "      <td>3.7M</td>\n",
              "      <td>4.0.3 and up</td>\n",
              "      <td>Cabin Crew</td>\n",
              "      <td>Aug 9, 2019</td>\n",
              "      <td>Aug 19, 2019</td>\n",
              "      <td>Everyone</td>\n",
              "      <td>False</td>\n",
              "      <td>False</td>\n",
              "      <td>False</td>\n",
              "      <td>54.0</td>\n",
              "    </tr>\n",
              "    <tr>\n",
              "      <th>3</th>\n",
              "      <td>Smart City Trichy Public Service Vehicles 17UC...</td>\n",
              "      <td>Communication</td>\n",
              "      <td>5.0</td>\n",
              "      <td>5</td>\n",
              "      <td>True</td>\n",
              "      <td>0.0</td>\n",
              "      <td>USD</td>\n",
              "      <td>1.8M</td>\n",
              "      <td>4.0.3 and up</td>\n",
              "      <td>Climate Smart Tech2</td>\n",
              "      <td>Sep 10, 2018</td>\n",
              "      <td>Oct 13, 2018</td>\n",
              "      <td>Everyone</td>\n",
              "      <td>True</td>\n",
              "      <td>False</td>\n",
              "      <td>False</td>\n",
              "      <td>14.5</td>\n",
              "    </tr>\n",
              "    <tr>\n",
              "      <th>4</th>\n",
              "      <td>GROW.me</td>\n",
              "      <td>Tools</td>\n",
              "      <td>0.0</td>\n",
              "      <td>0</td>\n",
              "      <td>True</td>\n",
              "      <td>0.0</td>\n",
              "      <td>USD</td>\n",
              "      <td>6.2M</td>\n",
              "      <td>4.1 and up</td>\n",
              "      <td>Rafal Milek-Horodyski</td>\n",
              "      <td>Feb 21, 2020</td>\n",
              "      <td>Nov 12, 2018</td>\n",
              "      <td>Everyone</td>\n",
              "      <td>False</td>\n",
              "      <td>False</td>\n",
              "      <td>False</td>\n",
              "      <td>289.0</td>\n",
              "    </tr>\n",
              "  </tbody>\n",
              "</table>\n",
              "</div>\n",
              "      <button class=\"colab-df-convert\" onclick=\"convertToInteractive('df-c5158f5d-87bd-4d5d-ac93-6c2bbb9f22b6')\"\n",
              "              title=\"Convert this dataframe to an interactive table.\"\n",
              "              style=\"display:none;\">\n",
              "        \n",
              "  <svg xmlns=\"http://www.w3.org/2000/svg\" height=\"24px\"viewBox=\"0 0 24 24\"\n",
              "       width=\"24px\">\n",
              "    <path d=\"M0 0h24v24H0V0z\" fill=\"none\"/>\n",
              "    <path d=\"M18.56 5.44l.94 2.06.94-2.06 2.06-.94-2.06-.94-.94-2.06-.94 2.06-2.06.94zm-11 1L8.5 8.5l.94-2.06 2.06-.94-2.06-.94L8.5 2.5l-.94 2.06-2.06.94zm10 10l.94 2.06.94-2.06 2.06-.94-2.06-.94-.94-2.06-.94 2.06-2.06.94z\"/><path d=\"M17.41 7.96l-1.37-1.37c-.4-.4-.92-.59-1.43-.59-.52 0-1.04.2-1.43.59L10.3 9.45l-7.72 7.72c-.78.78-.78 2.05 0 2.83L4 21.41c.39.39.9.59 1.41.59.51 0 1.02-.2 1.41-.59l7.78-7.78 2.81-2.81c.8-.78.8-2.07 0-2.86zM5.41 20L4 18.59l7.72-7.72 1.47 1.35L5.41 20z\"/>\n",
              "  </svg>\n",
              "      </button>\n",
              "      \n",
              "  <style>\n",
              "    .colab-df-container {\n",
              "      display:flex;\n",
              "      flex-wrap:wrap;\n",
              "      gap: 12px;\n",
              "    }\n",
              "\n",
              "    .colab-df-convert {\n",
              "      background-color: #E8F0FE;\n",
              "      border: none;\n",
              "      border-radius: 50%;\n",
              "      cursor: pointer;\n",
              "      display: none;\n",
              "      fill: #1967D2;\n",
              "      height: 32px;\n",
              "      padding: 0 0 0 0;\n",
              "      width: 32px;\n",
              "    }\n",
              "\n",
              "    .colab-df-convert:hover {\n",
              "      background-color: #E2EBFA;\n",
              "      box-shadow: 0px 1px 2px rgba(60, 64, 67, 0.3), 0px 1px 3px 1px rgba(60, 64, 67, 0.15);\n",
              "      fill: #174EA6;\n",
              "    }\n",
              "\n",
              "    [theme=dark] .colab-df-convert {\n",
              "      background-color: #3B4455;\n",
              "      fill: #D2E3FC;\n",
              "    }\n",
              "\n",
              "    [theme=dark] .colab-df-convert:hover {\n",
              "      background-color: #434B5C;\n",
              "      box-shadow: 0px 1px 3px 1px rgba(0, 0, 0, 0.15);\n",
              "      filter: drop-shadow(0px 1px 2px rgba(0, 0, 0, 0.3));\n",
              "      fill: #FFFFFF;\n",
              "    }\n",
              "  </style>\n",
              "\n",
              "      <script>\n",
              "        const buttonEl =\n",
              "          document.querySelector('#df-c5158f5d-87bd-4d5d-ac93-6c2bbb9f22b6 button.colab-df-convert');\n",
              "        buttonEl.style.display =\n",
              "          google.colab.kernel.accessAllowed ? 'block' : 'none';\n",
              "\n",
              "        async function convertToInteractive(key) {\n",
              "          const element = document.querySelector('#df-c5158f5d-87bd-4d5d-ac93-6c2bbb9f22b6');\n",
              "          const dataTable =\n",
              "            await google.colab.kernel.invokeFunction('convertToInteractive',\n",
              "                                                     [key], {});\n",
              "          if (!dataTable) return;\n",
              "\n",
              "          const docLinkHtml = 'Like what you see? Visit the ' +\n",
              "            '<a target=\"_blank\" href=https://colab.research.google.com/notebooks/data_table.ipynb>data table notebook</a>'\n",
              "            + ' to learn more about interactive tables.';\n",
              "          element.innerHTML = '';\n",
              "          dataTable['output_type'] = 'display_data';\n",
              "          await google.colab.output.renderOutput(dataTable, element);\n",
              "          const docLink = document.createElement('div');\n",
              "          docLink.innerHTML = docLinkHtml;\n",
              "          element.appendChild(docLink);\n",
              "        }\n",
              "      </script>\n",
              "    </div>\n",
              "  </div>\n",
              "  "
            ],
            "text/plain": [
              "                                            App Name       Category  Rating  \\\n",
              "0                                            Gakondo      Adventure     0.0   \n",
              "1                                Ampere Battery Info          Tools     4.4   \n",
              "2                                             Vibook   Productivity     0.0   \n",
              "3  Smart City Trichy Public Service Vehicles 17UC...  Communication     5.0   \n",
              "4                                            GROW.me          Tools     0.0   \n",
              "\n",
              "   Rating Count  Free  Price Currency  Size Minimum Android  \\\n",
              "0             0  True    0.0      USD   10M      7.1 and up   \n",
              "1            64  True    0.0      USD  2.9M      5.0 and up   \n",
              "2             0  True    0.0      USD  3.7M    4.0.3 and up   \n",
              "3             5  True    0.0      USD  1.8M    4.0.3 and up   \n",
              "4             0  True    0.0      USD  6.2M      4.1 and up   \n",
              "\n",
              "                        Developer Id      Released  Last Updated  \\\n",
              "0  Jean Confident Irénée NIYIZIBYOSE  Feb 26, 2020  Feb 26, 2020   \n",
              "1                         Webserveis  May 21, 2020  May 06, 2021   \n",
              "2                         Cabin Crew   Aug 9, 2019  Aug 19, 2019   \n",
              "3                Climate Smart Tech2  Sep 10, 2018  Oct 13, 2018   \n",
              "4              Rafal Milek-Horodyski  Feb 21, 2020  Nov 12, 2018   \n",
              "\n",
              "  Content Rating  Ad Supported  In App Purchases  Editors Choice  Install No.  \n",
              "0       Everyone         False             False           False         12.5  \n",
              "1       Everyone          True             False           False       6331.0  \n",
              "2       Everyone         False             False           False         54.0  \n",
              "3       Everyone          True             False           False         14.5  \n",
              "4       Everyone         False             False           False        289.0  "
            ]
          },
          "metadata": {},
          "execution_count": 37
        }
      ]
    },
    {
      "cell_type": "markdown",
      "source": [
        "### Paid Apps, Free apps "
      ],
      "metadata": {
        "id": "lZS1cdVGOXwZ"
      },
      "id": "lZS1cdVGOXwZ"
    },
    {
      "cell_type": "code",
      "execution_count": null,
      "id": "004c2794-1a71-4cbf-a367-da6cddd75a8f",
      "metadata": {
        "id": "004c2794-1a71-4cbf-a367-da6cddd75a8f",
        "colab": {
          "base_uri": "https://localhost:8080/"
        },
        "outputId": "b6215671-2d13-429a-dc9d-a4cf466cfd8b"
      },
      "outputs": [
        {
          "output_type": "execute_result",
          "data": {
            "text/plain": [
              "True     2191361\n",
              "False      43917\n",
              "Name: Free, dtype: Int64"
            ]
          },
          "metadata": {},
          "execution_count": 40
        }
      ],
      "source": [
        "Free_apps= df['Free'].value_counts()\n",
        "Free_apps"
      ]
    },
    {
      "cell_type": "code",
      "source": [
        "plt.figure(figsize=(10,6))\n",
        "plt.bar(x=Free_apps.index, height=Free_apps)\n",
        "plt.xticks(ticks=[0,1], labels=[False, True])"
      ],
      "metadata": {
        "colab": {
          "base_uri": "https://localhost:8080/"
        },
        "id": "3ljyAcUROPjl",
        "outputId": "c4ca95ed-67b7-4f3b-bcdd-897b0fac4208"
      },
      "id": "3ljyAcUROPjl",
      "execution_count": null,
      "outputs": [
        {
          "output_type": "execute_result",
          "data": {
            "text/plain": [
              "([<matplotlib.axis.XTick at 0x7f6633733c10>,\n",
              "  <matplotlib.axis.XTick at 0x7f6633733c90>],\n",
              " [Text(0, 0, 'False'), Text(0, 0, 'True')])"
            ]
          },
          "metadata": {},
          "execution_count": 41
        },
        {
          "output_type": "display_data",
          "data": {
            "image/png": "[encoded data removed]",
            "text/plain": [
              "<Figure size 720x432 with 1 Axes>"
            ]
          },
          "metadata": {
            "needs_background": "light"
          }
        }
      ]
    },
    {
      "cell_type": "code",
      "source": [
        "free_percent = Free_apps * 100 / len(df)\n",
        "free_percent"
      ],
      "metadata": {
        "colab": {
          "base_uri": "https://localhost:8080/"
        },
        "id": "HVKNSKJ2OPhA",
        "outputId": "35f13f36-8737-4df0-b989-3820eabe064a"
      },
      "id": "HVKNSKJ2OPhA",
      "execution_count": null,
      "outputs": [
        {
          "output_type": "execute_result",
          "data": {
            "text/plain": [
              "True     98.035278\n",
              "False     1.964722\n",
              "Name: Free, dtype: float64"
            ]
          },
          "metadata": {},
          "execution_count": 42
        }
      ]
    },
    {
      "cell_type": "code",
      "source": [
        "plt.figure(figsize=(10,6))\n",
        "plt.bar(x=free_percent.index, height=free_percent)\n",
        "plt.title(\"Prepostion of Free and Paid Apps\")\n",
        "plt.xticks(ticks=[0,1], labels=[\"Paid Apps\", \"Free Apps\"])\n",
        "plt.ylabel('Percentage of data')\n",
        "plt.tight_layout()\n",
        "plt.show()"
      ],
      "metadata": {
        "colab": {
          "base_uri": "https://localhost:8080/"
        },
        "id": "UmkuxOEbOPfH",
        "outputId": "24cb5111-72d6-4b81-8c36-131165696034"
      },
      "id": "UmkuxOEbOPfH",
      "execution_count": null,
      "outputs": [
        {
          "output_type": "display_data",
          "data": {
            "image/png": "[encoded data removed]",
            "text/plain": [
              "<Figure size 720x432 with 1 Axes>"
            ]
          },
          "metadata": {
            "needs_background": "light"
          }
        }
      ]
    },
    {
      "cell_type": "markdown",
      "source": [
        "### ratings"
      ],
      "metadata": {
        "id": "jKOyhD8tVNrK"
      },
      "id": "jKOyhD8tVNrK"
    },
    {
      "cell_type": "code",
      "source": [
        "df_mean"
      ],
      "metadata": {
        "colab": {
          "base_uri": "https://localhost:8080/"
        },
        "id": "mKnb0T08OPaA",
        "outputId": "a9004c7e-1c7d-47b7-d1ad-720a979a4f28"
      },
      "id": "mKnb0T08OPaA",
      "execution_count": null,
      "outputs": [
        {
          "output_type": "execute_result",
          "data": {
            "application/vnd.google.colaboratory.module+javascript": "\n      import \"https://ssl.gstatic.com/colaboratory/data_table/a6224c040fa35dcf/data_table.js\";\n\n      window.createDataTable({\n        data: [[\"Action\",\n{\n            'v': 2.7059790509561323,\n            'f': \"2.7059790509561323\",\n        },\n{\n            'v': 20805.240093935216,\n            'f': \"20805.240093935216\",\n        },\n{\n            'v': 631684.3602700937,\n            'f': \"631684.3602700937\",\n        },\n{\n            'v': 1115664.5526764654,\n            'f': \"1115664.5526764654\",\n        },\n{\n            'v': 0.9783342406096898,\n            'f': \"0.9783342406096898\",\n        },\n{\n            'v': 0.06642508368717129,\n            'f': \"0.06642508368717129\",\n        },\n{\n            'v': 0.8105244057339865,\n            'f': \"0.8105244057339865\",\n        },\n{\n            'v': 0.27483215387407006,\n            'f': \"0.27483215387407006\",\n        },\n{\n            'v': 0.0027581201233895843,\n            'f': \"0.0027581201233895843\",\n        }],\n [\"Adventure\",\n{\n            'v': 2.814991003642468,\n            'f': \"2.814991003642468\",\n        },\n{\n            'v': 5724.398560582788,\n            'f': \"5724.398560582788\",\n        },\n{\n            'v': 232342.75473080736,\n            'f': \"232342.75473080736\",\n        },\n{\n            'v': 423165.55130802054,\n            'f': \"423165.55130802054\",\n        },\n{\n            'v': 0.9575054949790975,\n            'f': \"0.9575054949790975\",\n        },\n{\n            'v': 0.1796786478041591,\n            'f': \"0.1796786478041591\",\n        },\n{\n            'v': 0.7755462655691074,\n            'f': \"0.7755462655691074\",\n        },\n{\n            'v': 0.20385295004956255,\n            'f': \"0.20385295004956255\",\n        },\n{\n            'v': 0.0015946213851657112,\n            'f': \"0.0015946213851657112\",\n        }],\n [\"Arcade\",\n{\n            'v': 2.4504809607831493,\n            'f': \"2.4504809607831493\",\n        },\n{\n            'v': 4649.964463923198,\n            'f': \"4649.964463923198\",\n        },\n{\n            'v': 269596.6282511294,\n            'f': \"269596.6282511294\",\n        },\n{\n            'v': 477429.660860351,\n            'f': \"477429.660860351\",\n        },\n{\n            'v': 0.9857599643069601,\n            'f': \"0.9857599643069601\",\n        },\n{\n            'v': 0.09618023615035487,\n            'f': \"0.09618023615035487\",\n        },\n{\n            'v': 0.7864924152290304,\n            'f': \"0.7864924152290304\",\n        },\n{\n            'v': 0.19328152885187388,\n            'f': \"0.19328152885187388\",\n        },\n{\n            'v': 0.000334622248661511,\n            'f': \"0.000334622248661511\",\n        }],\n [\"Art & Design\",\n{\n            'v': 1.9523542844715036,\n            'f': \"1.9523542844715036\",\n        },\n{\n            'v': 867.1829599826011,\n            'f': \"867.1829599826011\",\n        },\n{\n            'v': 60225.43577709446,\n            'f': \"60225.43577709446\",\n        },\n{\n            'v': 97971.7646043476,\n            'f': \"97971.7646043476\",\n        },\n{\n            'v': 0.9906143804951724,\n            'f': \"0.9906143804951724\",\n        },\n{\n            'v': 0.08854037434597342,\n            'f': \"0.08854037434597342\",\n        },\n{\n            'v': 0.7129294999730298,\n            'f': \"0.7129294999730298\",\n        },\n{\n            'v': 0.04547170829063056,\n            'f': \"0.04547170829063056\",\n        },\n{\n            'v': 0.000323642051890609,\n            'f': \"0.000323642051890609\",\n        }],\n [\"Auto & Vehicles\",\n{\n            'v': 2.0496128349395644,\n            'f': \"2.0496128349395644\",\n        },\n{\n            'v': 706.0191632778118,\n            'f': \"706.0191632778118\",\n        },\n{\n            'v': 87249.45661450924,\n            'f': \"87249.45661450924\",\n        },\n{\n            'v': 167189.43916849015,\n            'f': \"167189.43916849015\",\n        },\n{\n            'v': 0.9844638949671772,\n            'f': \"0.9844638949671772\",\n        },\n{\n            'v': 0.11673250749452954,\n            'f': \"0.11673250749452954\",\n        },\n{\n            'v': 0.25519693654266956,\n            'f': \"0.25519693654266956\",\n        },\n{\n            'v': 0.04912472647702407,\n            'f': \"0.04912472647702407\",\n        },\n{\n            'v': 5.4704595185995626e-05,\n            'f': \"5.4704595185995626e-05\",\n        }],\n [\"Beauty\",\n{\n            'v': 1.434105479100774,\n            'f': \"1.434105479100774\",\n        },\n{\n            'v': 383.3107103171211,\n            'f': \"383.3107103171211\",\n        },\n{\n            'v': 34346.65239551478,\n            'f': \"34346.65239551478\",\n        },\n{\n            'v': 60466.119181107715,\n            'f': \"60466.119181107715\",\n        },\n{\n            'v': 0.9988107373428474,\n            'f': \"0.9988107373428474\",\n        },\n{\n            'v': 0.005127420998980632,\n            'f': \"0.005127420998980632\",\n        },\n{\n            'v': 0.5065409446143391,\n            'f': \"0.5065409446143391\",\n        },\n{\n            'v': 0.019537886510363575,\n            'f': \"0.019537886510363575\",\n        },\n{\n            'v': 0.00016989466530750936,\n            'f': \"0.00016989466530750936\",\n        }],\n [\"Board\",\n{\n            'v': 2.782275208273482,\n            'f': \"2.782275208273482\",\n        },\n{\n            'v': 5807.571483290242,\n            'f': \"5807.571483290242\",\n        },\n{\n            'v': 310807.2028711749,\n            'f': \"310807.2028711749\",\n        },\n{\n            'v': 498824.0659236872,\n            'f': \"498824.0659236872\",\n        },\n{\n            'v': 0.9655270117113713,\n            'f': \"0.9655270117113713\",\n        },\n{\n            'v': 0.16980773366074828,\n            'f': \"0.16980773366074828\",\n        },\n{\n            'v': 0.7064601435587458,\n            'f': \"0.7064601435587458\",\n        },\n{\n            'v': 0.23517189270872685,\n            'f': \"0.23517189270872685\",\n        },\n{\n            'v': 0.00028333962976955044,\n            'f': \"0.00028333962976955044\",\n        }],\n [\"Books & Reference\",\n{\n            'v': 2.467159400135597,\n            'f': \"2.467159400135597\",\n        },\n{\n            'v': 662.7640201557175,\n            'f': \"662.7640201557175\",\n        },\n{\n            'v': 41294.29771777123,\n            'f': \"41294.29771777123\",\n        },\n{\n            'v': 88319.64278493592,\n            'f': \"88319.64278493592\",\n        },\n{\n            'v': 0.9691847714344459,\n            'f': \"0.9691847714344459\",\n        },\n{\n            'v': 0.19322462234426252,\n            'f': \"0.19322462234426252\",\n        },\n{\n            'v': 0.759903365088068,\n            'f': \"0.759903365088068\",\n        },\n{\n            'v': 0.07304160098690973,\n            'f': \"0.07304160098690973\",\n        },\n{\n            'v': 6.853539853334247e-05,\n            'f': \"6.853539853334247e-05\",\n        }],\n [\"Business\",\n{\n            'v': 1.4390816807479097,\n            'f': \"1.4390816807479097\",\n        },\n{\n            'v': 438.40968406834986,\n            'f': \"438.40968406834986\",\n        },\n{\n            'v': 36423.68834465922,\n            'f': \"36423.68834465922\",\n        },\n{\n            'v': 59662.83461894262,\n            'f': \"59662.83461894262\",\n        },\n{\n            'v': 0.9953189447106857,\n            'f': \"0.9953189447106857\",\n        },\n{\n            'v': 0.05730054131918048,\n            'f': \"0.05730054131918048\",\n        },\n{\n            'v': 0.10193293501471089,\n            'f': \"0.10193293501471089\",\n        },\n{\n            'v': 0.021040404532207468,\n            'f': \"0.021040404532207468\",\n        },\n{\n            'v': 6.955505630481807e-05,\n            'f': \"6.955505630481807e-05\",\n        }],\n [\"Card\",\n{\n            'v': 3.08516032811334,\n            'f': \"3.08516032811334\",\n        },\n{\n            'v': 6321.819661943823,\n            'f': \"6321.819661943823\",\n        },\n{\n            'v': 243313.19936399217,\n            'f': \"243313.19936399217\",\n        },\n{\n            'v': 408472.9173493092,\n            'f': \"408472.9173493092\",\n        },\n{\n            'v': 0.9649101357134124,\n            'f': \"0.9649101357134124\",\n        },\n{\n            'v': 0.13024428976647537,\n            'f': \"0.13024428976647537\",\n        },\n{\n            'v': 0.7268614745078861,\n            'f': \"0.7268614745078861\",\n        },\n{\n            'v': 0.33255899254187554,\n            'f': \"0.33255899254187554\",\n        },\n{\n            'v': 0.0019562293678933853,\n            'f': \"0.0019562293678933853\",\n        }],\n [\"Casino\",\n{\n            'v': 3.2796822244289943,\n            'f': \"3.2796822244289943\",\n        },\n{\n            'v': 9692.946375372394,\n            'f': \"9692.946375372394\",\n        },\n{\n            'v': 246180.8488967691,\n            'f': \"246180.8488967691\",\n        },\n{\n            'v': 437921.7669424744,\n            'f': \"437921.7669424744\",\n        },\n{\n            'v': 0.9850275807722616,\n            'f': \"0.9850275807722616\",\n        },\n{\n            'v': 0.07120841646966122,\n            'f': \"0.07120841646966122\",\n        },\n{\n            'v': 0.7446808510638298,\n            'f': \"0.7446808510638298\",\n        },\n{\n            'v': 0.49763593380614657,\n            'f': \"0.49763593380614657\",\n        },\n{\n            'v': 0.0,\n            'f': \"0.0\",\n        }],\n [\"Casual\",\n{\n            'v': 2.425159875753689,\n            'f': \"2.425159875753689\",\n        },\n{\n            'v': 7296.491869175955,\n            'f': \"7296.491869175955\",\n        },\n{\n            'v': 331379.710307229,\n            'f': \"331379.710307229\",\n        },\n{\n            'v': 600737.4013933443,\n            'f': \"600737.4013933443\",\n        },\n{\n            'v': 0.9861255977800957,\n            'f': \"0.9861255977800957\",\n        },\n{\n            'v': 0.04835680064156758,\n            'f': \"0.04835680064156758\",\n        },\n{\n            'v': 0.7930450868872139,\n            'f': \"0.7930450868872139\",\n        },\n{\n            'v': 0.19445811111329778,\n            'f': \"0.19445811111329778\",\n        },\n{\n            'v': 0.0008659201385472221,\n            'f': \"0.0008659201385472221\",\n        }],\n [\"Comics\",\n{\n            'v': 2.8649060616802555,\n            'f': \"2.8649060616802555\",\n        },\n{\n            'v': 2443.1846862814605,\n            'f': \"2443.1846862814605\",\n        },\n{\n            'v': 138924.64849755415,\n            'f': \"138924.64849755415\",\n        },\n{\n            'v': 247462.57127882598,\n            'f': \"247462.57127882598\",\n        },\n{\n            'v': 0.9804332634521313,\n            'f': \"0.9804332634521313\",\n        },\n{\n            'v': 0.053765110412299096,\n            'f': \"0.053765110412299096\",\n        },\n{\n            'v': 0.7606568832983928,\n            'f': \"0.7606568832983928\",\n        },\n{\n            'v': 0.16701607267645002,\n            'f': \"0.16701607267645002\",\n        },\n{\n            'v': 0.0010482180293501049,\n            'f': \"0.0010482180293501049\",\n        }],\n [\"Communication\",\n{\n            'v': 2.1225912293616602,\n            'f': \"2.1225912293616602\",\n        },\n{\n            'v': 9886.983215900726,\n            'f': \"9886.983215900726\",\n        },\n{\n            'v': 897224.1317499533,\n            'f': \"897224.1317499533\",\n        },\n{\n            'v': 1501160.6369298482,\n            'f': \"1501160.6369298482\",\n        },\n{\n            'v': 0.9902838042643304,\n            'f': \"0.9902838042643304\",\n        },\n{\n            'v': 0.04324576157950468,\n            'f': \"0.04324576157950468\",\n        },\n{\n            'v': 0.3138871011273278,\n            'f': \"0.3138871011273278\",\n        },\n{\n            'v': 0.04233188697656071,\n            'f': \"0.04233188697656071\",\n        },\n{\n            'v': 0.00014532771399505885,\n            'f': \"0.00014532771399505885\",\n        }],\n [\"Dating\",\n{\n            'v': 2.452000620347397,\n            'f': \"2.452000620347397\",\n        },\n{\n            'v': 2149.104993796526,\n            'f': \"2149.104993796526\",\n        },\n{\n            'v': 98600.217964439,\n            'f': \"98600.217964439\",\n        },\n{\n            'v': 199104.61419374618,\n            'f': \"199104.61419374618\",\n        },\n{\n            'v': 0.9961679950950337,\n            'f': \"0.9961679950950337\",\n        },\n{\n            'v': 0.08488044144696505,\n            'f': \"0.08488044144696505\",\n        },\n{\n            'v': 0.6025444512568976,\n            'f': \"0.6025444512568976\",\n        },\n{\n            'v': 0.2918454935622318,\n            'f': \"0.2918454935622318\",\n        },\n{\n            'v': 0.00030656039239730225,\n            'f': \"0.00030656039239730225\",\n        }],\n [\"Education\",\n{\n            'v': 2.246839682049934,\n            'f': \"2.246839682049934\",\n        },\n{\n            'v': 437.1065408322421,\n            'f': \"437.1065408322421\",\n        },\n{\n            'v': 24820.908710440086,\n            'f': \"24820.908710440086\",\n        },\n{\n            'v': 44855.566203492475,\n            'f': \"44855.566203492475\",\n        },\n{\n            'v': 0.9728358704218342,\n            'f': \"0.9728358704218342\",\n        },\n{\n            'v': 0.16324129994193426,\n            'f': \"0.16324129994193426\",\n        },\n{\n            'v': 0.4200132730515575,\n            'f': \"0.4200132730515575\",\n        },\n{\n            'v': 0.06550250943631009,\n            'f': \"0.06550250943631009\",\n        },\n{\n            'v': 0.00016591314446887055,\n            'f': \"0.00016591314446887055\",\n        }],\n [\"Educational\",\n{\n            'v': 2.437741583171099,\n            'f': \"2.437741583171099\",\n        },\n{\n            'v': 1396.264779904079,\n            'f': \"1396.264779904079\",\n        },\n{\n            'v': 222040.79386088427,\n            'f': \"222040.79386088427\",\n        },\n{\n            'v': 388436.72864651773,\n            'f': \"388436.72864651773\",\n        },\n{\n            'v': 0.9482354045428947,\n            'f': \"0.9482354045428947\",\n        },\n{\n            'v': 0.1718317518772241,\n            'f': \"0.1718317518772241\",\n        },\n{\n            'v': 0.5252487328702835,\n            'f': \"0.5252487328702835\",\n        },\n{\n            'v': 0.18326450159564484,\n            'f': \"0.18326450159564484\",\n        },\n{\n            'v': 4.693073024216257e-05,\n            'f': \"4.693073024216257e-05\",\n        }],\n [\"Entertainment\",\n{\n            'v': 2.4353741150474493,\n            'f': \"2.4353741150474493\",\n        },\n{\n            'v': 1635.3783235691753,\n            'f': \"1635.3783235691753\",\n        },\n{\n            'v': 123728.11725908515,\n            'f': \"123728.11725908515\",\n        },\n{\n            'v': 235361.90119037288,\n            'f': \"235361.90119037288\",\n        },\n{\n            'v': 0.9899910324278979,\n            'f': \"0.9899910324278979\",\n        },\n{\n            'v': 0.05084500859874318,\n            'f': \"0.05084500859874318\",\n        },\n{\n            'v': 0.7117214845670977,\n            'f': \"0.7117214845670977\",\n        },\n{\n            'v': 0.057189967890306344,\n            'f': \"0.057189967890306344\",\n        },\n{\n            'v': 0.00012294252075559028,\n            'f': \"0.00012294252075559028\",\n        }],\n [\"Events\",\n{\n            'v': 1.2708086785009802,\n            'f': \"1.2708086785009802\",\n        },\n{\n            'v': 71.2741617357002,\n            'f': \"71.2741617357002\",\n        },\n{\n            'v': 5686.184019936142,\n            'f': \"5686.184019936142\",\n        },\n{\n            'v': 10940.928665991745,\n            'f': \"10940.928665991745\",\n        },\n{\n            'v': 0.99883186667705,\n            'f': \"0.99883186667705\",\n        },\n{\n            'v': 0.0034559285102406367,\n            'f': \"0.0034559285102406367\",\n        },\n{\n            'v': 0.20161981154115724,\n            'f': \"0.20161981154115724\",\n        },\n{\n            'v': 0.01222646211354256,\n            'f': \"0.01222646211354256\",\n        },\n{\n            'v': 7.78755548633284e-05,\n            'f': \"7.78755548633284e-05\",\n        }],\n [\"Finance\",\n{\n            'v': 2.403102116483833,\n            'f': \"2.403102116483833\",\n        },\n{\n            'v': 2959.699382048509,\n            'f': \"2959.699382048509\",\n        },\n{\n            'v': 94074.45084321154,\n            'f': \"94074.45084321154\",\n        },\n{\n            'v': 173914.00514771027,\n            'f': \"173914.00514771027\",\n        },\n{\n            'v': 0.9914306663000642,\n            'f': \"0.9914306663000642\",\n        },\n{\n            'v': 0.051945706076436095,\n            'f': \"0.051945706076436095\",\n        },\n{\n            'v': 0.24544038126661166,\n            'f': \"0.24544038126661166\",\n        },\n{\n            'v': 0.038126661167629,\n            'f': \"0.038126661167629\",\n        },\n{\n            'v': 0.0002596767787859347,\n            'f': \"0.0002596767787859347\",\n        }],\n [\"Food & Drink\",\n{\n            'v': 1.2945632046184727,\n            'f': \"1.2945632046184727\",\n        },\n{\n            'v': 677.9001824519362,\n            'f': \"677.9001824519362\",\n        },\n{\n            'v': 21961.038457376297,\n            'f': \"21961.038457376297\",\n        },\n{\n            'v': 39499.51044949748,\n            'f': \"39499.51044949748\",\n        },\n{\n            'v': 0.9972269941969781,\n            'f': \"0.9972269941969781\",\n        },\n{\n            'v': 0.02015415109499914,\n            'f': \"0.02015415109499914\",\n        },\n{\n            'v': 0.22270618312659787,\n            'f': \"0.22270618312659787\",\n        },\n{\n            'v': 0.028568723199913427,\n            'f': \"0.028568723199913427\",\n        },\n{\n            'v': 0.00032464458181719806,\n            'f': \"0.00032464458181719806\",\n        }],\n [\"Health & Fitness\",\n{\n            'v': 1.6237766047603834,\n            'f': \"1.6237766047603834\",\n        },\n{\n            'v': 958.2545219012567,\n            'f': \"958.2545219012567\",\n        },\n{\n            'v': 54923.44480235663,\n            'f': \"54923.44480235663\",\n        },\n{\n            'v': 96615.93309783259,\n            'f': \"96615.93309783259\",\n        },\n{\n            'v': 0.9830559214465333,\n            'f': \"0.9830559214465333\",\n        },\n{\n            'v': 0.09890260346066078,\n            'f': \"0.09890260346066078\",\n        },\n{\n            'v': 0.264195904682074,\n            'f': \"0.264195904682074\",\n        },\n{\n            'v': 0.08032570949586876,\n            'f': \"0.08032570949586876\",\n        },\n{\n            'v': 0.0004909591665668783,\n            'f': \"0.0004909591665668783\",\n        }],\n [\"House & Home\",\n{\n            'v': 1.4853806533549723,\n            'f': \"1.4853806533549723\",\n        },\n{\n            'v': 488.37211599520214,\n            'f': \"488.37211599520214\",\n        },\n{\n            'v': 32280.188474387527,\n            'f': \"32280.188474387527\",\n        },\n{\n            'v': 61811.23954346162,\n            'f': \"61811.23954346162\",\n        },\n{\n            'v': 0.9954763727468856,\n            'f': \"0.9954763727468856\",\n        },\n{\n            'v': 0.018955390075857767,\n            'f': \"0.018955390075857767\",\n        },\n{\n            'v': 0.33676665042800474,\n            'f': \"0.33676665042800474\",\n        },\n{\n            'v': 0.026445820864360776,\n            'f': \"0.026445820864360776\",\n        },\n{\n            'v': 0.0004871598580276985,\n            'f': \"0.0004871598580276985\",\n        }],\n [\"Libraries & Demo\",\n{\n            'v': 2.0871152328334626,\n            'f': \"2.0871152328334626\",\n        },\n{\n            'v': 690.2665745856353,\n            'f': \"690.2665745856353\",\n        },\n{\n            'v': 55621.03597537515,\n            'f': \"55621.03597537515\",\n        },\n{\n            'v': 114519.90977298962,\n            'f': \"114519.90977298962\",\n        },\n{\n            'v': 0.9861485186610235,\n            'f': \"0.9861485186610235\",\n        },\n{\n            'v': 0.04157752981916124,\n            'f': \"0.04157752981916124\",\n        },\n{\n            'v': 0.3051173528280108,\n            'f': \"0.3051173528280108\",\n        },\n{\n            'v': 0.0513659099653713,\n            'f': \"0.0513659099653713\",\n        },\n{\n            'v': 0.0,\n            'f': \"0.0\",\n        }],\n [\"Lifestyle\",\n{\n            'v': 1.9303760062497224,\n            'f': \"1.9303760062497224\",\n        },\n{\n            'v': 799.1147634251554,\n            'f': \"799.1147634251554\",\n        },\n{\n            'v': 50687.6811401915,\n            'f': \"50687.6811401915\",\n        },\n{\n            'v': 86988.19379537061,\n            'f': \"86988.19379537061\",\n        },\n{\n            'v': 0.9886420295611463,\n            'f': \"0.9886420295611463\",\n        },\n{\n            'v': 0.07594160660350888,\n            'f': \"0.07594160660350888\",\n        },\n{\n            'v': 0.38021313096314574,\n            'f': \"0.38021313096314574\",\n        },\n{\n            'v': 0.05043479730586237,\n            'f': \"0.05043479730586237\",\n        },\n{\n            'v': 0.0001267630629336353,\n            'f': \"0.0001267630629336353\",\n        }],\n [\"Maps & Navigation\",\n{\n            'v': 2.2248045540796983,\n            'f': \"2.2248045540796983\",\n        },\n{\n            'v': 2415.741214421252,\n            'f': \"2415.741214421252\",\n        },\n{\n            'v': 100405.80158670759,\n            'f': \"100405.80158670759\",\n        },\n{\n            'v': 179328.4041239428,\n            'f': \"179328.4041239428\",\n        },\n{\n            'v': 0.9759374298330963,\n            'f': \"0.9759374298330963\",\n        },\n{\n            'v': 0.1486218713045411,\n            'f': \"0.1486218713045411\",\n        },\n{\n            'v': 0.2825761544794551,\n            'f': \"0.2825761544794551\",\n        },\n{\n            'v': 0.05396302671955692,\n            'f': \"0.05396302671955692\",\n        },\n{\n            'v': 0.00029937878901279845,\n            'f': \"0.00029937878901279845\",\n        }],\n [\"Medical\",\n{\n            'v': 1.8480025244556773,\n            'f': \"1.8480025244556773\",\n        },\n{\n            'v': 392.9617860523825,\n            'f': \"392.9617860523825\",\n        },\n{\n            'v': 20493.377826290347,\n            'f': \"20493.377826290347\",\n        },\n{\n            'v': 34220.487634492434,\n            'f': \"34220.487634492434\",\n        },\n{\n            'v': 0.9573990332137845,\n            'f': \"0.9573990332137845\",\n        },\n{\n            'v': 0.711387874567293,\n            'f': \"0.711387874567293\",\n        },\n{\n            'v': 0.17501949165757055,\n            'f': \"0.17501949165757055\",\n        },\n{\n            'v': 0.04886948386090753,\n            'f': \"0.04886948386090753\",\n        },\n{\n            'v': 3.118665211289568e-05,\n            'f': \"3.118665211289568e-05\",\n        }],\n [\"Music\",\n{\n            'v': 2.662008206613568,\n            'f': \"2.662008206613568\",\n        },\n{\n            'v': 5988.078445570843,\n            'f': \"5988.078445570843\",\n        },\n{\n            'v': 388145.8847893359,\n            'f': \"388145.8847893359\",\n        },\n{\n            'v': 776211.8672060923,\n            'f': \"776211.8672060923\",\n        },\n{\n            'v': 0.9738219895287958,\n            'f': \"0.9738219895287958\",\n        },\n{\n            'v': 0.06316277962874832,\n            'f': \"0.06316277962874832\",\n        },\n{\n            'v': 0.8293669681104237,\n            'f': \"0.8293669681104237\",\n        },\n{\n            'v': 0.15254640647310805,\n            'f': \"0.15254640647310805\",\n        },\n{\n            'v': 0.002617801047120419,\n            'f': \"0.002617801047120419\",\n        }],\n [\"Music & Audio\",\n{\n            'v': 2.226841495837335,\n            'f': \"2.226841495837335\",\n        },\n{\n            'v': 1266.3315048289335,\n            'f': \"1266.3315048289335\",\n        },\n{\n            'v': 91922.92405717015,\n            'f': \"91922.92405717015\",\n        },\n{\n            'v': 148618.6840858327,\n            'f': \"148618.6840858327\",\n        },\n{\n            'v': 0.9901553200005164,\n            'f': \"0.9901553200005164\",\n        },\n{\n            'v': 0.04229763499799747,\n            'f': \"0.04229763499799747\",\n        },\n{\n            'v': 0.8058564548823157,\n            'f': \"0.8058564548823157\",\n        },\n{\n            'v': 0.028998231185364026,\n            'f': \"0.028998231185364026\",\n        },\n{\n            'v': 7.746633442216571e-05,\n            'f': \"7.746633442216571e-05\",\n        }],\n [\"News & Magazines\",\n{\n            'v': 2.483766203268827,\n            'f': \"2.483766203268827\",\n        },\n{\n            'v': 759.5827540860417,\n            'f': \"759.5827540860417\",\n        },\n{\n            'v': 106265.28738290466,\n            'f': \"106265.28738290466\",\n        },\n{\n            'v': 206149.26916158572,\n            'f': \"206149.26916158572\",\n        },\n{\n            'v': 0.9974303268157078,\n            'f': \"0.9974303268157078\",\n        },\n{\n            'v': 0.006736022683206028,\n            'f': \"0.006736022683206028\",\n        },\n{\n            'v': 0.6148293503398977,\n            'f': \"0.6148293503398977\",\n        },\n{\n            'v': 0.12082136099236106,\n            'f': \"0.12082136099236106\",\n        },\n{\n            'v': 0.00039713131029971735,\n            'f': \"0.00039713131029971735\",\n        }],\n [\"Parenting\",\n{\n            'v': 2.4232731137088184,\n            'f': \"2.4232731137088184\",\n        },\n{\n            'v': 1743.4109989373007,\n            'f': \"1743.4109989373007\",\n        },\n{\n            'v': 64077.15643044619,\n            'f': \"64077.15643044619\",\n        },\n{\n            'v': 127562.4341207349,\n            'f': \"127562.4341207349\",\n        },\n{\n            'v': 0.9742782152230971,\n            'f': \"0.9742782152230971\",\n        },\n{\n            'v': 0.07019147060367463,\n            'f': \"0.07019147060367463\",\n        },\n{\n            'v': 0.46771653543307085,\n            'f': \"0.46771653543307085\",\n        },\n{\n            'v': 0.17821522309711285,\n            'f': \"0.17821522309711285\",\n        },\n{\n            'v': 0.0007874015748031496,\n            'f': \"0.0007874015748031496\",\n        }],\n [\"Personalization\",\n{\n            'v': 2.758753875881897,\n            'f': \"2.758753875881897\",\n        },\n{\n            'v': 1386.8844088437513,\n            'f': \"1386.8844088437513\",\n        },\n{\n            'v': 103722.46346220672,\n            'f': \"103722.46346220672\",\n        },\n{\n            'v': 195912.76015020738,\n            'f': \"195912.76015020738\",\n        },\n{\n            'v': 0.9353435713485035,\n            'f': \"0.9353435713485035\",\n        },\n{\n            'v': 0.10915344836900655,\n            'f': \"0.10915344836900655\",\n        },\n{\n            'v': 0.8203564622800135,\n            'f': \"0.8203564622800135\",\n        },\n{\n            'v': 0.047068714269700704,\n            'f': \"0.047068714269700704\",\n        },\n{\n            'v': 0.0,\n            'f': \"0.0\",\n        }],\n [\"Photography\",\n{\n            'v': 2.5197648787656046,\n            'f': \"2.5197648787656046\",\n        },\n{\n            'v': 6020.614197705308,\n            'f': \"6020.614197705308\",\n        },\n{\n            'v': 534399.1607504501,\n            'f': \"534399.1607504501\",\n        },\n{\n            'v': 888584.584439694,\n            'f': \"888584.584439694\",\n        },\n{\n            'v': 0.9841359135913591,\n            'f': \"0.9841359135913591\",\n        },\n{\n            'v': 0.0631736464896488,\n            'f': \"0.0631736464896488\",\n        },\n{\n            'v': 0.8263388838883888,\n            'f': \"0.8263388838883888\",\n        },\n{\n            'v': 0.06632538253825382,\n            'f': \"0.06632538253825382\",\n        },\n{\n            'v': 0.00025315031503150316,\n            'f': \"0.00025315031503150316\",\n        }],\n [\"Productivity\",\n{\n            'v': 1.9379275088185286,\n            'f': \"1.9379275088185286\",\n        },\n{\n            'v': 1920.8086370839937,\n            'f': \"1920.8086370839937\",\n        },\n{\n            'v': 355266.7962558659,\n            'f': \"355266.7962558659\",\n        },\n{\n            'v': 569253.0613064318,\n            'f': \"569253.0613064318\",\n        },\n{\n            'v': 0.9782679615548696,\n            'f': \"0.9782679615548696\",\n        },\n{\n            'v': 0.13315096658636022,\n            'f': \"0.13315096658636022\",\n        },\n{\n            'v': 0.2546864413159678,\n            'f': \"0.2546864413159678\",\n        },\n{\n            'v': 0.06630028357047855,\n            'f': \"0.06630028357047855\",\n        },\n{\n            'v': 0.00018821049461717986,\n            'f': \"0.00018821049461717986\",\n        }],\n [\"Puzzle\",\n{\n            'v': 2.688279058664384,\n            'f': \"2.688279058664384\",\n        },\n{\n            'v': 4197.2610754142715,\n            'f': \"4197.2610754142715\",\n        },\n{\n            'v': 211032.60607896795,\n            'f': \"211032.60607896795\",\n        },\n{\n            'v': 374526.64798311447,\n            'f': \"374526.64798311447\",\n        },\n{\n            'v': 0.9755120387742339,\n            'f': \"0.9755120387742339\",\n        },\n{\n            'v': 0.08611267604752688,\n            'f': \"0.08611267604752688\",\n        },\n{\n            'v': 0.8261217948717948,\n            'f': \"0.8261217948717948\",\n        },\n{\n            'v': 0.24542682926829268,\n            'f': \"0.24542682926829268\",\n        },\n{\n            'v': 0.0012898686679174483,\n            'f': \"0.0012898686679174483\",\n        }],\n [\"Racing\",\n{\n            'v': 2.9603851444291673,\n            'f': \"2.9603851444291673\",\n        },\n{\n            'v': 17797.06238946748,\n            'f': \"17797.06238946748\",\n        },\n{\n            'v': 889690.3336550526,\n            'f': \"889690.3336550526\",\n        },\n{\n            'v': 1649656.1753522486,\n            'f': \"1649656.1753522486\",\n        },\n{\n            'v': 0.9862960818374831,\n            'f': \"0.9862960818374831\",\n        },\n{\n            'v': 0.03449237598919134,\n            'f': \"0.03449237598919134\",\n        },\n{\n            'v': 0.8862188766647365,\n            'f': \"0.8862188766647365\",\n        },\n{\n            'v': 0.29202856591391624,\n            'f': \"0.29202856591391624\",\n        },\n{\n            'v': 0.0015441034549314803,\n            'f': \"0.0015441034549314803\",\n        }],\n [\"Role Playing\",\n{\n            'v': 3.384498291394844,\n            'f': \"3.384498291394844\",\n        },\n{\n            'v': 14559.170446308377,\n            'f': \"14559.170446308377\",\n        },\n{\n            'v': 476122.6607392607,\n            'f': \"476122.6607392607\",\n        },\n{\n            'v': 861684.9576440103,\n            'f': \"861684.9576440103\",\n        },\n{\n            'v': 0.9312338050627865,\n            'f': \"0.9312338050627865\",\n        },\n{\n            'v': 0.3118415199322259,\n            'f': \"0.3118415199322259\",\n        },\n{\n            'v': 0.6628463225034882,\n            'f': \"0.6628463225034882\",\n        },\n{\n            'v': 0.4670121586605541,\n            'f': \"0.4670121586605541\",\n        },\n{\n            'v': 0.007873231014550529,\n            'f': \"0.007873231014550529\",\n        }],\n [\"Shopping\",\n{\n            'v': 1.8370005217181617,\n            'f': \"1.8370005217181617\",\n        },\n{\n            'v': 2814.9676802268805,\n            'f': \"2814.9676802268805\",\n        },\n{\n            'v': 94464.05983814599,\n            'f': \"94464.05983814599\",\n        },\n{\n            'v': 176574.4851307537,\n            'f': \"176574.4851307537\",\n        },\n{\n            'v': 0.9987243542043159,\n            'f': \"0.9987243542043159\",\n        },\n{\n            'v': 0.008315236991070486,\n            'f': \"0.008315236991070486\",\n        },\n{\n            'v': 0.1437891995322632,\n            'f': \"0.1437891995322632\",\n        },\n{\n            'v': 0.008544169235675561,\n            'f': \"0.008544169235675561\",\n        },\n{\n            'v': 0.0003587753800361433,\n            'f': \"0.0003587753800361433\",\n        }],\n [\"Simulation\",\n{\n            'v': 3.2108871677521704,\n            'f': \"3.2108871677521704\",\n        },\n{\n            'v': 10155.266854427038,\n            'f': \"10155.266854427038\",\n        },\n{\n            'v': 502321.26869199035,\n            'f': \"502321.26869199035\",\n        },\n{\n            'v': 857188.5219482862,\n            'f': \"857188.5219482862\",\n        },\n{\n            'v': 0.9718237264839791,\n            'f': \"0.9718237264839791\",\n        },\n{\n            'v': 0.10997959702774535,\n            'f': \"0.10997959702774535\",\n        },\n{\n            'v': 0.8555106949574779,\n            'f': \"0.8555106949574779\",\n        },\n{\n            'v': 0.3120436388626407,\n            'f': \"0.3120436388626407\",\n        },\n{\n            'v': 0.0024482432780688944,\n            'f': \"0.0024482432780688944\",\n        }],\n [\"Social\",\n{\n            'v': 2.39886704204884,\n            'f': \"2.39886704204884\",\n        },\n{\n            'v': 10679.610049041867,\n            'f': \"10679.610049041867\",\n        },\n{\n            'v': 383769.1787614576,\n            'f': \"383769.1787614576\",\n        },\n{\n            'v': 720187.803326329,\n            'f': \"720187.803326329\",\n        },\n{\n            'v': 0.9948808512540797,\n            'f': \"0.9948808512540797\",\n        },\n{\n            'v': 0.03994795493360758,\n            'f': \"0.03994795493360758\",\n        },\n{\n            'v': 0.4071399830106854,\n            'f': \"0.4071399830106854\",\n        },\n{\n            'v': 0.07853087137300488,\n            'f': \"0.07853087137300488\",\n        },\n{\n            'v': 0.00022354361335896633,\n            'f': \"0.00022354361335896633\",\n        }],\n [\"Sports\",\n{\n            'v': 2.3155445039530598,\n            'f': \"2.3155445039530598\",\n        },\n{\n            'v': 4623.536045226558,\n            'f': \"4623.536045226558\",\n        },\n{\n            'v': 167529.38147391478,\n            'f': \"167529.38147391478\",\n        },\n{\n            'v': 298585.21439251944,\n            'f': \"298585.21439251944\",\n        },\n{\n            'v': 0.971442410968136,\n            'f': \"0.971442410968136\",\n        },\n{\n            'v': 0.22647534993576232,\n            'f': \"0.22647534993576232\",\n        },\n{\n            'v': 0.4891856032685382,\n            'f': \"0.4891856032685382\",\n        },\n{\n            'v': 0.13301602678853483,\n            'f': \"0.13301602678853483\",\n        },\n{\n            'v': 0.0006949855737843017,\n            'f': \"0.0006949855737843017\",\n        }],\n [\"Strategy\",\n{\n            'v': 2.8789000849823956,\n            'f': \"2.8789000849823956\",\n        },\n{\n            'v': 28328.30302294525,\n            'f': \"28328.30302294525\",\n        },\n{\n            'v': 487928.40725522424,\n            'f': \"487928.40725522424\",\n        },\n{\n            'v': 902106.1857846586,\n            'f': \"902106.1857846586\",\n        },\n{\n            'v': 0.9333802486511846,\n            'f': \"0.9333802486511846\",\n        },\n{\n            'v': 0.22537506005160737,\n            'f': \"0.22537506005160737\",\n        },\n{\n            'v': 0.6294862772695285,\n            'f': \"0.6294862772695285\",\n        },\n{\n            'v': 0.3919774806474314,\n            'f': \"0.3919774806474314\",\n        },\n{\n            'v': 0.0049261083743842365,\n            'f': \"0.0049261083743842365\",\n        }],\n [\"Tools\",\n{\n            'v': 2.3460795086354906,\n            'f': \"2.3460795086354906\",\n        },\n{\n            'v': 3330.094574986617,\n            'f': \"3330.094574986617\",\n        },\n{\n            'v': 496166.06923637877,\n            'f': \"496166.06923637877\",\n        },\n{\n            'v': 832357.561366225,\n            'f': \"832357.561366225\",\n        },\n{\n            'v': 0.9716573603355835,\n            'f': \"0.9716573603355835\",\n        },\n{\n            'v': 0.14670374749285162,\n            'f': \"0.14670374749285162\",\n        },\n{\n            'v': 0.4596077450898686,\n            'f': \"0.4596077450898686\",\n        },\n{\n            'v': 0.07886073839486624,\n            'f': \"0.07886073839486624\",\n        },\n{\n            'v': 6.945023196377476e-06,\n            'f': \"6.945023196377476e-06\",\n        }],\n [\"Travel & Local\",\n{\n            'v': 1.9211963940180143,\n            'f': \"1.9211963940180143\",\n        },\n{\n            'v': 1100.2354688226558,\n            'f': \"1100.2354688226558\",\n        },\n{\n            'v': 144548.33095545945,\n            'f': \"144548.33095545945\",\n        },\n{\n            'v': 275561.44887647126,\n            'f': \"275561.44887647126\",\n        },\n{\n            'v': 0.9789561288788491,\n            'f': \"0.9789561288788491\",\n        },\n{\n            'v': 0.07377681947746745,\n            'f': \"0.07377681947746745\",\n        },\n{\n            'v': 0.25359648079895375,\n            'f': \"0.25359648079895375\",\n        },\n{\n            'v': 0.06397871834502437,\n            'f': \"0.06397871834502437\",\n        },\n{\n            'v': 0.00034181429080965404,\n            'f': \"0.00034181429080965404\",\n        }],\n [\"Trivia\",\n{\n            'v': 2.526178458379678,\n            'f': \"2.526178458379678\",\n        },\n{\n            'v': 3199.857045085123,\n            'f': \"3199.857045085123\",\n        },\n{\n            'v': 100810.83457690351,\n            'f': \"100810.83457690351\",\n        },\n{\n            'v': 187174.13370072065,\n            'f': \"187174.13370072065\",\n        },\n{\n            'v': 0.9904196693514201,\n            'f': \"0.9904196693514201\",\n        },\n{\n            'v': 0.03187165621025862,\n            'f': \"0.03187165621025862\",\n        },\n{\n            'v': 0.8493429419245443,\n            'f': \"0.8493429419245443\",\n        },\n{\n            'v': 0.20771513353115728,\n            'f': \"0.20771513353115728\",\n        },\n{\n            'v': 8.47816871555744e-05,\n            'f': \"8.47816871555744e-05\",\n        }],\n [\"Video Players & Editors\",\n{\n            'v': 2.9038420107719807,\n            'f': \"2.9038420107719807\",\n        },\n{\n            'v': 19028.56014362657,\n            'f': \"19028.56014362657\",\n        },\n{\n            'v': 1326518.3167320727,\n            'f': \"1326518.3167320727\",\n        },\n{\n            'v': 2243267.98487335,\n            'f': \"2243267.98487335\",\n        },\n{\n            'v': 0.9755262219051016,\n            'f': \"0.9755262219051016\",\n        },\n{\n            'v': 0.1225854803424904,\n            'f': \"0.1225854803424904\",\n        },\n{\n            'v': 0.671352122725651,\n            'f': \"0.671352122725651\",\n        },\n{\n            'v': 0.08276846236175527,\n            'f': \"0.08276846236175527\",\n        },\n{\n            'v': 0.0006421691045308598,\n            'f': \"0.0006421691045308598\",\n        }],\n [\"Weather\",\n{\n            'v': 3.1202945301542786,\n            'f': \"3.1202945301542786\",\n        },\n{\n            'v': 5252.5450210378685,\n            'f': \"5252.5450210378685\",\n        },\n{\n            'v': 382818.2531051615,\n            'f': \"382818.2531051615\",\n        },\n{\n            'v': 638320.8955285675,\n            'f': \"638320.8955285675\",\n        },\n{\n            'v': 0.9672922991995584,\n            'f': \"0.9672922991995584\",\n        },\n{\n            'v': 0.14655704637041148,\n            'f': \"0.14655704637041148\",\n        },\n{\n            'v': 0.6217223295611372,\n            'f': \"0.6217223295611372\",\n        },\n{\n            'v': 0.24192658018216948,\n            'f': \"0.24192658018216948\",\n        },\n{\n            'v': 0.000690035881865857,\n            'f': \"0.000690035881865857\",\n        }],\n [\"Word\",\n{\n            'v': 2.902076246334314,\n            'f': \"2.902076246334314\",\n        },\n{\n            'v': 6467.382639296187,\n            'f': \"6467.382639296187\",\n        },\n{\n            'v': 235208.52637069664,\n            'f': \"235208.52637069664\",\n        },\n{\n            'v': 401386.06060254923,\n            'f': \"401386.06060254923\",\n        },\n{\n            'v': 0.9784472769409038,\n            'f': \"0.9784472769409038\",\n        },\n{\n            'v': 0.09973395202781009,\n            'f': \"0.09973395202781009\",\n        },\n{\n            'v': 0.8659327925840092,\n            'f': \"0.8659327925840092\",\n        },\n{\n            'v': 0.3650057937427578,\n            'f': \"0.3650057937427578\",\n        },\n{\n            'v': 0.0013904982618771727,\n            'f': \"0.0013904982618771727\",\n        }]],\n        columns: [[\"string\", \"Category\"], [\"number\", \"Rating\"], [\"number\", \"Rating Count\"], [\"number\", \"Minimum Installs\"], [\"number\", \"Maximum Installs\"], [\"number\", \"Free\"], [\"number\", \"Price\"], [\"number\", \"Ad Supported\"], [\"number\", \"In App Purchases\"], [\"number\", \"Editors Choice\"]],\n        columnOptions: [{\"width\": \"1px\", \"className\": \"index_column\"}],\n        rowsPerPage: 25,\n        helpUrl: \"https://colab.research.google.com/notebooks/data_table.ipynb\",\n        suppressOutputScrolling: true,\n        minimumWidth: undefined,\n      });\n    ",
            "text/html": [
              "\n",
              "  <div id=\"df-5a68f4da-3ed7-452f-a809-a33b739a7ff9\">\n",
              "    <div class=\"colab-df-container\">\n",
              "      <div>\n",
              "<style scoped>\n",
              "    .dataframe tbody tr th:only-of-type {\n",
              "        vertical-align: middle;\n",
              "    }\n",
              "\n",
              "    .dataframe tbody tr th {\n",
              "        vertical-align: top;\n",
              "    }\n",
              "\n",
              "    .dataframe thead th {\n",
              "        text-align: right;\n",
              "    }\n",
              "</style>\n",
              "<table border=\"1\" class=\"dataframe\">\n",
              "  <thead>\n",
              "    <tr style=\"text-align: right;\">\n",
              "      <th></th>\n",
              "      <th>Rating</th>\n",
              "      <th>Rating Count</th>\n",
              "      <th>Minimum Installs</th>\n",
              "      <th>Maximum Installs</th>\n",
              "      <th>Free</th>\n",
              "      <th>Price</th>\n",
              "      <th>Ad Supported</th>\n",
              "      <th>In App Purchases</th>\n",
              "      <th>Editors Choice</th>\n",
              "    </tr>\n",
              "    <tr>\n",
              "      <th>Category</th>\n",
              "      <th></th>\n",
              "      <th></th>\n",
              "      <th></th>\n",
              "      <th></th>\n",
              "      <th></th>\n",
              "      <th></th>\n",
              "      <th></th>\n",
              "      <th></th>\n",
              "      <th></th>\n",
              "    </tr>\n",
              "  </thead>\n",
              "  <tbody>\n",
              "    <tr>\n",
              "      <th>Action</th>\n",
              "      <td>2.705979</td>\n",
              "      <td>20805.240094</td>\n",
              "      <td>6.316844e+05</td>\n",
              "      <td>1.115665e+06</td>\n",
              "      <td>0.978334</td>\n",
              "      <td>0.066425</td>\n",
              "      <td>0.810524</td>\n",
              "      <td>0.274832</td>\n",
              "      <td>0.002758</td>\n",
              "    </tr>\n",
              "    <tr>\n",
              "      <th>Adventure</th>\n",
              "      <td>2.814991</td>\n",
              "      <td>5724.398561</td>\n",
              "      <td>2.323428e+05</td>\n",
              "      <td>4.231656e+05</td>\n",
              "      <td>0.957505</td>\n",
              "      <td>0.179679</td>\n",
              "      <td>0.775546</td>\n",
              "      <td>0.203853</td>\n",
              "      <td>0.001595</td>\n",
              "    </tr>\n",
              "    <tr>\n",
              "      <th>Arcade</th>\n",
              "      <td>2.450481</td>\n",
              "      <td>4649.964464</td>\n",
              "      <td>2.695966e+05</td>\n",
              "      <td>4.774297e+05</td>\n",
              "      <td>0.985760</td>\n",
              "      <td>0.096180</td>\n",
              "      <td>0.786492</td>\n",
              "      <td>0.193282</td>\n",
              "      <td>0.000335</td>\n",
              "    </tr>\n",
              "    <tr>\n",
              "      <th>Art &amp; Design</th>\n",
              "      <td>1.952354</td>\n",
              "      <td>867.182960</td>\n",
              "      <td>6.022544e+04</td>\n",
              "      <td>9.797176e+04</td>\n",
              "      <td>0.990614</td>\n",
              "      <td>0.088540</td>\n",
              "      <td>0.712929</td>\n",
              "      <td>0.045472</td>\n",
              "      <td>0.000324</td>\n",
              "    </tr>\n",
              "    <tr>\n",
              "      <th>Auto &amp; Vehicles</th>\n",
              "      <td>2.049613</td>\n",
              "      <td>706.019163</td>\n",
              "      <td>8.724946e+04</td>\n",
              "      <td>1.671894e+05</td>\n",
              "      <td>0.984464</td>\n",
              "      <td>0.116733</td>\n",
              "      <td>0.255197</td>\n",
              "      <td>0.049125</td>\n",
              "      <td>0.000055</td>\n",
              "    </tr>\n",
              "    <tr>\n",
              "      <th>Beauty</th>\n",
              "      <td>1.434105</td>\n",
              "      <td>383.310710</td>\n",
              "      <td>3.434665e+04</td>\n",
              "      <td>6.046612e+04</td>\n",
              "      <td>0.998811</td>\n",
              "      <td>0.005127</td>\n",
              "      <td>0.506541</td>\n",
              "      <td>0.019538</td>\n",
              "      <td>0.000170</td>\n",
              "    </tr>\n",
              "    <tr>\n",
              "      <th>Board</th>\n",
              "      <td>2.782275</td>\n",
              "      <td>5807.571483</td>\n",
              "      <td>3.108072e+05</td>\n",
              "      <td>4.988241e+05</td>\n",
              "      <td>0.965527</td>\n",
              "      <td>0.169808</td>\n",
              "      <td>0.706460</td>\n",
              "      <td>0.235172</td>\n",
              "      <td>0.000283</td>\n",
              "    </tr>\n",
              "    <tr>\n",
              "      <th>Books &amp; Reference</th>\n",
              "      <td>2.467159</td>\n",
              "      <td>662.764020</td>\n",
              "      <td>4.129430e+04</td>\n",
              "      <td>8.831964e+04</td>\n",
              "      <td>0.969185</td>\n",
              "      <td>0.193225</td>\n",
              "      <td>0.759903</td>\n",
              "      <td>0.073042</td>\n",
              "      <td>0.000069</td>\n",
              "    </tr>\n",
              "    <tr>\n",
              "      <th>Business</th>\n",
              "      <td>1.439082</td>\n",
              "      <td>438.409684</td>\n",
              "      <td>3.642369e+04</td>\n",
              "      <td>5.966283e+04</td>\n",
              "      <td>0.995319</td>\n",
              "      <td>0.057301</td>\n",
              "      <td>0.101933</td>\n",
              "      <td>0.021040</td>\n",
              "      <td>0.000070</td>\n",
              "    </tr>\n",
              "    <tr>\n",
              "      <th>Card</th>\n",
              "      <td>3.085160</td>\n",
              "      <td>6321.819662</td>\n",
              "      <td>2.433132e+05</td>\n",
              "      <td>4.084729e+05</td>\n",
              "      <td>0.964910</td>\n",
              "      <td>0.130244</td>\n",
              "      <td>0.726861</td>\n",
              "      <td>0.332559</td>\n",
              "      <td>0.001956</td>\n",
              "    </tr>\n",
              "    <tr>\n",
              "      <th>Casino</th>\n",
              "      <td>3.279682</td>\n",
              "      <td>9692.946375</td>\n",
              "      <td>2.461808e+05</td>\n",
              "      <td>4.379218e+05</td>\n",
              "      <td>0.985028</td>\n",
              "      <td>0.071208</td>\n",
              "      <td>0.744681</td>\n",
              "      <td>0.497636</td>\n",
              "      <td>0.000000</td>\n",
              "    </tr>\n",
              "    <tr>\n",
              "      <th>Casual</th>\n",
              "      <td>2.425160</td>\n",
              "      <td>7296.491869</td>\n",
              "      <td>3.313797e+05</td>\n",
              "      <td>6.007374e+05</td>\n",
              "      <td>0.986126</td>\n",
              "      <td>0.048357</td>\n",
              "      <td>0.793045</td>\n",
              "      <td>0.194458</td>\n",
              "      <td>0.000866</td>\n",
              "    </tr>\n",
              "    <tr>\n",
              "      <th>Comics</th>\n",
              "      <td>2.864906</td>\n",
              "      <td>2443.184686</td>\n",
              "      <td>1.389246e+05</td>\n",
              "      <td>2.474626e+05</td>\n",
              "      <td>0.980433</td>\n",
              "      <td>0.053765</td>\n",
              "      <td>0.760657</td>\n",
              "      <td>0.167016</td>\n",
              "      <td>0.001048</td>\n",
              "    </tr>\n",
              "    <tr>\n",
              "      <th>Communication</th>\n",
              "      <td>2.122591</td>\n",
              "      <td>9886.983216</td>\n",
              "      <td>8.972241e+05</td>\n",
              "      <td>1.501161e+06</td>\n",
              "      <td>0.990284</td>\n",
              "      <td>0.043246</td>\n",
              "      <td>0.313887</td>\n",
              "      <td>0.042332</td>\n",
              "      <td>0.000145</td>\n",
              "    </tr>\n",
              "    <tr>\n",
              "      <th>Dating</th>\n",
              "      <td>2.452001</td>\n",
              "      <td>2149.104994</td>\n",
              "      <td>9.860022e+04</td>\n",
              "      <td>1.991046e+05</td>\n",
              "      <td>0.996168</td>\n",
              "      <td>0.084880</td>\n",
              "      <td>0.602544</td>\n",
              "      <td>0.291845</td>\n",
              "      <td>0.000307</td>\n",
              "    </tr>\n",
              "    <tr>\n",
              "      <th>Education</th>\n",
              "      <td>2.246840</td>\n",
              "      <td>437.106541</td>\n",
              "      <td>2.482091e+04</td>\n",
              "      <td>4.485557e+04</td>\n",
              "      <td>0.972836</td>\n",
              "      <td>0.163241</td>\n",
              "      <td>0.420013</td>\n",
              "      <td>0.065503</td>\n",
              "      <td>0.000166</td>\n",
              "    </tr>\n",
              "    <tr>\n",
              "      <th>Educational</th>\n",
              "      <td>2.437742</td>\n",
              "      <td>1396.264780</td>\n",
              "      <td>2.220408e+05</td>\n",
              "      <td>3.884367e+05</td>\n",
              "      <td>0.948235</td>\n",
              "      <td>0.171832</td>\n",
              "      <td>0.525249</td>\n",
              "      <td>0.183265</td>\n",
              "      <td>0.000047</td>\n",
              "    </tr>\n",
              "    <tr>\n",
              "      <th>Entertainment</th>\n",
              "      <td>2.435374</td>\n",
              "      <td>1635.378324</td>\n",
              "      <td>1.237281e+05</td>\n",
              "      <td>2.353619e+05</td>\n",
              "      <td>0.989991</td>\n",
              "      <td>0.050845</td>\n",
              "      <td>0.711721</td>\n",
              "      <td>0.057190</td>\n",
              "      <td>0.000123</td>\n",
              "    </tr>\n",
              "    <tr>\n",
              "      <th>Events</th>\n",
              "      <td>1.270809</td>\n",
              "      <td>71.274162</td>\n",
              "      <td>5.686184e+03</td>\n",
              "      <td>1.094093e+04</td>\n",
              "      <td>0.998832</td>\n",
              "      <td>0.003456</td>\n",
              "      <td>0.201620</td>\n",
              "      <td>0.012226</td>\n",
              "      <td>0.000078</td>\n",
              "    </tr>\n",
              "    <tr>\n",
              "      <th>Finance</th>\n",
              "      <td>2.403102</td>\n",
              "      <td>2959.699382</td>\n",
              "      <td>9.407445e+04</td>\n",
              "      <td>1.739140e+05</td>\n",
              "      <td>0.991431</td>\n",
              "      <td>0.051946</td>\n",
              "      <td>0.245440</td>\n",
              "      <td>0.038127</td>\n",
              "      <td>0.000260</td>\n",
              "    </tr>\n",
              "    <tr>\n",
              "      <th>Food &amp; Drink</th>\n",
              "      <td>1.294563</td>\n",
              "      <td>677.900182</td>\n",
              "      <td>2.196104e+04</td>\n",
              "      <td>3.949951e+04</td>\n",
              "      <td>0.997227</td>\n",
              "      <td>0.020154</td>\n",
              "      <td>0.222706</td>\n",
              "      <td>0.028569</td>\n",
              "      <td>0.000325</td>\n",
              "    </tr>\n",
              "    <tr>\n",
              "      <th>Health &amp; Fitness</th>\n",
              "      <td>1.623777</td>\n",
              "      <td>958.254522</td>\n",
              "      <td>5.492344e+04</td>\n",
              "      <td>9.661593e+04</td>\n",
              "      <td>0.983056</td>\n",
              "      <td>0.098903</td>\n",
              "      <td>0.264196</td>\n",
              "      <td>0.080326</td>\n",
              "      <td>0.000491</td>\n",
              "    </tr>\n",
              "    <tr>\n",
              "      <th>House &amp; Home</th>\n",
              "      <td>1.485381</td>\n",
              "      <td>488.372116</td>\n",
              "      <td>3.228019e+04</td>\n",
              "      <td>6.181124e+04</td>\n",
              "      <td>0.995476</td>\n",
              "      <td>0.018955</td>\n",
              "      <td>0.336767</td>\n",
              "      <td>0.026446</td>\n",
              "      <td>0.000487</td>\n",
              "    </tr>\n",
              "    <tr>\n",
              "      <th>Libraries &amp; Demo</th>\n",
              "      <td>2.087115</td>\n",
              "      <td>690.266575</td>\n",
              "      <td>5.562104e+04</td>\n",
              "      <td>1.145199e+05</td>\n",
              "      <td>0.986149</td>\n",
              "      <td>0.041578</td>\n",
              "      <td>0.305117</td>\n",
              "      <td>0.051366</td>\n",
              "      <td>0.000000</td>\n",
              "    </tr>\n",
              "    <tr>\n",
              "      <th>Lifestyle</th>\n",
              "      <td>1.930376</td>\n",
              "      <td>799.114763</td>\n",
              "      <td>5.068768e+04</td>\n",
              "      <td>8.698819e+04</td>\n",
              "      <td>0.988642</td>\n",
              "      <td>0.075942</td>\n",
              "      <td>0.380213</td>\n",
              "      <td>0.050435</td>\n",
              "      <td>0.000127</td>\n",
              "    </tr>\n",
              "    <tr>\n",
              "      <th>Maps &amp; Navigation</th>\n",
              "      <td>2.224805</td>\n",
              "      <td>2415.741214</td>\n",
              "      <td>1.004058e+05</td>\n",
              "      <td>1.793284e+05</td>\n",
              "      <td>0.975937</td>\n",
              "      <td>0.148622</td>\n",
              "      <td>0.282576</td>\n",
              "      <td>0.053963</td>\n",
              "      <td>0.000299</td>\n",
              "    </tr>\n",
              "    <tr>\n",
              "      <th>Medical</th>\n",
              "      <td>1.848003</td>\n",
              "      <td>392.961786</td>\n",
              "      <td>2.049338e+04</td>\n",
              "      <td>3.422049e+04</td>\n",
              "      <td>0.957399</td>\n",
              "      <td>0.711388</td>\n",
              "      <td>0.175019</td>\n",
              "      <td>0.048869</td>\n",
              "      <td>0.000031</td>\n",
              "    </tr>\n",
              "    <tr>\n",
              "      <th>Music</th>\n",
              "      <td>2.662008</td>\n",
              "      <td>5988.078446</td>\n",
              "      <td>3.881459e+05</td>\n",
              "      <td>7.762119e+05</td>\n",
              "      <td>0.973822</td>\n",
              "      <td>0.063163</td>\n",
              "      <td>0.829367</td>\n",
              "      <td>0.152546</td>\n",
              "      <td>0.002618</td>\n",
              "    </tr>\n",
              "    <tr>\n",
              "      <th>Music &amp; Audio</th>\n",
              "      <td>2.226841</td>\n",
              "      <td>1266.331505</td>\n",
              "      <td>9.192292e+04</td>\n",
              "      <td>1.486187e+05</td>\n",
              "      <td>0.990155</td>\n",
              "      <td>0.042298</td>\n",
              "      <td>0.805856</td>\n",
              "      <td>0.028998</td>\n",
              "      <td>0.000077</td>\n",
              "    </tr>\n",
              "    <tr>\n",
              "      <th>News &amp; Magazines</th>\n",
              "      <td>2.483766</td>\n",
              "      <td>759.582754</td>\n",
              "      <td>1.062653e+05</td>\n",
              "      <td>2.061493e+05</td>\n",
              "      <td>0.997430</td>\n",
              "      <td>0.006736</td>\n",
              "      <td>0.614829</td>\n",
              "      <td>0.120821</td>\n",
              "      <td>0.000397</td>\n",
              "    </tr>\n",
              "    <tr>\n",
              "      <th>Parenting</th>\n",
              "      <td>2.423273</td>\n",
              "      <td>1743.410999</td>\n",
              "      <td>6.407716e+04</td>\n",
              "      <td>1.275624e+05</td>\n",
              "      <td>0.974278</td>\n",
              "      <td>0.070191</td>\n",
              "      <td>0.467717</td>\n",
              "      <td>0.178215</td>\n",
              "      <td>0.000787</td>\n",
              "    </tr>\n",
              "    <tr>\n",
              "      <th>Personalization</th>\n",
              "      <td>2.758754</td>\n",
              "      <td>1386.884409</td>\n",
              "      <td>1.037225e+05</td>\n",
              "      <td>1.959128e+05</td>\n",
              "      <td>0.935344</td>\n",
              "      <td>0.109153</td>\n",
              "      <td>0.820356</td>\n",
              "      <td>0.047069</td>\n",
              "      <td>0.000000</td>\n",
              "    </tr>\n",
              "    <tr>\n",
              "      <th>Photography</th>\n",
              "      <td>2.519765</td>\n",
              "      <td>6020.614198</td>\n",
              "      <td>5.343992e+05</td>\n",
              "      <td>8.885846e+05</td>\n",
              "      <td>0.984136</td>\n",
              "      <td>0.063174</td>\n",
              "      <td>0.826339</td>\n",
              "      <td>0.066325</td>\n",
              "      <td>0.000253</td>\n",
              "    </tr>\n",
              "    <tr>\n",
              "      <th>Productivity</th>\n",
              "      <td>1.937928</td>\n",
              "      <td>1920.808637</td>\n",
              "      <td>3.552668e+05</td>\n",
              "      <td>5.692531e+05</td>\n",
              "      <td>0.978268</td>\n",
              "      <td>0.133151</td>\n",
              "      <td>0.254686</td>\n",
              "      <td>0.066300</td>\n",
              "      <td>0.000188</td>\n",
              "    </tr>\n",
              "    <tr>\n",
              "      <th>Puzzle</th>\n",
              "      <td>2.688279</td>\n",
              "      <td>4197.261075</td>\n",
              "      <td>2.110326e+05</td>\n",
              "      <td>3.745266e+05</td>\n",
              "      <td>0.975512</td>\n",
              "      <td>0.086113</td>\n",
              "      <td>0.826122</td>\n",
              "      <td>0.245427</td>\n",
              "      <td>0.001290</td>\n",
              "    </tr>\n",
              "    <tr>\n",
              "      <th>Racing</th>\n",
              "      <td>2.960385</td>\n",
              "      <td>17797.062389</td>\n",
              "      <td>8.896903e+05</td>\n",
              "      <td>1.649656e+06</td>\n",
              "      <td>0.986296</td>\n",
              "      <td>0.034492</td>\n",
              "      <td>0.886219</td>\n",
              "      <td>0.292029</td>\n",
              "      <td>0.001544</td>\n",
              "    </tr>\n",
              "    <tr>\n",
              "      <th>Role Playing</th>\n",
              "      <td>3.384498</td>\n",
              "      <td>14559.170446</td>\n",
              "      <td>4.761227e+05</td>\n",
              "      <td>8.616850e+05</td>\n",
              "      <td>0.931234</td>\n",
              "      <td>0.311842</td>\n",
              "      <td>0.662846</td>\n",
              "      <td>0.467012</td>\n",
              "      <td>0.007873</td>\n",
              "    </tr>\n",
              "    <tr>\n",
              "      <th>Shopping</th>\n",
              "      <td>1.837001</td>\n",
              "      <td>2814.967680</td>\n",
              "      <td>9.446406e+04</td>\n",
              "      <td>1.765745e+05</td>\n",
              "      <td>0.998724</td>\n",
              "      <td>0.008315</td>\n",
              "      <td>0.143789</td>\n",
              "      <td>0.008544</td>\n",
              "      <td>0.000359</td>\n",
              "    </tr>\n",
              "    <tr>\n",
              "      <th>Simulation</th>\n",
              "      <td>3.210887</td>\n",
              "      <td>10155.266854</td>\n",
              "      <td>5.023213e+05</td>\n",
              "      <td>8.571885e+05</td>\n",
              "      <td>0.971824</td>\n",
              "      <td>0.109980</td>\n",
              "      <td>0.855511</td>\n",
              "      <td>0.312044</td>\n",
              "      <td>0.002448</td>\n",
              "    </tr>\n",
              "    <tr>\n",
              "      <th>Social</th>\n",
              "      <td>2.398867</td>\n",
              "      <td>10679.610049</td>\n",
              "      <td>3.837692e+05</td>\n",
              "      <td>7.201878e+05</td>\n",
              "      <td>0.994881</td>\n",
              "      <td>0.039948</td>\n",
              "      <td>0.407140</td>\n",
              "      <td>0.078531</td>\n",
              "      <td>0.000224</td>\n",
              "    </tr>\n",
              "    <tr>\n",
              "      <th>Sports</th>\n",
              "      <td>2.315545</td>\n",
              "      <td>4623.536045</td>\n",
              "      <td>1.675294e+05</td>\n",
              "      <td>2.985852e+05</td>\n",
              "      <td>0.971442</td>\n",
              "      <td>0.226475</td>\n",
              "      <td>0.489186</td>\n",
              "      <td>0.133016</td>\n",
              "      <td>0.000695</td>\n",
              "    </tr>\n",
              "    <tr>\n",
              "      <th>Strategy</th>\n",
              "      <td>2.878900</td>\n",
              "      <td>28328.303023</td>\n",
              "      <td>4.879284e+05</td>\n",
              "      <td>9.021062e+05</td>\n",
              "      <td>0.933380</td>\n",
              "      <td>0.225375</td>\n",
              "      <td>0.629486</td>\n",
              "      <td>0.391977</td>\n",
              "      <td>0.004926</td>\n",
              "    </tr>\n",
              "    <tr>\n",
              "      <th>Tools</th>\n",
              "      <td>2.346080</td>\n",
              "      <td>3330.094575</td>\n",
              "      <td>4.961661e+05</td>\n",
              "      <td>8.323576e+05</td>\n",
              "      <td>0.971657</td>\n",
              "      <td>0.146704</td>\n",
              "      <td>0.459608</td>\n",
              "      <td>0.078861</td>\n",
              "      <td>0.000007</td>\n",
              "    </tr>\n",
              "    <tr>\n",
              "      <th>Travel &amp; Local</th>\n",
              "      <td>1.921196</td>\n",
              "      <td>1100.235469</td>\n",
              "      <td>1.445483e+05</td>\n",
              "      <td>2.755614e+05</td>\n",
              "      <td>0.978956</td>\n",
              "      <td>0.073777</td>\n",
              "      <td>0.253596</td>\n",
              "      <td>0.063979</td>\n",
              "      <td>0.000342</td>\n",
              "    </tr>\n",
              "    <tr>\n",
              "      <th>Trivia</th>\n",
              "      <td>2.526178</td>\n",
              "      <td>3199.857045</td>\n",
              "      <td>1.008108e+05</td>\n",
              "      <td>1.871741e+05</td>\n",
              "      <td>0.990420</td>\n",
              "      <td>0.031872</td>\n",
              "      <td>0.849343</td>\n",
              "      <td>0.207715</td>\n",
              "      <td>0.000085</td>\n",
              "    </tr>\n",
              "    <tr>\n",
              "      <th>Video Players &amp; Editors</th>\n",
              "      <td>2.903842</td>\n",
              "      <td>19028.560144</td>\n",
              "      <td>1.326518e+06</td>\n",
              "      <td>2.243268e+06</td>\n",
              "      <td>0.975526</td>\n",
              "      <td>0.122585</td>\n",
              "      <td>0.671352</td>\n",
              "      <td>0.082768</td>\n",
              "      <td>0.000642</td>\n",
              "    </tr>\n",
              "    <tr>\n",
              "      <th>Weather</th>\n",
              "      <td>3.120295</td>\n",
              "      <td>5252.545021</td>\n",
              "      <td>3.828183e+05</td>\n",
              "      <td>6.383209e+05</td>\n",
              "      <td>0.967292</td>\n",
              "      <td>0.146557</td>\n",
              "      <td>0.621722</td>\n",
              "      <td>0.241927</td>\n",
              "      <td>0.000690</td>\n",
              "    </tr>\n",
              "    <tr>\n",
              "      <th>Word</th>\n",
              "      <td>2.902076</td>\n",
              "      <td>6467.382639</td>\n",
              "      <td>2.352085e+05</td>\n",
              "      <td>4.013861e+05</td>\n",
              "      <td>0.978447</td>\n",
              "      <td>0.099734</td>\n",
              "      <td>0.865933</td>\n",
              "      <td>0.365006</td>\n",
              "      <td>0.001390</td>\n",
              "    </tr>\n",
              "  </tbody>\n",
              "</table>\n",
              "</div>\n",
              "      <button class=\"colab-df-convert\" onclick=\"convertToInteractive('df-5a68f4da-3ed7-452f-a809-a33b739a7ff9')\"\n",
              "              title=\"Convert this dataframe to an interactive table.\"\n",
              "              style=\"display:none;\">\n",
              "        \n",
              "  <svg xmlns=\"http://www.w3.org/2000/svg\" height=\"24px\"viewBox=\"0 0 24 24\"\n",
              "       width=\"24px\">\n",
              "    <path d=\"M0 0h24v24H0V0z\" fill=\"none\"/>\n",
              "    <path d=\"M18.56 5.44l.94 2.06.94-2.06 2.06-.94-2.06-.94-.94-2.06-.94 2.06-2.06.94zm-11 1L8.5 8.5l.94-2.06 2.06-.94-2.06-.94L8.5 2.5l-.94 2.06-2.06.94zm10 10l.94 2.06.94-2.06 2.06-.94-2.06-.94-.94-2.06-.94 2.06-2.06.94z\"/><path d=\"M17.41 7.96l-1.37-1.37c-.4-.4-.92-.59-1.43-.59-.52 0-1.04.2-1.43.59L10.3 9.45l-7.72 7.72c-.78.78-.78 2.05 0 2.83L4 21.41c.39.39.9.59 1.41.59.51 0 1.02-.2 1.41-.59l7.78-7.78 2.81-2.81c.8-.78.8-2.07 0-2.86zM5.41 20L4 18.59l7.72-7.72 1.47 1.35L5.41 20z\"/>\n",
              "  </svg>\n",
              "      </button>\n",
              "      \n",
              "  <style>\n",
              "    .colab-df-container {\n",
              "      display:flex;\n",
              "      flex-wrap:wrap;\n",
              "      gap: 12px;\n",
              "    }\n",
              "\n",
              "    .colab-df-convert {\n",
              "      background-color: #E8F0FE;\n",
              "      border: none;\n",
              "      border-radius: 50%;\n",
              "      cursor: pointer;\n",
              "      display: none;\n",
              "      fill: #1967D2;\n",
              "      height: 32px;\n",
              "      padding: 0 0 0 0;\n",
              "      width: 32px;\n",
              "    }\n",
              "\n",
              "    .colab-df-convert:hover {\n",
              "      background-color: #E2EBFA;\n",
              "      box-shadow: 0px 1px 2px rgba(60, 64, 67, 0.3), 0px 1px 3px 1px rgba(60, 64, 67, 0.15);\n",
              "      fill: #174EA6;\n",
              "    }\n",
              "\n",
              "    [theme=dark] .colab-df-convert {\n",
              "      background-color: #3B4455;\n",
              "      fill: #D2E3FC;\n",
              "    }\n",
              "\n",
              "    [theme=dark] .colab-df-convert:hover {\n",
              "      background-color: #434B5C;\n",
              "      box-shadow: 0px 1px 3px 1px rgba(0, 0, 0, 0.15);\n",
              "      filter: drop-shadow(0px 1px 2px rgba(0, 0, 0, 0.3));\n",
              "      fill: #FFFFFF;\n",
              "    }\n",
              "  </style>\n",
              "\n",
              "      <script>\n",
              "        const buttonEl =\n",
              "          document.querySelector('#df-5a68f4da-3ed7-452f-a809-a33b739a7ff9 button.colab-df-convert');\n",
              "        buttonEl.style.display =\n",
              "          google.colab.kernel.accessAllowed ? 'block' : 'none';\n",
              "\n",
              "        async function convertToInteractive(key) {\n",
              "          const element = document.querySelector('#df-5a68f4da-3ed7-452f-a809-a33b739a7ff9');\n",
              "          const dataTable =\n",
              "            await google.colab.kernel.invokeFunction('convertToInteractive',\n",
              "                                                     [key], {});\n",
              "          if (!dataTable) return;\n",
              "\n",
              "          const docLinkHtml = 'Like what you see? Visit the ' +\n",
              "            '<a target=\"_blank\" href=https://colab.research.google.com/notebooks/data_table.ipynb>data table notebook</a>'\n",
              "            + ' to learn more about interactive tables.';\n",
              "          element.innerHTML = '';\n",
              "          dataTable['output_type'] = 'display_data';\n",
              "          await google.colab.output.renderOutput(dataTable, element);\n",
              "          const docLink = document.createElement('div');\n",
              "          docLink.innerHTML = docLinkHtml;\n",
              "          element.appendChild(docLink);\n",
              "        }\n",
              "      </script>\n",
              "    </div>\n",
              "  </div>\n",
              "  "
            ],
            "text/plain": [
              "                           Rating  Rating Count  Minimum Installs  \\\n",
              "Category                                                            \n",
              "Action                   2.705979  20805.240094      6.316844e+05   \n",
              "Adventure                2.814991   5724.398561      2.323428e+05   \n",
              "Arcade                   2.450481   4649.964464      2.695966e+05   \n",
              "Art & Design             1.952354    867.182960      6.022544e+04   \n",
              "Auto & Vehicles          2.049613    706.019163      8.724946e+04   \n",
              "Beauty                   1.434105    383.310710      3.434665e+04   \n",
              "Board                    2.782275   5807.571483      3.108072e+05   \n",
              "Books & Reference        2.467159    662.764020      4.129430e+04   \n",
              "Business                 1.439082    438.409684      3.642369e+04   \n",
              "Card                     3.085160   6321.819662      2.433132e+05   \n",
              "Casino                   3.279682   9692.946375      2.461808e+05   \n",
              "Casual                   2.425160   7296.491869      3.313797e+05   \n",
              "Comics                   2.864906   2443.184686      1.389246e+05   \n",
              "Communication            2.122591   9886.983216      8.972241e+05   \n",
              "Dating                   2.452001   2149.104994      9.860022e+04   \n",
              "Education                2.246840    437.106541      2.482091e+04   \n",
              "Educational              2.437742   1396.264780      2.220408e+05   \n",
              "Entertainment            2.435374   1635.378324      1.237281e+05   \n",
              "Events                   1.270809     71.274162      5.686184e+03   \n",
              "Finance                  2.403102   2959.699382      9.407445e+04   \n",
              "Food & Drink             1.294563    677.900182      2.196104e+04   \n",
              "Health & Fitness         1.623777    958.254522      5.492344e+04   \n",
              "House & Home             1.485381    488.372116      3.228019e+04   \n",
              "Libraries & Demo         2.087115    690.266575      5.562104e+04   \n",
              "Lifestyle                1.930376    799.114763      5.068768e+04   \n",
              "Maps & Navigation        2.224805   2415.741214      1.004058e+05   \n",
              "Medical                  1.848003    392.961786      2.049338e+04   \n",
              "Music                    2.662008   5988.078446      3.881459e+05   \n",
              "Music & Audio            2.226841   1266.331505      9.192292e+04   \n",
              "News & Magazines         2.483766    759.582754      1.062653e+05   \n",
              "Parenting                2.423273   1743.410999      6.407716e+04   \n",
              "Personalization          2.758754   1386.884409      1.037225e+05   \n",
              "Photography              2.519765   6020.614198      5.343992e+05   \n",
              "Productivity             1.937928   1920.808637      3.552668e+05   \n",
              "Puzzle                   2.688279   4197.261075      2.110326e+05   \n",
              "Racing                   2.960385  17797.062389      8.896903e+05   \n",
              "Role Playing             3.384498  14559.170446      4.761227e+05   \n",
              "Shopping                 1.837001   2814.967680      9.446406e+04   \n",
              "Simulation               3.210887  10155.266854      5.023213e+05   \n",
              "Social                   2.398867  10679.610049      3.837692e+05   \n",
              "Sports                   2.315545   4623.536045      1.675294e+05   \n",
              "Strategy                 2.878900  28328.303023      4.879284e+05   \n",
              "Tools                    2.346080   3330.094575      4.961661e+05   \n",
              "Travel & Local           1.921196   1100.235469      1.445483e+05   \n",
              "Trivia                   2.526178   3199.857045      1.008108e+05   \n",
              "Video Players & Editors  2.903842  19028.560144      1.326518e+06   \n",
              "Weather                  3.120295   5252.545021      3.828183e+05   \n",
              "Word                     2.902076   6467.382639      2.352085e+05   \n",
              "\n",
              "                         Maximum Installs      Free     Price  Ad Supported  \\\n",
              "Category                                                                      \n",
              "Action                       1.115665e+06  0.978334  0.066425      0.810524   \n",
              "Adventure                    4.231656e+05  0.957505  0.179679      0.775546   \n",
              "Arcade                       4.774297e+05  0.985760  0.096180      0.786492   \n",
              "Art & Design                 9.797176e+04  0.990614  0.088540      0.712929   \n",
              "Auto & Vehicles              1.671894e+05  0.984464  0.116733      0.255197   \n",
              "Beauty                       6.046612e+04  0.998811  0.005127      0.506541   \n",
              "Board                        4.988241e+05  0.965527  0.169808      0.706460   \n",
              "Books & Reference            8.831964e+04  0.969185  0.193225      0.759903   \n",
              "Business                     5.966283e+04  0.995319  0.057301      0.101933   \n",
              "Card                         4.084729e+05  0.964910  0.130244      0.726861   \n",
              "Casino                       4.379218e+05  0.985028  0.071208      0.744681   \n",
              "Casual                       6.007374e+05  0.986126  0.048357      0.793045   \n",
              "Comics                       2.474626e+05  0.980433  0.053765      0.760657   \n",
              "Communication                1.501161e+06  0.990284  0.043246      0.313887   \n",
              "Dating                       1.991046e+05  0.996168  0.084880      0.602544   \n",
              "Education                    4.485557e+04  0.972836  0.163241      0.420013   \n",
              "Educational                  3.884367e+05  0.948235  0.171832      0.525249   \n",
              "Entertainment                2.353619e+05  0.989991  0.050845      0.711721   \n",
              "Events                       1.094093e+04  0.998832  0.003456      0.201620   \n",
              "Finance                      1.739140e+05  0.991431  0.051946      0.245440   \n",
              "Food & Drink                 3.949951e+04  0.997227  0.020154      0.222706   \n",
              "Health & Fitness             9.661593e+04  0.983056  0.098903      0.264196   \n",
              "House & Home                 6.181124e+04  0.995476  0.018955      0.336767   \n",
              "Libraries & Demo             1.145199e+05  0.986149  0.041578      0.305117   \n",
              "Lifestyle                    8.698819e+04  0.988642  0.075942      0.380213   \n",
              "Maps & Navigation            1.793284e+05  0.975937  0.148622      0.282576   \n",
              "Medical                      3.422049e+04  0.957399  0.711388      0.175019   \n",
              "Music                        7.762119e+05  0.973822  0.063163      0.829367   \n",
              "Music & Audio                1.486187e+05  0.990155  0.042298      0.805856   \n",
              "News & Magazines             2.061493e+05  0.997430  0.006736      0.614829   \n",
              "Parenting                    1.275624e+05  0.974278  0.070191      0.467717   \n",
              "Personalization              1.959128e+05  0.935344  0.109153      0.820356   \n",
              "Photography                  8.885846e+05  0.984136  0.063174      0.826339   \n",
              "Productivity                 5.692531e+05  0.978268  0.133151      0.254686   \n",
              "Puzzle                       3.745266e+05  0.975512  0.086113      0.826122   \n",
              "Racing                       1.649656e+06  0.986296  0.034492      0.886219   \n",
              "Role Playing                 8.616850e+05  0.931234  0.311842      0.662846   \n",
              "Shopping                     1.765745e+05  0.998724  0.008315      0.143789   \n",
              "Simulation                   8.571885e+05  0.971824  0.109980      0.855511   \n",
              "Social                       7.201878e+05  0.994881  0.039948      0.407140   \n",
              "Sports                       2.985852e+05  0.971442  0.226475      0.489186   \n",
              "Strategy                     9.021062e+05  0.933380  0.225375      0.629486   \n",
              "Tools                        8.323576e+05  0.971657  0.146704      0.459608   \n",
              "Travel & Local               2.755614e+05  0.978956  0.073777      0.253596   \n",
              "Trivia                       1.871741e+05  0.990420  0.031872      0.849343   \n",
              "Video Players & Editors      2.243268e+06  0.975526  0.122585      0.671352   \n",
              "Weather                      6.383209e+05  0.967292  0.146557      0.621722   \n",
              "Word                         4.013861e+05  0.978447  0.099734      0.865933   \n",
              "\n",
              "                         In App Purchases  Editors Choice  \n",
              "Category                                                   \n",
              "Action                           0.274832        0.002758  \n",
              "Adventure                        0.203853        0.001595  \n",
              "Arcade                           0.193282        0.000335  \n",
              "Art & Design                     0.045472        0.000324  \n",
              "Auto & Vehicles                  0.049125        0.000055  \n",
              "Beauty                           0.019538        0.000170  \n",
              "Board                            0.235172        0.000283  \n",
              "Books & Reference                0.073042        0.000069  \n",
              "Business                         0.021040        0.000070  \n",
              "Card                             0.332559        0.001956  \n",
              "Casino                           0.497636        0.000000  \n",
              "Casual                           0.194458        0.000866  \n",
              "Comics                           0.167016        0.001048  \n",
              "Communication                    0.042332        0.000145  \n",
              "Dating                           0.291845        0.000307  \n",
              "Education                        0.065503        0.000166  \n",
              "Educational                      0.183265        0.000047  \n",
              "Entertainment                    0.057190        0.000123  \n",
              "Events                           0.012226        0.000078  \n",
              "Finance                          0.038127        0.000260  \n",
              "Food & Drink                     0.028569        0.000325  \n",
              "Health & Fitness                 0.080326        0.000491  \n",
              "House & Home                     0.026446        0.000487  \n",
              "Libraries & Demo                 0.051366        0.000000  \n",
              "Lifestyle                        0.050435        0.000127  \n",
              "Maps & Navigation                0.053963        0.000299  \n",
              "Medical                          0.048869        0.000031  \n",
              "Music                            0.152546        0.002618  \n",
              "Music & Audio                    0.028998        0.000077  \n",
              "News & Magazines                 0.120821        0.000397  \n",
              "Parenting                        0.178215        0.000787  \n",
              "Personalization                  0.047069        0.000000  \n",
              "Photography                      0.066325        0.000253  \n",
              "Productivity                     0.066300        0.000188  \n",
              "Puzzle                           0.245427        0.001290  \n",
              "Racing                           0.292029        0.001544  \n",
              "Role Playing                     0.467012        0.007873  \n",
              "Shopping                         0.008544        0.000359  \n",
              "Simulation                       0.312044        0.002448  \n",
              "Social                           0.078531        0.000224  \n",
              "Sports                           0.133016        0.000695  \n",
              "Strategy                         0.391977        0.004926  \n",
              "Tools                            0.078861        0.000007  \n",
              "Travel & Local                   0.063979        0.000342  \n",
              "Trivia                           0.207715        0.000085  \n",
              "Video Players & Editors          0.082768        0.000642  \n",
              "Weather                          0.241927        0.000690  \n",
              "Word                             0.365006        0.001390  "
            ]
          },
          "metadata": {},
          "execution_count": 45
        }
      ]
    },
    {
      "cell_type": "code",
      "source": [
        "plt.figure(figsize=(10,6))\n",
        "plt.hist(df['Rating'], bins=25, edgecolor='k')\n",
        "plt.title(\"Histogram of Rating Apps\")\n",
        "plt.yscale('log')\n",
        "plt.axvline(np.median(df['Rating']), linestyle='--', color='r', label='Median', alpha=0.5)\n",
        "plt.axvline(np.mean(df['Rating']), linestyle='--',color='g', label='mean', alpha=0.5)\n",
        "plt.tight_layout()\n",
        "plt.legend()\n",
        "plt.xlabel('Rating of Apps')"
      ],
      "metadata": {
        "colab": {
          "base_uri": "https://localhost:8080/"
        },
        "id": "qfNEZJIZOPXS",
        "outputId": "956620e8-541a-40de-8a47-9e2910198b09"
      },
      "id": "qfNEZJIZOPXS",
      "execution_count": null,
      "outputs": [
        {
          "output_type": "execute_result",
          "data": {
            "text/plain": [
              "Text(0.5, 36.5, 'Rating of Apps')"
            ]
          },
          "metadata": {},
          "execution_count": 46
        },
        {
          "output_type": "display_data",
          "data": {
            "image/png": "[encoded data removed]",
            "text/plain": [
              "<Figure size 720x432 with 1 Axes>"
            ]
          },
          "metadata": {
            "needs_background": "light"
          }
        }
      ]
    },
    {
      "cell_type": "code",
      "source": [
        "plt.figure(figsize=(10,6))\n",
        "plt.hist(df_mean['Rating'])\n",
        "plt.title(\"Histogram of Mean Rating Values per Category of  Apps\")\n",
        "plt.xlabel(\"Rating of Apps\")\n",
        "plt.axvline(np.median(df_mean['Rating']), linestyle='--', color='r', label='Median', alpha=0.5)\n",
        "plt.axvline(np.mean(df_mean['Rating']), linestyle='--',color='g', label='mean', alpha=0.5)\n",
        "plt.tight_layout()\n",
        "plt.show()"
      ],
      "metadata": {
        "colab": {
          "base_uri": "https://localhost:8080/"
        },
        "id": "MckhyTXsOPUe",
        "outputId": "acca4301-f362-47b9-d250-83a8639e7409"
      },
      "id": "MckhyTXsOPUe",
      "execution_count": null,
      "outputs": [
        {
          "output_type": "display_data",
          "data": {
            "image/png": "[encoded data removed]",
            "text/plain": [
              "<Figure size 720x432 with 1 Axes>"
            ]
          },
          "metadata": {
            "needs_background": "light"
          }
        }
      ]
    },
    {
      "cell_type": "code",
      "source": [
        "rating_by_cat = df_mean['Rating'].sort_values(ascending=False)"
      ],
      "metadata": {
        "id": "AiIWHJBqtatp"
      },
      "id": "AiIWHJBqtatp",
      "execution_count": null,
      "outputs": []
    },
    {
      "cell_type": "code",
      "source": [
        "plt.figure(figsize=(10,6))\n",
        "plt.barh(y=rating_by_cat[:15].index, width=rating_by_cat[:15])\n",
        "plt.xlabel(\"Average ratings of category\")\n",
        "plt.tight_layout()\n",
        "plt.show()"
      ],
      "metadata": {
        "colab": {
          "base_uri": "https://localhost:8080/"
        },
        "id": "4kcWCt5atarF",
        "outputId": "41c44c21-43fc-4bdd-88d0-bee6773e0408"
      },
      "id": "4kcWCt5atarF",
      "execution_count": null,
      "outputs": [
        {
          "output_type": "display_data",
          "data": {
            "image/png": "[encoded data removed]",
            "text/plain": [
              "<Figure size 720x432 with 1 Axes>"
            ]
          },
          "metadata": {
            "needs_background": "light"
          }
        }
      ]
    },
    {
      "cell_type": "markdown",
      "source": [
        "### Rating Count"
      ],
      "metadata": {
        "id": "6-x5mP3EEDDE"
      },
      "id": "6-x5mP3EEDDE"
    },
    {
      "cell_type": "code",
      "source": [
        "plt.figure(figsize=(10,6))\n",
        "plt.hist(df[\"Rating Count\"], bins=100, edgecolor='k')\n",
        "# plt.axvline(np.median(df['Rating Count']), linestyle='--', color='r', label='Median', alpha=0.5)\n",
        "# plt.axvline(np.mean(df['Rating Count']), linestyle='--',color='g', label='mean', alpha=0.5)\n",
        "plt.title('Distribution of Rating Count')\n",
        "plt.yscale('log')\n",
        "plt.xlabel('Rating Count')\n",
        "plt.tight_layout()\n",
        "plt.show()"
      ],
      "metadata": {
        "colab": {
          "base_uri": "https://localhost:8080/",
          "height": 441
        },
        "id": "iUipK8R4taob",
        "outputId": "9bac6929-af12-47ad-a0fe-61570c9abb4f"
      },
      "id": "iUipK8R4taob",
      "execution_count": null,
      "outputs": [
        {
          "output_type": "display_data",
          "data": {
            "image/png": "[encoded data removed]",
            "text/plain": [
              "<Figure size 720x432 with 1 Axes>"
            ]
          },
          "metadata": {
            "needs_background": "light"
          }
        }
      ]
    },
    {
      "cell_type": "code",
      "source": [
        "df['Rating Count'].describe()"
      ],
      "metadata": {
        "colab": {
          "base_uri": "https://localhost:8080/"
        },
        "id": "Jyxx9LBVGt5e",
        "outputId": "4e5dff9a-01a3-4858-de08-3ef73aa705a7"
      },
      "id": "Jyxx9LBVGt5e",
      "execution_count": null,
      "outputs": [
        {
          "output_type": "execute_result",
          "data": {
            "text/plain": [
              "count    2.235278e+06\n",
              "mean     2.759912e+03\n",
              "std      1.987596e+05\n",
              "min      0.000000e+00\n",
              "25%      0.000000e+00\n",
              "50%      6.000000e+00\n",
              "75%      4.200000e+01\n",
              "max      1.385576e+08\n",
              "Name: Rating Count, dtype: float64"
            ]
          },
          "metadata": {},
          "execution_count": 51
        }
      ]
    },
    {
      "cell_type": "code",
      "source": [
        "less_rating_count = df[df[\"Rating Count\"] < 60][\"Rating Count\"]\n",
        "len(less_rating_count)* 100/ len(df)"
      ],
      "metadata": {
        "colab": {
          "base_uri": "https://localhost:8080/"
        },
        "id": "miIPVGt4tajK",
        "outputId": "f7749c93-1857-4be9-b03b-7690a277b96e"
      },
      "id": "miIPVGt4tajK",
      "execution_count": null,
      "outputs": [
        {
          "output_type": "execute_result",
          "data": {
            "text/plain": [
              "78.34224646777716"
            ]
          },
          "metadata": {},
          "execution_count": 52
        }
      ]
    },
    {
      "cell_type": "code",
      "source": [
        "more_than_million = df[df[\"Rating Count\"] > 1e6 ]\n",
        "len(more_than_million) * 100 / len(df)"
      ],
      "metadata": {
        "colab": {
          "base_uri": "https://localhost:8080/"
        },
        "id": "wL7YWt_nKyo_",
        "outputId": "0088cfdb-b647-4350-b5c3-1db2b8b01ce2"
      },
      "id": "wL7YWt_nKyo_",
      "execution_count": null,
      "outputs": [
        {
          "output_type": "execute_result",
          "data": {
            "text/plain": [
              "0.0351634114414404"
            ]
          },
          "metadata": {},
          "execution_count": 53
        }
      ]
    },
    {
      "cell_type": "code",
      "source": [
        "plt.figure(figsize=(10,6))\n",
        "plt.hist(less_rating_count, bins=15, edgecolor='k')\n",
        "# plt.axvline(np.median(df['Rating Count']), linestyle='--', color='r', label='Median', alpha=0.5)\n",
        "# plt.axvline(np.mean(df['Rating Count']), linestyle='--',color='g', label='mean', alpha=0.5)\n",
        "plt.title('Distribution of Rating Count')\n",
        "# plt.xscale('log')\n",
        "# plt.yscale('log')\n",
        "plt.xlabel('Rating Count')\n",
        "plt.tight_layout()\n",
        "plt.show()"
      ],
      "metadata": {
        "colab": {
          "base_uri": "https://localhost:8080/",
          "height": 441
        },
        "id": "ig_8tErOtagk",
        "outputId": "7a830891-2cfb-449e-e190-05d1d806caf3"
      },
      "id": "ig_8tErOtagk",
      "execution_count": null,
      "outputs": [
        {
          "output_type": "display_data",
          "data": {
            "image/png": "[encoded data removed]",
            "text/plain": [
              "<Figure size 720x432 with 1 Axes>"
            ]
          },
          "metadata": {
            "needs_background": "light"
          }
        }
      ]
    },
    {
      "cell_type": "code",
      "source": [
        "rating_count_by_cat_mm = more_than_million.groupby(\"Category\")[\"Rating Count\"].agg('count')"
      ],
      "metadata": {
        "id": "-bhLeL2etaeh"
      },
      "id": "-bhLeL2etaeh",
      "execution_count": null,
      "outputs": []
    },
    {
      "cell_type": "code",
      "source": [
        "sort_rating_count_mm = rating_count_by_cat_mm.sort_values(ascending=False)"
      ],
      "metadata": {
        "id": "TRZMEfu8KMPN"
      },
      "id": "TRZMEfu8KMPN",
      "execution_count": null,
      "outputs": []
    },
    {
      "cell_type": "code",
      "source": [
        "plt.figure(figsize=(10,6))\n",
        "plt.barh(y=sort_rating_count_mm[:15].index, width=sort_rating_count_mm[:15])\n",
        "plt.title(\"Top 15 Categories which has more than 1 million Rating Count\")\n",
        "plt.xlabel(\"No. of Apps\")\n",
        "plt.tight_layout()\n",
        "plt.show()"
      ],
      "metadata": {
        "colab": {
          "base_uri": "https://localhost:8080/",
          "height": 441
        },
        "id": "2VnUlW7htabD",
        "outputId": "785d7fb0-1d7f-4280-8183-801006762531"
      },
      "id": "2VnUlW7htabD",
      "execution_count": null,
      "outputs": [
        {
          "output_type": "display_data",
          "data": {
            "image/png": "[encoded data removed]",
            "text/plain": [
              "<Figure size 720x432 with 1 Axes>"
            ]
          },
          "metadata": {
            "needs_background": "light"
          }
        }
      ]
    },
    {
      "cell_type": "code",
      "source": [
        "plt.figure(figsize=(10,6))\n",
        "plt.scatter(y =df[\"Rating\"], x =df[\"Rating Count\"], alpha=0.5)\n",
        "y_labels = [1, 10, 50, 100, 200, 500, 1000, 5000, 10000, 50000, 100000]\n",
        "# plt.xscale('log')\n",
        "# plt.legend()"
      ],
      "metadata": {
        "colab": {
          "base_uri": "https://localhost:8080/",
          "height": 384
        },
        "id": "Lz24KV3rtaYQ",
        "outputId": "a2dddc81-3c5f-4102-f7d2-3ec342b9fce4"
      },
      "id": "Lz24KV3rtaYQ",
      "execution_count": null,
      "outputs": [
        {
          "output_type": "display_data",
          "data": {
            "image/png": "[encoded data removed]",
            "text/plain": [
              "<Figure size 720x432 with 1 Axes>"
            ]
          },
          "metadata": {
            "needs_background": "light"
          }
        }
      ]
    },
    {
      "cell_type": "code",
      "source": [
        "df.head()"
      ],
      "metadata": {
        "id": "TwcR7pDmeeJK",
        "outputId": "9131d947-c177-472d-cf29-688dd885965c",
        "colab": {
          "base_uri": "https://localhost:8080/",
          "height": 413
        }
      },
      "id": "TwcR7pDmeeJK",
      "execution_count": null,
      "outputs": [
        {
          "output_type": "execute_result",
          "data": {
            "application/vnd.google.colaboratory.module+javascript": "\n      import \"https://ssl.gstatic.com/colaboratory/data_table/a6224c040fa35dcf/data_table.js\";\n\n      window.createDataTable({\n        data: [[{\n            'v': 0,\n            'f': \"0\",\n        },\n\"Gakondo\",\n\"Adventure\",\n{\n            'v': 0.0,\n            'f': \"0.0\",\n        },\n{\n            'v': 0,\n            'f': \"0\",\n        },\ntrue,\n{\n            'v': 0.0,\n            'f': \"0.0\",\n        },\n\"USD\",\n\"10M\",\n\"7.1 and up\",\n\"Jean Confident Ir\\u00e9n\\u00e9e NIYIZIBYOSE\",\n\"Feb 26, 2020\",\n\"Feb 26, 2020\",\n\"Everyone\",\nfalse,\nfalse,\nfalse,\n{\n            'v': 12.5,\n            'f': \"12.5\",\n        }],\n [{\n            'v': 1,\n            'f': \"1\",\n        },\n\"Ampere Battery Info\",\n\"Tools\",\n{\n            'v': 4.4,\n            'f': \"4.4\",\n        },\n{\n            'v': 64,\n            'f': \"64\",\n        },\ntrue,\n{\n            'v': 0.0,\n            'f': \"0.0\",\n        },\n\"USD\",\n\"2.9M\",\n\"5.0 and up\",\n\"Webserveis\",\n\"May 21, 2020\",\n\"May 06, 2021\",\n\"Everyone\",\ntrue,\nfalse,\nfalse,\n{\n            'v': 6331.0,\n            'f': \"6331.0\",\n        }],\n [{\n            'v': 2,\n            'f': \"2\",\n        },\n\"Vibook\",\n\"Productivity\",\n{\n            'v': 0.0,\n            'f': \"0.0\",\n        },\n{\n            'v': 0,\n            'f': \"0\",\n        },\ntrue,\n{\n            'v': 0.0,\n            'f': \"0.0\",\n        },\n\"USD\",\n\"3.7M\",\n\"4.0.3 and up\",\n\"Cabin Crew\",\n\"Aug 9, 2019\",\n\"Aug 19, 2019\",\n\"Everyone\",\nfalse,\nfalse,\nfalse,\n{\n            'v': 54.0,\n            'f': \"54.0\",\n        }],\n [{\n            'v': 3,\n            'f': \"3\",\n        },\n\"Smart City Trichy Public Service Vehicles 17UCS548\",\n\"Communication\",\n{\n            'v': 5.0,\n            'f': \"5.0\",\n        },\n{\n            'v': 5,\n            'f': \"5\",\n        },\ntrue,\n{\n            'v': 0.0,\n            'f': \"0.0\",\n        },\n\"USD\",\n\"1.8M\",\n\"4.0.3 and up\",\n\"Climate Smart Tech2\",\n\"Sep 10, 2018\",\n\"Oct 13, 2018\",\n\"Everyone\",\ntrue,\nfalse,\nfalse,\n{\n            'v': 14.5,\n            'f': \"14.5\",\n        }],\n [{\n            'v': 4,\n            'f': \"4\",\n        },\n\"GROW.me\",\n\"Tools\",\n{\n            'v': 0.0,\n            'f': \"0.0\",\n        },\n{\n            'v': 0,\n            'f': \"0\",\n        },\ntrue,\n{\n            'v': 0.0,\n            'f': \"0.0\",\n        },\n\"USD\",\n\"6.2M\",\n\"4.1 and up\",\n\"Rafal Milek-Horodyski\",\n\"Feb 21, 2020\",\n\"Nov 12, 2018\",\n\"Everyone\",\nfalse,\nfalse,\nfalse,\n{\n            'v': 289.0,\n            'f': \"289.0\",\n        }]],\n        columns: [[\"number\", \"index\"], [\"string\", \"App Name\"], [\"string\", \"Category\"], [\"number\", \"Rating\"], [\"number\", \"Rating Count\"], [\"string\", \"Free\"], [\"number\", \"Price\"], [\"string\", \"Currency\"], [\"string\", \"Size\"], [\"string\", \"Minimum Android\"], [\"string\", \"Developer Id\"], [\"string\", \"Released\"], [\"string\", \"Last Updated\"], [\"string\", \"Content Rating\"], [\"string\", \"Ad Supported\"], [\"string\", \"In App Purchases\"], [\"string\", \"Editors Choice\"], [\"number\", \"Install No.\"]],\n        columnOptions: [{\"width\": \"1px\", \"className\": \"index_column\"}],\n        rowsPerPage: 25,\n        helpUrl: \"https://colab.research.google.com/notebooks/data_table.ipynb\",\n        suppressOutputScrolling: true,\n        minimumWidth: undefined,\n      });\n    ",
            "text/html": [
              "\n",
              "  <div id=\"df-08da2094-916b-41a4-8388-bc6dea2e5a32\">\n",
              "    <div class=\"colab-df-container\">\n",
              "      <div>\n",
              "<style scoped>\n",
              "    .dataframe tbody tr th:only-of-type {\n",
              "        vertical-align: middle;\n",
              "    }\n",
              "\n",
              "    .dataframe tbody tr th {\n",
              "        vertical-align: top;\n",
              "    }\n",
              "\n",
              "    .dataframe thead th {\n",
              "        text-align: right;\n",
              "    }\n",
              "</style>\n",
              "<table border=\"1\" class=\"dataframe\">\n",
              "  <thead>\n",
              "    <tr style=\"text-align: right;\">\n",
              "      <th></th>\n",
              "      <th>App Name</th>\n",
              "      <th>Category</th>\n",
              "      <th>Rating</th>\n",
              "      <th>Rating Count</th>\n",
              "      <th>Free</th>\n",
              "      <th>Price</th>\n",
              "      <th>Currency</th>\n",
              "      <th>Size</th>\n",
              "      <th>Minimum Android</th>\n",
              "      <th>Developer Id</th>\n",
              "      <th>Released</th>\n",
              "      <th>Last Updated</th>\n",
              "      <th>Content Rating</th>\n",
              "      <th>Ad Supported</th>\n",
              "      <th>In App Purchases</th>\n",
              "      <th>Editors Choice</th>\n",
              "      <th>Install No.</th>\n",
              "    </tr>\n",
              "  </thead>\n",
              "  <tbody>\n",
              "    <tr>\n",
              "      <th>0</th>\n",
              "      <td>Gakondo</td>\n",
              "      <td>Adventure</td>\n",
              "      <td>0.0</td>\n",
              "      <td>0</td>\n",
              "      <td>True</td>\n",
              "      <td>0.0</td>\n",
              "      <td>USD</td>\n",
              "      <td>10M</td>\n",
              "      <td>7.1 and up</td>\n",
              "      <td>Jean Confident Irénée NIYIZIBYOSE</td>\n",
              "      <td>Feb 26, 2020</td>\n",
              "      <td>Feb 26, 2020</td>\n",
              "      <td>Everyone</td>\n",
              "      <td>False</td>\n",
              "      <td>False</td>\n",
              "      <td>False</td>\n",
              "      <td>12.5</td>\n",
              "    </tr>\n",
              "    <tr>\n",
              "      <th>1</th>\n",
              "      <td>Ampere Battery Info</td>\n",
              "      <td>Tools</td>\n",
              "      <td>4.4</td>\n",
              "      <td>64</td>\n",
              "      <td>True</td>\n",
              "      <td>0.0</td>\n",
              "      <td>USD</td>\n",
              "      <td>2.9M</td>\n",
              "      <td>5.0 and up</td>\n",
              "      <td>Webserveis</td>\n",
              "      <td>May 21, 2020</td>\n",
              "      <td>May 06, 2021</td>\n",
              "      <td>Everyone</td>\n",
              "      <td>True</td>\n",
              "      <td>False</td>\n",
              "      <td>False</td>\n",
              "      <td>6331.0</td>\n",
              "    </tr>\n",
              "    <tr>\n",
              "      <th>2</th>\n",
              "      <td>Vibook</td>\n",
              "      <td>Productivity</td>\n",
              "      <td>0.0</td>\n",
              "      <td>0</td>\n",
              "      <td>True</td>\n",
              "      <td>0.0</td>\n",
              "      <td>USD</td>\n",
              "      <td>3.7M</td>\n",
              "      <td>4.0.3 and up</td>\n",
              "      <td>Cabin Crew</td>\n",
              "      <td>Aug 9, 2019</td>\n",
              "      <td>Aug 19, 2019</td>\n",
              "      <td>Everyone</td>\n",
              "      <td>False</td>\n",
              "      <td>False</td>\n",
              "      <td>False</td>\n",
              "      <td>54.0</td>\n",
              "    </tr>\n",
              "    <tr>\n",
              "      <th>3</th>\n",
              "      <td>Smart City Trichy Public Service Vehicles 17UC...</td>\n",
              "      <td>Communication</td>\n",
              "      <td>5.0</td>\n",
              "      <td>5</td>\n",
              "      <td>True</td>\n",
              "      <td>0.0</td>\n",
              "      <td>USD</td>\n",
              "      <td>1.8M</td>\n",
              "      <td>4.0.3 and up</td>\n",
              "      <td>Climate Smart Tech2</td>\n",
              "      <td>Sep 10, 2018</td>\n",
              "      <td>Oct 13, 2018</td>\n",
              "      <td>Everyone</td>\n",
              "      <td>True</td>\n",
              "      <td>False</td>\n",
              "      <td>False</td>\n",
              "      <td>14.5</td>\n",
              "    </tr>\n",
              "    <tr>\n",
              "      <th>4</th>\n",
              "      <td>GROW.me</td>\n",
              "      <td>Tools</td>\n",
              "      <td>0.0</td>\n",
              "      <td>0</td>\n",
              "      <td>True</td>\n",
              "      <td>0.0</td>\n",
              "      <td>USD</td>\n",
              "      <td>6.2M</td>\n",
              "      <td>4.1 and up</td>\n",
              "      <td>Rafal Milek-Horodyski</td>\n",
              "      <td>Feb 21, 2020</td>\n",
              "      <td>Nov 12, 2018</td>\n",
              "      <td>Everyone</td>\n",
              "      <td>False</td>\n",
              "      <td>False</td>\n",
              "      <td>False</td>\n",
              "      <td>289.0</td>\n",
              "    </tr>\n",
              "  </tbody>\n",
              "</table>\n",
              "</div>\n",
              "      <button class=\"colab-df-convert\" onclick=\"convertToInteractive('df-08da2094-916b-41a4-8388-bc6dea2e5a32')\"\n",
              "              title=\"Convert this dataframe to an interactive table.\"\n",
              "              style=\"display:none;\">\n",
              "        \n",
              "  <svg xmlns=\"http://www.w3.org/2000/svg\" height=\"24px\"viewBox=\"0 0 24 24\"\n",
              "       width=\"24px\">\n",
              "    <path d=\"M0 0h24v24H0V0z\" fill=\"none\"/>\n",
              "    <path d=\"M18.56 5.44l.94 2.06.94-2.06 2.06-.94-2.06-.94-.94-2.06-.94 2.06-2.06.94zm-11 1L8.5 8.5l.94-2.06 2.06-.94-2.06-.94L8.5 2.5l-.94 2.06-2.06.94zm10 10l.94 2.06.94-2.06 2.06-.94-2.06-.94-.94-2.06-.94 2.06-2.06.94z\"/><path d=\"M17.41 7.96l-1.37-1.37c-.4-.4-.92-.59-1.43-.59-.52 0-1.04.2-1.43.59L10.3 9.45l-7.72 7.72c-.78.78-.78 2.05 0 2.83L4 21.41c.39.39.9.59 1.41.59.51 0 1.02-.2 1.41-.59l7.78-7.78 2.81-2.81c.8-.78.8-2.07 0-2.86zM5.41 20L4 18.59l7.72-7.72 1.47 1.35L5.41 20z\"/>\n",
              "  </svg>\n",
              "      </button>\n",
              "      \n",
              "  <style>\n",
              "    .colab-df-container {\n",
              "      display:flex;\n",
              "      flex-wrap:wrap;\n",
              "      gap: 12px;\n",
              "    }\n",
              "\n",
              "    .colab-df-convert {\n",
              "      background-color: #E8F0FE;\n",
              "      border: none;\n",
              "      border-radius: 50%;\n",
              "      cursor: pointer;\n",
              "      display: none;\n",
              "      fill: #1967D2;\n",
              "      height: 32px;\n",
              "      padding: 0 0 0 0;\n",
              "      width: 32px;\n",
              "    }\n",
              "\n",
              "    .colab-df-convert:hover {\n",
              "      background-color: #E2EBFA;\n",
              "      box-shadow: 0px 1px 2px rgba(60, 64, 67, 0.3), 0px 1px 3px 1px rgba(60, 64, 67, 0.15);\n",
              "      fill: #174EA6;\n",
              "    }\n",
              "\n",
              "    [theme=dark] .colab-df-convert {\n",
              "      background-color: #3B4455;\n",
              "      fill: #D2E3FC;\n",
              "    }\n",
              "\n",
              "    [theme=dark] .colab-df-convert:hover {\n",
              "      background-color: #434B5C;\n",
              "      box-shadow: 0px 1px 3px 1px rgba(0, 0, 0, 0.15);\n",
              "      filter: drop-shadow(0px 1px 2px rgba(0, 0, 0, 0.3));\n",
              "      fill: #FFFFFF;\n",
              "    }\n",
              "  </style>\n",
              "\n",
              "      <script>\n",
              "        const buttonEl =\n",
              "          document.querySelector('#df-08da2094-916b-41a4-8388-bc6dea2e5a32 button.colab-df-convert');\n",
              "        buttonEl.style.display =\n",
              "          google.colab.kernel.accessAllowed ? 'block' : 'none';\n",
              "\n",
              "        async function convertToInteractive(key) {\n",
              "          const element = document.querySelector('#df-08da2094-916b-41a4-8388-bc6dea2e5a32');\n",
              "          const dataTable =\n",
              "            await google.colab.kernel.invokeFunction('convertToInteractive',\n",
              "                                                     [key], {});\n",
              "          if (!dataTable) return;\n",
              "\n",
              "          const docLinkHtml = 'Like what you see? Visit the ' +\n",
              "            '<a target=\"_blank\" href=https://colab.research.google.com/notebooks/data_table.ipynb>data table notebook</a>'\n",
              "            + ' to learn more about interactive tables.';\n",
              "          element.innerHTML = '';\n",
              "          dataTable['output_type'] = 'display_data';\n",
              "          await google.colab.output.renderOutput(dataTable, element);\n",
              "          const docLink = document.createElement('div');\n",
              "          docLink.innerHTML = docLinkHtml;\n",
              "          element.appendChild(docLink);\n",
              "        }\n",
              "      </script>\n",
              "    </div>\n",
              "  </div>\n",
              "  "
            ],
            "text/plain": [
              "                                            App Name       Category  Rating  \\\n",
              "0                                            Gakondo      Adventure     0.0   \n",
              "1                                Ampere Battery Info          Tools     4.4   \n",
              "2                                             Vibook   Productivity     0.0   \n",
              "3  Smart City Trichy Public Service Vehicles 17UC...  Communication     5.0   \n",
              "4                                            GROW.me          Tools     0.0   \n",
              "\n",
              "   Rating Count  Free  Price Currency  Size Minimum Android  \\\n",
              "0             0  True    0.0      USD   10M      7.1 and up   \n",
              "1            64  True    0.0      USD  2.9M      5.0 and up   \n",
              "2             0  True    0.0      USD  3.7M    4.0.3 and up   \n",
              "3             5  True    0.0      USD  1.8M    4.0.3 and up   \n",
              "4             0  True    0.0      USD  6.2M      4.1 and up   \n",
              "\n",
              "                        Developer Id      Released  Last Updated  \\\n",
              "0  Jean Confident Irénée NIYIZIBYOSE  Feb 26, 2020  Feb 26, 2020   \n",
              "1                         Webserveis  May 21, 2020  May 06, 2021   \n",
              "2                         Cabin Crew   Aug 9, 2019  Aug 19, 2019   \n",
              "3                Climate Smart Tech2  Sep 10, 2018  Oct 13, 2018   \n",
              "4              Rafal Milek-Horodyski  Feb 21, 2020  Nov 12, 2018   \n",
              "\n",
              "  Content Rating  Ad Supported  In App Purchases  Editors Choice  Install No.  \n",
              "0       Everyone         False             False           False         12.5  \n",
              "1       Everyone          True             False           False       6331.0  \n",
              "2       Everyone         False             False           False         54.0  \n",
              "3       Everyone          True             False           False         14.5  \n",
              "4       Everyone         False             False           False        289.0  "
            ]
          },
          "metadata": {},
          "execution_count": 60
        }
      ]
    },
    {
      "cell_type": "markdown",
      "source": [
        "### Year\n"
      ],
      "metadata": {
        "id": "etLM-Tu6UD1_"
      },
      "id": "etLM-Tu6UD1_"
    },
    {
      "cell_type": "code",
      "source": [
        "yearly_released = df[\"Released\"].dt.year.value_counts() "
      ],
      "metadata": {
        "id": "WHZGD9ADeeBD"
      },
      "execution_count": null,
      "outputs": [],
      "id": "WHZGD9ADeeBD"
    },
    {
      "cell_type": "code",
      "source": [
        "yearly_updates = df[\"Last Updated\"].dt.year.value_counts() "
      ],
      "metadata": {
        "id": "z5WeZx4ZkfpB"
      },
      "id": "z5WeZx4ZkfpB",
      "execution_count": null,
      "outputs": []
    },
    {
      "cell_type": "code",
      "source": [
        "plt.figure(figsize=(10,6))\n",
        "# width = 0.25\n",
        "plt.bar(yearly_released.index, yearly_released, Label=\"Released Apps\")\n",
        "# plt.bar(yearly_updates.index + width, yearly_updates, width= 0.5,  Label=\"Last Updated Apps\")\n",
        "plt.title(\"Yearwise Number of Released Apps\")\n",
        "plt.xlabel(\"Year\")\n",
        "plt.ylabel(\"Number of Apps\")\n",
        "# plt.tight_layout()\n",
        "plt.show()\n"
      ],
      "metadata": {
        "id": "JyYgbGtKtaU8",
        "colab": {
          "base_uri": "https://localhost:8080/",
          "height": 405
        },
        "outputId": "dd85310c-2f48-41a1-b83a-1c012cddbe3c"
      },
      "id": "JyYgbGtKtaU8",
      "execution_count": null,
      "outputs": [
        {
          "output_type": "display_data",
          "data": {
            "image/png": "[encoded data removed]",
            "text/plain": [
              "<Figure size 720x432 with 1 Axes>"
            ]
          },
          "metadata": {
            "needs_background": "light"
          }
        }
      ]
    },
    {
      "cell_type": "code",
      "source": [
        "yearly_installs = df.groupby(df[\"Released\"].dt.year)['Install No.'].agg('sum')"
      ],
      "metadata": {
        "id": "QfgV6H5Fme7H"
      },
      "id": "QfgV6H5Fme7H",
      "execution_count": null,
      "outputs": []
    },
    {
      "cell_type": "code",
      "source": [
        "plt.bar(yearly_installs.index, yearly_installs)"
      ],
      "metadata": {
        "id": "NIMbKlpUme3y",
        "outputId": "2f0b9c56-159b-4afa-c468-220f4c43bb10",
        "colab": {
          "base_uri": "https://localhost:8080/",
          "height": 290
        }
      },
      "id": "NIMbKlpUme3y",
      "execution_count": null,
      "outputs": [
        {
          "output_type": "execute_result",
          "data": {
            "text/plain": [
              "<BarContainer object of 12 artists>"
            ]
          },
          "metadata": {},
          "execution_count": 130
        },
        {
          "output_type": "display_data",
          "data": {
            "image/png": "[encoded data removed]",
            "text/plain": [
              "<Figure size 432x288 with 1 Axes>"
            ]
          },
          "metadata": {
            "needs_background": "light"
          }
        }
      ]
    },
    {
      "cell_type": "code",
      "source": [
        "yearly_data =  df.groupby(df[\"Released\"].dt.year)\n",
        "year_2020 = yearly_data.get_group(2020)"
      ],
      "metadata": {
        "id": "6Pyk6-aWOPR2"
      },
      "id": "6Pyk6-aWOPR2",
      "execution_count": null,
      "outputs": []
    },
    {
      "cell_type": "code",
      "source": [
        "print(year_2020.shape[0]*100 / len(df))\n",
        "print(year_2020.shape[0])"
      ],
      "metadata": {
        "id": "uJWe2ZWQqh6r",
        "outputId": "a3f50786-af72-4de9-ffd9-b2b1cf07dea9",
        "colab": {
          "base_uri": "https://localhost:8080/"
        }
      },
      "id": "uJWe2ZWQqh6r",
      "execution_count": null,
      "outputs": [
        {
          "output_type": "stream",
          "name": "stdout",
          "text": [
            "24.261590728312093\n",
            "542314\n"
          ]
        }
      ]
    },
    {
      "cell_type": "code",
      "source": [
        "cat_2020 = year_2020.Category.value_counts()"
      ],
      "metadata": {
        "id": "8_Ei1Gf0qhzd"
      },
      "id": "8_Ei1Gf0qhzd",
      "execution_count": null,
      "outputs": []
    },
    {
      "cell_type": "code",
      "source": [
        "plt.barh(y=cat_2020.index[:10], width=cat_2020[:10])"
      ],
      "metadata": {
        "id": "ngIvj1k5qhvp",
        "outputId": "07eaec3b-9119-468f-80bd-dd66271861d3",
        "colab": {
          "base_uri": "https://localhost:8080/",
          "height": 279
        }
      },
      "id": "ngIvj1k5qhvp",
      "execution_count": null,
      "outputs": [
        {
          "output_type": "execute_result",
          "data": {
            "text/plain": [
              "<BarContainer object of 10 artists>"
            ]
          },
          "metadata": {},
          "execution_count": 157
        },
        {
          "output_type": "display_data",
          "data": {
            "image/png": "[encoded data removed]",
            "text/plain": [
              "<Figure size 432x288 with 1 Axes>"
            ]
          },
          "metadata": {
            "needs_background": "light"
          }
        }
      ]
    },
    {
      "cell_type": "code",
      "source": [
        "month_released = year_2020[\"Released\"].dt.month.value_counts() "
      ],
      "metadata": {
        "id": "sggB9Cvrqhsl"
      },
      "id": "sggB9Cvrqhsl",
      "execution_count": null,
      "outputs": []
    },
    {
      "cell_type": "code",
      "source": [
        "plt.figure(figsize=(10,6))\n",
        "# width = 0.25\n",
        "plt.bar(month_released.index, month_released, Label=\"Released Apps\")\n",
        "# plt.bar(yearly_updates.index + width, yearly_updates, width= 0.5,  Label=\"Last Updated Apps\")\n",
        "plt.title(\"Monthwise Number of Released Apps in 2020\")\n",
        "plt.xlabel(\"Months in 2020\")\n",
        "plt.ylabel(\"Number of Apps\")\n",
        "plt.tight_layout()\n",
        "plt.show()"
      ],
      "metadata": {
        "id": "6lztdxG8qhpl",
        "outputId": "c9c44d13-bc64-466f-9dfc-1ba03c8bf8af",
        "colab": {
          "base_uri": "https://localhost:8080/",
          "height": 441
        }
      },
      "id": "6lztdxG8qhpl",
      "execution_count": null,
      "outputs": [
        {
          "output_type": "display_data",
          "data": {
            "image/png": "[encoded data removed]",
            "text/plain": [
              "<Figure size 720x432 with 1 Axes>"
            ]
          },
          "metadata": {
            "needs_background": "light"
          }
        }
      ]
    },
    {
      "cell_type": "code",
      "source": [
        "cat_installs = year_2020.groupby('Category')['Install No.'].agg(np.sum).sort_values(ascending=False)"
      ],
      "metadata": {
        "id": "P5CG1yPhs6WI"
      },
      "id": "P5CG1yPhs6WI",
      "execution_count": null,
      "outputs": []
    },
    {
      "cell_type": "code",
      "source": [
        "plt.barh(cat_installs.index[:15],  cat_installs[:15])\n",
        "plt.xscale('log')"
      ],
      "metadata": {
        "id": "6tS3lrNPs6TC",
        "outputId": "7fdd85f3-006f-4f5b-c1fa-d6284e5934ef",
        "colab": {
          "base_uri": "https://localhost:8080/",
          "height": 266
        }
      },
      "id": "6tS3lrNPs6TC",
      "execution_count": null,
      "outputs": [
        {
          "output_type": "display_data",
          "data": {
            "image/png": "[encoded data removed]",
            "text/plain": [
              "<Figure size 432x288 with 1 Axes>"
            ]
          },
          "metadata": {
            "needs_background": "light"
          }
        }
      ]
    },
    {
      "cell_type": "code",
      "source": [
        "cat_rating = year_2020.groupby('Category')['Rating'].agg(np.mean).sort_values(ascending=False)"
      ],
      "metadata": {
        "id": "jGqNvQDvs6QL"
      },
      "id": "jGqNvQDvs6QL",
      "execution_count": null,
      "outputs": []
    },
    {
      "cell_type": "code",
      "source": [
        "cat_rating"
      ],
      "metadata": {
        "id": "nBUcG0was6Nb",
        "outputId": "1d185f2c-ee9c-4e32-a079-1a1a81a923bc",
        "colab": {
          "base_uri": "https://localhost:8080/"
        }
      },
      "id": "nBUcG0was6Nb",
      "execution_count": null,
      "outputs": [
        {
          "output_type": "execute_result",
          "data": {
            "text/plain": [
              "Category\n",
              "Role Playing               3.145144\n",
              "Simulation                 3.052948\n",
              "Weather                    2.968587\n",
              "Music                      2.876143\n",
              "Video Players & Editors    2.854594\n",
              "Casino                     2.848868\n",
              "Adventure                  2.615634\n",
              "Card                       2.614241\n",
              "Racing                     2.603303\n",
              "Comics                     2.564718\n",
              "Dating                     2.529269\n",
              "Strategy                   2.516928\n",
              "Word                       2.507171\n",
              "Action                     2.497183\n",
              "Trivia                     2.422842\n",
              "Personalization            2.390536\n",
              "Entertainment              2.337906\n",
              "Board                      2.336662\n",
              "Puzzle                     2.321786\n",
              "Arcade                     2.228376\n",
              "Social                     2.198847\n",
              "Casual                     2.142419\n",
              "Libraries & Demo           2.112553\n",
              "Tools                      2.069404\n",
              "Education                  2.044746\n",
              "Finance                    2.020874\n",
              "News & Magazines           2.002280\n",
              "Art & Design               1.998077\n",
              "Parenting                  1.953953\n",
              "Educational                1.942571\n",
              "Books & Reference          1.931312\n",
              "Photography                1.903778\n",
              "Music & Audio              1.889821\n",
              "Sports                     1.864974\n",
              "Communication              1.859803\n",
              "Shopping                   1.737453\n",
              "Maps & Navigation          1.697869\n",
              "Auto & Vehicles            1.661452\n",
              "Productivity               1.508253\n",
              "Travel & Local             1.427346\n",
              "Medical                    1.401150\n",
              "Lifestyle                  1.393333\n",
              "Beauty                     1.349250\n",
              "Health & Fitness           1.169362\n",
              "House & Home               1.164845\n",
              "Business                   1.092613\n",
              "Food & Drink               1.051995\n",
              "Events                     1.025644\n",
              "Name: Rating, dtype: float64"
            ]
          },
          "metadata": {},
          "execution_count": 177
        }
      ]
    },
    {
      "cell_type": "markdown",
      "id": "fcb0755d-9b78-422a-bd95-e3cdbdb431c8",
      "metadata": {
        "id": "fcb0755d-9b78-422a-bd95-e3cdbdb431c8"
      },
      "source": [
        "## Ask & Answer Question \n",
        "\n",
        "1. Something is not right with data column rating count because around 75% of the data below the 42 rating count ???\n",
        "2. How many application category are there in dataset ??\n",
        "3. Compair free apps and not free apps \n",
        "   - Only around 2% of the apps into dataset are paid apps.\n",
        "4. Which category has most paid apps ?\n",
        "5. Which category has most free apps?\n",
        "6. Which category apps most number of editor choice apps ?\n",
        "7. Classify apps into content rating\n"
      ]
    },
    {
      "cell_type": "code",
      "execution_count": null,
      "id": "76de2b0a-53dc-4ec6-ac30-0793d60e639a",
      "metadata": {
        "id": "76de2b0a-53dc-4ec6-ac30-0793d60e639a"
      },
      "outputs": [],
      "source": [
        ""
      ]
    },
    {
      "cell_type": "code",
      "execution_count": null,
      "id": "6228464b-4540-4acc-91e3-30016eaff243",
      "metadata": {
        "id": "6228464b-4540-4acc-91e3-30016eaff243"
      },
      "outputs": [],
      "source": [
        ""
      ]
    },
    {
      "cell_type": "code",
      "execution_count": null,
      "id": "f66485dd-7c57-4f62-84e0-8d558910e46f",
      "metadata": {
        "id": "f66485dd-7c57-4f62-84e0-8d558910e46f"
      },
      "outputs": [],
      "source": [
        ""
      ]
    },
    {
      "cell_type": "markdown",
      "id": "379b4a97-54ce-4d28-9974-8bf74839330d",
      "metadata": {
        "id": "379b4a97-54ce-4d28-9974-8bf74839330d"
      },
      "source": [
        "## Summary and Conclusion"
      ]
    },
    {
      "cell_type": "code",
      "execution_count": null,
      "id": "6689d144-8a00-4975-9009-10fa8f41c5d5",
      "metadata": {
        "id": "6689d144-8a00-4975-9009-10fa8f41c5d5"
      },
      "outputs": [],
      "source": [
        ""
      ]
    },
    {
      "cell_type": "code",
      "execution_count": null,
      "id": "a6be4a84-d757-4c37-a5bd-06d80ea84711",
      "metadata": {
        "id": "a6be4a84-d757-4c37-a5bd-06d80ea84711"
      },
      "outputs": [],
      "source": [
        ""
      ]
    },
    {
      "cell_type": "code",
      "execution_count": null,
      "id": "fb8b3de1-0cfd-4d84-891b-912bdc645abd",
      "metadata": {
        "id": "fb8b3de1-0cfd-4d84-891b-912bdc645abd"
      },
      "outputs": [],
      "source": [
        ""
      ]
    },
    {
      "cell_type": "code",
      "execution_count": null,
      "id": "a6d2f486-7e8b-41e5-a36b-3c50c410d35c",
      "metadata": {
        "id": "a6d2f486-7e8b-41e5-a36b-3c50c410d35c"
      },
      "outputs": [],
      "source": [
        ""
      ]
    },
    {
      "cell_type": "code",
      "execution_count": null,
      "id": "98ace07e-7414-4f68-83d5-739abddc6c50",
      "metadata": {
        "id": "98ace07e-7414-4f68-83d5-739abddc6c50"
      },
      "outputs": [],
      "source": [
        ""
      ]
    },
    {
      "cell_type": "code",
      "execution_count": null,
      "id": "40a77396-9535-4349-8036-afc88e805976",
      "metadata": {
        "id": "40a77396-9535-4349-8036-afc88e805976"
      },
      "outputs": [],
      "source": [
        ""
      ]
    },
    {
      "cell_type": "code",
      "execution_count": null,
      "id": "83ed74d5-da46-4856-9f70-548829b874e1",
      "metadata": {
        "id": "83ed74d5-da46-4856-9f70-548829b874e1"
      },
      "outputs": [],
      "source": [
        ""
      ]
    },
    {
      "cell_type": "code",
      "execution_count": null,
      "id": "86e1d069-8eeb-426f-bbdd-18cdebdcc896",
      "metadata": {
        "id": "86e1d069-8eeb-426f-bbdd-18cdebdcc896"
      },
      "outputs": [],
      "source": [
        ""
      ]
    }
  ],
  "metadata": {
    "kernelspec": {
      "display_name": "Python 3",
      "language": "python",
      "name": "python3"
    },
    "language_info": {
      "codemirror_mode": {
        "name": "ipython",
        "version": 3
      },
      "file_extension": ".py",
      "mimetype": "text/x-python",
      "name": "python",
      "nbconvert_exporter": "python",
      "pygments_lexer": "ipython3",
      "version": "3.9.8"
    },
    "colab": {
      "name": "Copy of Copy of EDA_on_applications.ipynb",
      "provenance": [],
      "collapsed_sections": [
        "7ecee425-250d-4f0a-b02a-dfb7e3db5561",
        "ea790ef1-80a1-4c27-9054-3e2278498537",
        "6d2ba773-c699-4846-ada8-77e2c01fe273",
        "QKTapzf55jDc",
        "_ETjypRe4qpi",
        "lZS1cdVGOXwZ",
        "jKOyhD8tVNrK"
      ],
      "include_colab_link": true
    }
  },
  "nbformat": 4,
  "nbformat_minor": 5
}